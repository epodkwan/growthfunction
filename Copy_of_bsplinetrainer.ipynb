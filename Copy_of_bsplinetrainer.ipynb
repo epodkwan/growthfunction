{
  "cells": [
    {
      "cell_type": "markdown",
      "metadata": {
        "id": "view-in-github",
        "colab_type": "text"
      },
      "source": [
        "<a href=\"https://colab.research.google.com/github/epodkwan/growthfunction/blob/main/Copy_of_bsplinetrainer.ipynb\" target=\"_parent\"><img src=\"https://colab.research.google.com/assets/colab-badge.svg\" alt=\"Open In Colab\"/></a>"
      ]
    },
    {
      "cell_type": "code",
      "execution_count": 1,
      "metadata": {
        "colab": {
          "base_uri": "https://localhost:8080/"
        },
        "id": "OgZPjwP-NEwE",
        "outputId": "01c4bd5c-4a48-41ab-e1e3-0c36a94592c7"
      },
      "outputs": [
        {
          "output_type": "stream",
          "name": "stdout",
          "text": [
            "Looking in indexes: https://pypi.org/simple, https://us-python.pkg.dev/colab-wheels/public/simple/\n",
            "Requirement already satisfied: flax in /usr/local/lib/python3.7/dist-packages (0.5.3)\n",
            "Requirement already satisfied: matplotlib in /usr/local/lib/python3.7/dist-packages (from flax) (3.2.2)\n",
            "Requirement already satisfied: rich~=11.1 in /usr/local/lib/python3.7/dist-packages (from flax) (11.2.0)\n",
            "Requirement already satisfied: PyYAML>=5.4.1 in /usr/local/lib/python3.7/dist-packages (from flax) (6.0)\n",
            "Requirement already satisfied: msgpack in /usr/local/lib/python3.7/dist-packages (from flax) (1.0.4)\n",
            "Requirement already satisfied: tensorstore in /usr/local/lib/python3.7/dist-packages (from flax) (0.1.22)\n",
            "Requirement already satisfied: optax in /usr/local/lib/python3.7/dist-packages (from flax) (0.1.3)\n",
            "Requirement already satisfied: jax>=0.3.2 in /usr/local/lib/python3.7/dist-packages (from flax) (0.3.14)\n",
            "Requirement already satisfied: typing-extensions>=4.1.1 in /usr/local/lib/python3.7/dist-packages (from flax) (4.1.1)\n",
            "Requirement already satisfied: numpy>=1.12 in /usr/local/lib/python3.7/dist-packages (from flax) (1.21.6)\n",
            "Requirement already satisfied: scipy>=1.5 in /usr/local/lib/python3.7/dist-packages (from jax>=0.3.2->flax) (1.7.3)\n",
            "Requirement already satisfied: absl-py in /usr/local/lib/python3.7/dist-packages (from jax>=0.3.2->flax) (1.2.0)\n",
            "Requirement already satisfied: etils[epath] in /usr/local/lib/python3.7/dist-packages (from jax>=0.3.2->flax) (0.6.0)\n",
            "Requirement already satisfied: opt-einsum in /usr/local/lib/python3.7/dist-packages (from jax>=0.3.2->flax) (3.3.0)\n",
            "Requirement already satisfied: colorama<0.5.0,>=0.4.0 in /usr/local/lib/python3.7/dist-packages (from rich~=11.1->flax) (0.4.5)\n",
            "Requirement already satisfied: pygments<3.0.0,>=2.6.0 in /usr/local/lib/python3.7/dist-packages (from rich~=11.1->flax) (2.6.1)\n",
            "Requirement already satisfied: commonmark<0.10.0,>=0.9.0 in /usr/local/lib/python3.7/dist-packages (from rich~=11.1->flax) (0.9.1)\n",
            "Requirement already satisfied: importlib_resources in /usr/local/lib/python3.7/dist-packages (from etils[epath]->jax>=0.3.2->flax) (5.9.0)\n",
            "Requirement already satisfied: zipp in /usr/local/lib/python3.7/dist-packages (from etils[epath]->jax>=0.3.2->flax) (3.8.1)\n",
            "Requirement already satisfied: python-dateutil>=2.1 in /usr/local/lib/python3.7/dist-packages (from matplotlib->flax) (2.8.2)\n",
            "Requirement already satisfied: cycler>=0.10 in /usr/local/lib/python3.7/dist-packages (from matplotlib->flax) (0.11.0)\n",
            "Requirement already satisfied: kiwisolver>=1.0.1 in /usr/local/lib/python3.7/dist-packages (from matplotlib->flax) (1.4.4)\n",
            "Requirement already satisfied: pyparsing!=2.0.4,!=2.1.2,!=2.1.6,>=2.0.1 in /usr/local/lib/python3.7/dist-packages (from matplotlib->flax) (3.0.9)\n",
            "Requirement already satisfied: six>=1.5 in /usr/local/lib/python3.7/dist-packages (from python-dateutil>=2.1->matplotlib->flax) (1.15.0)\n",
            "Requirement already satisfied: jaxlib>=0.1.37 in /usr/local/lib/python3.7/dist-packages (from optax->flax) (0.3.14+cuda11.cudnn805)\n",
            "Requirement already satisfied: chex>=0.0.4 in /usr/local/lib/python3.7/dist-packages (from optax->flax) (0.1.4)\n",
            "Requirement already satisfied: dm-tree>=0.1.5 in /usr/local/lib/python3.7/dist-packages (from chex>=0.0.4->optax->flax) (0.1.7)\n",
            "Requirement already satisfied: toolz>=0.9.0 in /usr/local/lib/python3.7/dist-packages (from chex>=0.0.4->optax->flax) (0.12.0)\n",
            "Requirement already satisfied: flatbuffers<3.0,>=1.12 in /usr/local/lib/python3.7/dist-packages (from jaxlib>=0.1.37->optax->flax) (2.0)\n"
          ]
        }
      ],
      "source": [
        "!pip install flax"
      ]
    },
    {
      "cell_type": "code",
      "execution_count": 2,
      "metadata": {
        "id": "GXP7APTktM23"
      },
      "outputs": [],
      "source": [
        "from typing import Sequence\n",
        "import jax\n",
        "import optax\n",
        "import numpy as np\n",
        "import jax.numpy as jnp\n",
        "from jax import jit,random,vmap\n",
        "from flax import linen as nn\n",
        "from flax.training import train_state,checkpoints\n",
        "import matplotlib.pyplot as plt"
      ]
    },
    {
      "cell_type": "code",
      "execution_count": 3,
      "metadata": {
        "id": "Wsb6hTLBtacv"
      },
      "outputs": [],
      "source": [
        "class SimpleMLP(nn.Module):\n",
        "    features:Sequence[int]\n",
        "    nodes:int\n",
        "\n",
        "    @nn.compact\n",
        "    def __call__(self,inputs):\n",
        "        x=inputs\n",
        "        for i,feat in enumerate(self.features):\n",
        "            x=nn.Dense(feat)(x)\n",
        "            x=jnp.sin(x)\n",
        "        t=nn.Dense(nodes-1)(x)\n",
        "        c=nn.Dense(nodes+1)(x)\n",
        "        t=jnp.concatenate([jnp.zeros((t.shape[0],4)),jnp.cumsum(jax.nn.softmax(t),axis=1),jnp.ones((t.shape[0],3))],axis=1)\n",
        "        c=jnp.concatenate([jnp.zeros((c.shape[0],1)),c],axis=1)\n",
        "        return t,c"
      ]
    },
    {
      "cell_type": "code",
      "execution_count": 4,
      "metadata": {
        "id": "seVyHnrBtU9a"
      },
      "outputs": [],
      "source": [
        "def npy_loader(path):\n",
        "    return jnp.load(path)"
      ]
    },
    {
      "cell_type": "code",
      "source": [
        "@jit\n",
        "def _deBoorVectorized(x,t,c):\n",
        "    p=3\n",
        "    k=jnp.digitize(x,t)-1\n",
        "    d=[c[j+k-p] for j in range(0,p+1)]\n",
        "    for r in range(1,p+1):\n",
        "        for j in range(p,r-1,-1):\n",
        "            alpha=(x-t[j+k-p])/(t[j+1+k-r]-t[j+k-p])\n",
        "            d[j]=(1.0-alpha)*d[j-1]+alpha*d[j]\n",
        "    return d[p]"
      ],
      "metadata": {
        "id": "04vwJv7pMgwz"
      },
      "execution_count": 5,
      "outputs": []
    },
    {
      "cell_type": "code",
      "execution_count": 6,
      "metadata": {
        "id": "wQ0f5JoEteu2"
      },
      "outputs": [],
      "source": [
        "layer_sizes=[64,64]\n",
        "nodes=16\n",
        "learning_rate=1e-3\n",
        "epochs=100000\n",
        "model=SimpleMLP(features=layer_sizes,nodes=nodes)\n",
        "temp=jnp.array([[1,1]])\n",
        "params=model.init(random.PRNGKey(0),temp)\n",
        "tx=optax.adam(learning_rate=learning_rate)\n",
        "opt_state=tx.init(params)\n",
        "deBoor=vmap(_deBoorVectorized,in_axes=(None,0,0))"
      ]
    },
    {
      "cell_type": "code",
      "source": [
        "@jit\n",
        "def eval_func(params,x,a):\n",
        "    t,c=model.apply(params,x)\n",
        "    preds=deBoor(jnp.clip(a,0,0.999),t,c)\n",
        "    return preds"
      ],
      "metadata": {
        "id": "fGSxL7n_Y6LA"
      },
      "execution_count": 7,
      "outputs": []
    },
    {
      "cell_type": "code",
      "execution_count": 8,
      "metadata": {
        "id": "Q4ETnEgYtiz4"
      },
      "outputs": [],
      "source": [
        "@jit\n",
        "def mse_loss(params,x,y_ref,a):\n",
        "    preds=eval_func(params,x,a)\n",
        "    diff=preds-y_ref\n",
        "    return jnp.mean(diff*diff)"
      ]
    },
    {
      "cell_type": "code",
      "execution_count": 9,
      "metadata": {
        "id": "5KYoOW_TtkmZ"
      },
      "outputs": [],
      "source": [
        "@jit\n",
        "def train_step(params,opt_state,x,y_ref,a):\n",
        "    loss,grads=jax.value_and_grad(mse_loss,argnums=0)(params,x,y_ref,a)\n",
        "    updates,opt_state=tx.update(grads,opt_state)\n",
        "    params=optax.apply_updates(params,updates)\n",
        "    return loss,params,opt_state"
      ]
    },
    {
      "cell_type": "code",
      "execution_count": 10,
      "metadata": {
        "id": "w5SOhOLwaCFU"
      },
      "outputs": [],
      "source": [
        "@jit\n",
        "def epoch_step(x_train,y_train,params,opt_state,order,a):\n",
        "    order=random.permutation(random.PRNGKey(i),order)\n",
        "    train_loss=0\n",
        "    for j in range(25):\n",
        "        x_batch=x_train[order[32*j:32*(j+1)],:]\n",
        "        y_batch=y_train[order[32*j:32*(j+1)],:]\n",
        "        loss,params,opt_state=train_step(params,opt_state,x_batch,y_batch,a)\n",
        "        train_loss=train_loss+loss\n",
        "    return train_loss,params"
      ]
    },
    {
      "cell_type": "code",
      "execution_count": 11,
      "metadata": {
        "id": "kspaBRb5xVKq",
        "colab": {
          "base_uri": "https://localhost:8080/"
        },
        "outputId": "0d55b638-db5b-4220-a709-f6aadcaf5eea"
      },
      "outputs": [
        {
          "output_type": "stream",
          "name": "stdout",
          "text": [
            "Drive already mounted at /content/drive; to attempt to forcibly remount, call drive.mount(\"/content/drive\", force_remount=True).\n"
          ]
        }
      ],
      "source": [
        "from google.colab import drive\n",
        "drive.mount('/content/drive')"
      ]
    },
    {
      "cell_type": "code",
      "execution_count": 12,
      "metadata": {
        "id": "uaH8AxCAtXHD"
      },
      "outputs": [],
      "source": [
        "input_data=npy_loader(\"/content/drive/My Drive/Colab Notebooks/cosmo.npy\")\n",
        "raw_input_result=npy_loader(\"/content/drive/My Drive/Colab Notebooks/combined.npy\")\n",
        "z=npy_loader(\"/content/drive/My Drive/Colab Notebooks/999.npy\")[0,:]\n",
        "input_result=jnp.log(raw_input_result)\n",
        "a=1/(z+1)\n",
        "x_train=jnp.stack((input_data[0:800,0],input_data[0:800,2]),axis=1)\n",
        "y_train=input_result[0:800,:]\n",
        "x_validate=jnp.stack((input_data[800:900,0],input_data[800:900,2]),axis=1)\n",
        "y_validate=input_result[800:900,:]"
      ]
    },
    {
      "cell_type": "code",
      "execution_count": 13,
      "metadata": {
        "id": "XBEEkIgktmtw",
        "colab": {
          "base_uri": "https://localhost:8080/",
          "height": 1000
        },
        "outputId": "6ccd8011-76cc-4478-b867-7548e0b36d72"
      },
      "outputs": [
        {
          "output_type": "stream",
          "name": "stdout",
          "text": [
            "1000 8.16134e-05\n",
            "2000 6.185792e-05\n",
            "3000 4.2428986e-05\n",
            "4000 3.081765e-05\n",
            "5000 3.4413464e-05\n",
            "6000 2.0900474e-05\n",
            "7000 2.4361945e-05\n",
            "8000 2.1529859e-05\n",
            "9000 9.346185e-06\n",
            "10000 8.022951e-06\n",
            "11000 1.1794013e-05\n",
            "12000 6.2293266e-06\n",
            "13000 6.3616244e-06\n",
            "14000 5.9960175e-06\n",
            "15000 7.417733e-06\n",
            "16000 5.4362545e-06\n",
            "17000 4.7260064e-06\n",
            "18000 7.2190523e-06\n",
            "19000 8.06826e-06\n",
            "20000 9.7845395e-06\n",
            "21000 4.0292675e-06\n",
            "22000 5.0289495e-06\n",
            "23000 4.651312e-06\n",
            "24000 4.9073733e-06\n",
            "25000 5.7642615e-06\n",
            "26000 4.7228e-06\n",
            "27000 2.9948178e-06\n",
            "28000 3.061805e-06\n",
            "29000 2.7444153e-06\n",
            "30000 3.7758743e-06\n",
            "31000 3.001569e-06\n",
            "32000 3.4430532e-06\n",
            "33000 3.8525363e-06\n",
            "34000 4.7341828e-06\n",
            "35000 5.330903e-06\n",
            "36000 3.5692017e-06\n",
            "37000 2.3297277e-06\n",
            "38000 3.0240788e-06\n",
            "39000 1.7014263e-06\n",
            "40000 3.409938e-06\n",
            "41000 2.2071354e-06\n",
            "42000 2.2879826e-06\n",
            "43000 3.6098936e-06\n",
            "44000 3.5501316e-06\n",
            "45000 2.9742685e-06\n",
            "46000 3.2357416e-06\n",
            "47000 3.0499612e-06\n",
            "48000 4.010095e-06\n",
            "49000 3.2894864e-06\n",
            "50000 2.4121807e-06\n",
            "51000 2.771248e-06\n",
            "52000 2.8730287e-06\n",
            "53000 3.0286365e-06\n",
            "54000 2.1332141e-06\n",
            "55000 3.3247284e-06\n",
            "56000 3.185106e-06\n",
            "57000 2.0784973e-06\n",
            "58000 3.3168997e-06\n",
            "59000 2.2751178e-06\n",
            "60000 2.370999e-06\n",
            "61000 1.7964543e-06\n",
            "62000 2.419127e-06\n",
            "63000 2.5930442e-06\n",
            "64000 2.4521196e-06\n",
            "65000 2.022159e-06\n",
            "66000 2.4940418e-06\n",
            "67000 1.8469424e-06\n",
            "68000 2.3950784e-06\n",
            "69000 1.782296e-06\n",
            "70000 2.2415013e-06\n",
            "71000 1.8967758e-06\n",
            "72000 1.4066454e-06\n",
            "73000 2.6421958e-06\n",
            "74000 2.6751356e-06\n",
            "75000 2.8225631e-06\n",
            "76000 1.6316603e-06\n",
            "77000 1.4394354e-06\n",
            "78000 1.8830616e-06\n",
            "79000 2.8406787e-06\n",
            "80000 2.2838046e-06\n",
            "81000 2.5918325e-06\n",
            "82000 2.6553485e-06\n",
            "83000 2.9325654e-06\n",
            "84000 2.6218997e-06\n",
            "85000 2.8257843e-06\n",
            "86000 2.87435e-06\n",
            "87000 2.946342e-06\n",
            "88000 2.622966e-06\n",
            "89000 3.084354e-06\n",
            "90000 2.9361058e-06\n",
            "91000 1.7966504e-06\n",
            "92000 3.0231306e-06\n",
            "93000 4.168927e-06\n",
            "94000 3.0305387e-06\n",
            "95000 2.5815818e-06\n",
            "96000 3.52798e-06\n",
            "97000 2.8906268e-06\n",
            "98000 3.5604946e-06\n",
            "99000 2.8980837e-06\n",
            "100000 3.2191497e-06\n",
            "Training ended\n"
          ]
        },
        {
          "output_type": "display_data",
          "data": {
            "text/plain": [
              "<Figure size 432x288 with 1 Axes>"
            ],
            "image/png": "[encoded data removed]"
          },
          "metadata": {
            "needs_background": "light"
          }
        }
      ],
      "source": [
        "order=jnp.arange(800)\n",
        "for i in range(epochs):\n",
        "    train_loss,params=epoch_step(x_train,y_train,params,opt_state,order,a)\n",
        "    if i % 1000 == 999:\n",
        "        train_loss=train_loss/25\n",
        "        validate_loss=mse_loss(params,x_validate,y_validate,a)\n",
        "        print((i+1),validate_loss)\n",
        "        plt.scatter((i+1),train_loss,c='b')\n",
        "        plt.scatter((i+1),validate_loss,c='g')\n",
        "print(\"Training ended\")\n",
        "state=train_state.TrainState.create(apply_fn=model.apply,params=params,tx=tx)\n",
        "checkpoints.save_checkpoint(ckpt_dir=\"/content/drive/My Drive/Colab Notebooks\",target=state,step=0,overwrite=True)\n",
        "plt.yscale('log')\n",
        "plt.xlabel(\"Epoch\")\n",
        "plt.ylabel(\"Loss\")\n",
        "plt.title(\"Loss function\")\n",
        "plt.legend([\"Training Loss\",\"Validation Loss\"])\n",
        "plt.savefig(\"/content/drive/My Drive/Colab Notebooks/loss.png\")"
      ]
    },
    {
      "cell_type": "code",
      "execution_count": 14,
      "metadata": {
        "id": "h4lHuAF6tpcK",
        "colab": {
          "base_uri": "https://localhost:8080/",
          "height": 404
        },
        "outputId": "3bc4bd04-c682-4bc2-d9c3-0c2ee8750757"
      },
      "outputs": [
        {
          "output_type": "stream",
          "name": "stdout",
          "text": [
            "[[0.01189434 0.01209948 0.01230919 ... 0.977854   0.99047756 1.0034704 ]\n",
            " [0.01274525 0.01296399 0.0131876  ... 0.9816124  0.992694   1.0031387 ]\n",
            " [0.01399273 0.01423346 0.01447964 ... 0.9837818  0.9920102  1.0019746 ]\n",
            " ...\n",
            " [0.01435676 0.01459589 0.0148405  ... 0.9835972  0.9919462  1.00064   ]\n",
            " [0.01582772 0.0160938  0.0163659  ... 0.9874064  0.9937703  1.0040365 ]\n",
            " [0.01211193 0.01232226 0.0125373  ... 0.97967213 0.9915512  1.0031873 ]]\n"
          ]
        },
        {
          "output_type": "display_data",
          "data": {
            "text/plain": [
              "<Figure size 432x288 with 1 Axes>"
            ],
            "image/png": "[encoded data removed]"
          },
          "metadata": {
            "needs_background": "light"
          }
        },
        {
          "output_type": "stream",
          "name": "stdout",
          "text": [
            "Max error = 0.9272218 %\n"
          ]
        }
      ],
      "source": [
        "x_test=jnp.stack((input_data[900:1000,0],input_data[900:1000,2]),axis=1)\n",
        "y_test=raw_input_result[900:1000,:]\n",
        "y_pred=jnp.exp(eval_func(params,x_test,a))\n",
        "print(y_pred)\n",
        "plt.plot(a,y_pred[0,:],c='b')\n",
        "plt.plot(a,y_test[0,:],c='g')\n",
        "plt.show()\n",
        "error=abs(y_pred/y_test-1)\n",
        "print(\"Max error =\",jnp.max(error)*100,\"%\")"
      ]
    }
  ],
  "metadata": {
    "accelerator": "GPU",
    "colab": {
      "collapsed_sections": [],
      "name": "Copy of bsplinetrainer.ipynb",
      "provenance": [],
      "authorship_tag": "ABX9TyMK7TVmsFMf7tY0wjliqgaH",
      "include_colab_link": true
    },
    "gpuClass": "standard",
    "kernelspec": {
      "display_name": "Python 3",
      "name": "python3"
    },
    "language_info": {
      "name": "python"
    }
  },
  "nbformat": 4,
  "nbformat_minor": 0
}