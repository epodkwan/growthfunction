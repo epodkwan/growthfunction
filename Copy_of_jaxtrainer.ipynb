{
  "cells": [
    {
      "cell_type": "markdown",
      "metadata": {
        "id": "view-in-github",
        "colab_type": "text"
      },
      "source": [
        "<a href=\"https://colab.research.google.com/github/epodkwan/growthfunction/blob/main/Copy_of_jaxtrainer.ipynb\" target=\"_parent\"><img src=\"https://colab.research.google.com/assets/colab-badge.svg\" alt=\"Open In Colab\"/></a>"
      ]
    },
    {
      "cell_type": "code",
      "execution_count": 15,
      "metadata": {
        "colab": {
          "base_uri": "https://localhost:8080/"
        },
        "id": "OgZPjwP-NEwE",
        "outputId": "1c122c8a-6d0e-4fe1-f5bc-d1bf1b53c2e1"
      },
      "outputs": [
        {
          "output_type": "stream",
          "name": "stdout",
          "text": [
            "Looking in indexes: https://pypi.org/simple, https://us-python.pkg.dev/colab-wheels/public/simple/\n",
            "Requirement already satisfied: flax in /usr/local/lib/python3.7/dist-packages (0.5.3)\n",
            "Requirement already satisfied: optax in /usr/local/lib/python3.7/dist-packages (from flax) (0.1.3)\n",
            "Requirement already satisfied: typing-extensions>=4.1.1 in /usr/local/lib/python3.7/dist-packages (from flax) (4.1.1)\n",
            "Requirement already satisfied: rich~=11.1 in /usr/local/lib/python3.7/dist-packages (from flax) (11.2.0)\n",
            "Requirement already satisfied: tensorstore in /usr/local/lib/python3.7/dist-packages (from flax) (0.1.21)\n",
            "Requirement already satisfied: numpy>=1.12 in /usr/local/lib/python3.7/dist-packages (from flax) (1.21.6)\n",
            "Requirement already satisfied: matplotlib in /usr/local/lib/python3.7/dist-packages (from flax) (3.2.2)\n",
            "Requirement already satisfied: jax>=0.3.2 in /usr/local/lib/python3.7/dist-packages (from flax) (0.3.14)\n",
            "Requirement already satisfied: PyYAML>=5.4.1 in /usr/local/lib/python3.7/dist-packages (from flax) (6.0)\n",
            "Requirement already satisfied: msgpack in /usr/local/lib/python3.7/dist-packages (from flax) (1.0.4)\n",
            "Requirement already satisfied: scipy>=1.5 in /usr/local/lib/python3.7/dist-packages (from jax>=0.3.2->flax) (1.7.3)\n",
            "Requirement already satisfied: opt-einsum in /usr/local/lib/python3.7/dist-packages (from jax>=0.3.2->flax) (3.3.0)\n",
            "Requirement already satisfied: etils[epath] in /usr/local/lib/python3.7/dist-packages (from jax>=0.3.2->flax) (0.6.0)\n",
            "Requirement already satisfied: absl-py in /usr/local/lib/python3.7/dist-packages (from jax>=0.3.2->flax) (1.2.0)\n",
            "Requirement already satisfied: colorama<0.5.0,>=0.4.0 in /usr/local/lib/python3.7/dist-packages (from rich~=11.1->flax) (0.4.5)\n",
            "Requirement already satisfied: commonmark<0.10.0,>=0.9.0 in /usr/local/lib/python3.7/dist-packages (from rich~=11.1->flax) (0.9.1)\n",
            "Requirement already satisfied: pygments<3.0.0,>=2.6.0 in /usr/local/lib/python3.7/dist-packages (from rich~=11.1->flax) (2.6.1)\n",
            "Requirement already satisfied: zipp in /usr/local/lib/python3.7/dist-packages (from etils[epath]->jax>=0.3.2->flax) (3.8.1)\n",
            "Requirement already satisfied: importlib_resources in /usr/local/lib/python3.7/dist-packages (from etils[epath]->jax>=0.3.2->flax) (5.9.0)\n",
            "Requirement already satisfied: cycler>=0.10 in /usr/local/lib/python3.7/dist-packages (from matplotlib->flax) (0.11.0)\n",
            "Requirement already satisfied: python-dateutil>=2.1 in /usr/local/lib/python3.7/dist-packages (from matplotlib->flax) (2.8.2)\n",
            "Requirement already satisfied: pyparsing!=2.0.4,!=2.1.2,!=2.1.6,>=2.0.1 in /usr/local/lib/python3.7/dist-packages (from matplotlib->flax) (3.0.9)\n",
            "Requirement already satisfied: kiwisolver>=1.0.1 in /usr/local/lib/python3.7/dist-packages (from matplotlib->flax) (1.4.4)\n",
            "Requirement already satisfied: six>=1.5 in /usr/local/lib/python3.7/dist-packages (from python-dateutil>=2.1->matplotlib->flax) (1.15.0)\n",
            "Requirement already satisfied: jaxlib>=0.1.37 in /usr/local/lib/python3.7/dist-packages (from optax->flax) (0.3.14+cuda11.cudnn805)\n",
            "Requirement already satisfied: chex>=0.0.4 in /usr/local/lib/python3.7/dist-packages (from optax->flax) (0.1.3)\n",
            "Requirement already satisfied: dm-tree>=0.1.5 in /usr/local/lib/python3.7/dist-packages (from chex>=0.0.4->optax->flax) (0.1.7)\n",
            "Requirement already satisfied: toolz>=0.9.0 in /usr/local/lib/python3.7/dist-packages (from chex>=0.0.4->optax->flax) (0.12.0)\n",
            "Requirement already satisfied: flatbuffers<3.0,>=1.12 in /usr/local/lib/python3.7/dist-packages (from jaxlib>=0.1.37->optax->flax) (2.0)\n"
          ]
        }
      ],
      "source": [
        "!pip install flax"
      ]
    },
    {
      "cell_type": "code",
      "execution_count": 16,
      "metadata": {
        "id": "GXP7APTktM23"
      },
      "outputs": [],
      "source": [
        "from typing import Sequence\n",
        "import jax\n",
        "import optax\n",
        "import numpy as np\n",
        "import jax.numpy as jnp\n",
        "from jax import jit,random\n",
        "from flax import linen as nn\n",
        "from flax.training import train_state,checkpoints\n",
        "import matplotlib.pyplot as plt"
      ]
    },
    {
      "cell_type": "code",
      "execution_count": 17,
      "metadata": {
        "id": "Wsb6hTLBtacv"
      },
      "outputs": [],
      "source": [
        "class SimpleMLP(nn.Module):\n",
        "    features:Sequence[int]\n",
        "\n",
        "    @nn.compact\n",
        "    def __call__(self,inputs):\n",
        "        x=inputs\n",
        "        for i,feat in enumerate(self.features):\n",
        "            x=nn.Dense(feat)(x)\n",
        "            if i != len(self.features)-1:\n",
        "                x=nn.relu(x)\n",
        "        return x"
      ]
    },
    {
      "cell_type": "code",
      "execution_count": 18,
      "metadata": {
        "id": "wQ0f5JoEteu2"
      },
      "outputs": [],
      "source": [
        "layer_sizes=[64,256,256,256]\n",
        "learning_rate=1e-5\n",
        "epochs=300000\n",
        "model=SimpleMLP(features=layer_sizes)\n",
        "temp=jnp.ones(2)\n",
        "params=model.init(random.PRNGKey(0),temp)\n",
        "tx=optax.adam(learning_rate=learning_rate)\n",
        "opt_state=tx.init(params)"
      ]
    },
    {
      "cell_type": "code",
      "execution_count": 19,
      "metadata": {
        "id": "seVyHnrBtU9a"
      },
      "outputs": [],
      "source": [
        "def npy_loader(path):\n",
        "    return jnp.load(path)"
      ]
    },
    {
      "cell_type": "code",
      "execution_count": 20,
      "metadata": {
        "id": "Q4ETnEgYtiz4"
      },
      "outputs": [],
      "source": [
        "@jit\n",
        "def mse_loss(params,x,y_ref):\n",
        "    preds=model.apply(params,x)\n",
        "    diff=preds-y_ref\n",
        "    return jnp.mean(diff*diff)"
      ]
    },
    {
      "cell_type": "code",
      "execution_count": 21,
      "metadata": {
        "id": "5KYoOW_TtkmZ"
      },
      "outputs": [],
      "source": [
        "@jit\n",
        "def train_step(params,opt_state,x,y_ref):\n",
        "    loss,grads=jax.value_and_grad(mse_loss,argnums=0)(params,x,y_ref)\n",
        "    updates,opt_state=tx.update(grads,opt_state)\n",
        "    params=optax.apply_updates(params,updates)\n",
        "    return loss,params,opt_state"
      ]
    },
    {
      "cell_type": "code",
      "execution_count": 22,
      "metadata": {
        "id": "w5SOhOLwaCFU"
      },
      "outputs": [],
      "source": [
        "@jit\n",
        "def epoch_step(x_train,y_train,params,opt_state,order):\n",
        "    order=random.permutation(random.PRNGKey(i),order)\n",
        "    train_loss=0\n",
        "    for j in range(25):\n",
        "        x_batch=x_train[order[32*j:32*(j+1)-1],:]\n",
        "        y_batch=y_train[order[32*j:32*(j+1)-1],:]\n",
        "        loss,params,opt_state=train_step(params,opt_state,x_batch,y_batch)\n",
        "        train_loss=train_loss+loss\n",
        "    return train_loss,params"
      ]
    },
    {
      "cell_type": "code",
      "execution_count": 23,
      "metadata": {
        "colab": {
          "base_uri": "https://localhost:8080/"
        },
        "id": "kspaBRb5xVKq",
        "outputId": "51c1be6e-8374-499e-d635-9e4e3ec2dfe4"
      },
      "outputs": [
        {
          "output_type": "stream",
          "name": "stdout",
          "text": [
            "Mounted at /content/drive\n"
          ]
        }
      ],
      "source": [
        "from google.colab import drive\n",
        "drive.mount('/content/drive')"
      ]
    },
    {
      "cell_type": "code",
      "execution_count": 24,
      "metadata": {
        "id": "uaH8AxCAtXHD"
      },
      "outputs": [],
      "source": [
        "input_data=npy_loader(\"/content/drive/My Drive/Colab Notebooks/cosmo.npy\")\n",
        "raw_input_result=npy_loader(\"/content/drive/My Drive/Colab Notebooks/combined.npy\")\n",
        "input_result=jnp.log(raw_input_result)\n",
        "x_train=jnp.stack((input_data[0:800,0],input_data[0:800,2]),axis=1)\n",
        "y_train=input_result[0:800,:]\n",
        "x_validate=jnp.stack((input_data[800:900,0],input_data[800:900,2]),axis=1)\n",
        "y_validate=input_result[800:900,:]"
      ]
    },
    {
      "cell_type": "code",
      "execution_count": 25,
      "metadata": {
        "colab": {
          "base_uri": "https://localhost:8080/",
          "height": 1000
        },
        "id": "XBEEkIgktmtw",
        "outputId": "843980a1-c24e-4ed7-8a9e-58a60d007232"
      },
      "outputs": [
        {
          "output_type": "stream",
          "name": "stdout",
          "text": [
            "1000 8.643625e-05\n",
            "2000 8.459945e-06\n",
            "3000 3.607019e-06\n",
            "4000 2.9793912e-06\n",
            "5000 2.5245818e-06\n",
            "6000 2.0333937e-06\n",
            "7000 1.6838869e-06\n",
            "8000 2.0486702e-06\n",
            "9000 2.1610992e-06\n",
            "10000 1.5187533e-06\n",
            "11000 1.3624158e-06\n",
            "12000 1.2152493e-06\n",
            "13000 1.1035607e-06\n",
            "14000 2.260934e-06\n",
            "15000 1.4565303e-06\n",
            "16000 1.4747683e-06\n",
            "17000 9.615061e-07\n",
            "18000 8.9907604e-07\n",
            "19000 9.0528e-07\n",
            "20000 9.133126e-07\n",
            "21000 9.188964e-07\n",
            "22000 9.10267e-07\n",
            "23000 9.225786e-07\n",
            "24000 9.361308e-07\n",
            "25000 9.1435015e-07\n",
            "26000 9.047199e-07\n",
            "27000 9.3709923e-07\n",
            "28000 9.2910636e-07\n",
            "29000 9.2426626e-07\n",
            "30000 9.3114926e-07\n",
            "31000 9.24661e-07\n",
            "32000 9.210729e-07\n",
            "33000 9.143559e-07\n",
            "34000 9.2190584e-07\n",
            "35000 9.0164826e-07\n",
            "36000 9.548593e-07\n",
            "37000 9.4066104e-07\n",
            "38000 9.367463e-07\n",
            "39000 9.281066e-07\n",
            "40000 9.1818436e-07\n",
            "41000 9.0002334e-07\n",
            "42000 8.965243e-07\n",
            "43000 8.9320133e-07\n",
            "44000 8.9473843e-07\n",
            "45000 8.897152e-07\n",
            "46000 8.7846377e-07\n",
            "47000 1.0381868e-06\n",
            "48000 1.1184353e-06\n",
            "49000 1.1865379e-06\n",
            "50000 1.2179034e-06\n",
            "51000 1.2215487e-06\n",
            "52000 1.2943999e-06\n",
            "53000 1.3503491e-06\n",
            "54000 1.3956084e-06\n",
            "55000 1.4218136e-06\n",
            "56000 1.4781192e-06\n",
            "57000 1.5300664e-06\n",
            "58000 1.526406e-06\n",
            "59000 1.560258e-06\n",
            "60000 1.5903427e-06\n",
            "61000 1.5433161e-06\n",
            "62000 1.6679763e-06\n",
            "63000 1.7116396e-06\n",
            "64000 1.7140168e-06\n",
            "65000 1.7224412e-06\n",
            "66000 1.7161536e-06\n",
            "67000 1.6335819e-06\n",
            "68000 1.5787988e-06\n",
            "69000 1.5015628e-06\n",
            "70000 1.6946059e-06\n",
            "71000 1.6931442e-06\n",
            "72000 1.6803414e-06\n",
            "73000 1.6896278e-06\n",
            "74000 1.6223297e-06\n",
            "75000 9.270223e-07\n",
            "76000 1.2884957e-06\n",
            "77000 1.4049822e-06\n",
            "78000 1.1892835e-06\n",
            "79000 1.3656954e-06\n",
            "80000 7.619897e-07\n",
            "81000 6.6889305e-07\n",
            "82000 9.572016e-07\n",
            "83000 9.0720476e-07\n",
            "84000 8.311641e-07\n",
            "85000 1.0217203e-06\n",
            "86000 8.4555785e-07\n",
            "87000 7.220711e-07\n",
            "88000 8.0659004e-07\n",
            "89000 7.861307e-07\n",
            "90000 9.2356345e-07\n",
            "91000 9.870743e-07\n",
            "92000 9.739668e-07\n",
            "93000 1.1129797e-06\n",
            "94000 1.0711121e-06\n",
            "95000 1.0145044e-06\n",
            "96000 1.0203056e-06\n",
            "97000 1.9197166e-06\n",
            "98000 1.362738e-06\n",
            "99000 7.8769386e-07\n",
            "100000 1.009072e-06\n",
            "101000 1.1564175e-06\n",
            "102000 1.3034406e-06\n",
            "103000 1.2487185e-06\n",
            "104000 2.0392672e-06\n",
            "105000 8.033517e-07\n",
            "106000 1.1276226e-06\n",
            "107000 1.0484403e-06\n",
            "108000 1.1290904e-06\n",
            "109000 1.763213e-06\n",
            "110000 1.2768705e-06\n",
            "111000 1.6354093e-06\n",
            "112000 1.9454428e-06\n",
            "113000 7.2940355e-07\n",
            "114000 1.1903667e-06\n",
            "115000 8.376309e-07\n",
            "116000 1.3379841e-06\n",
            "117000 1.0659068e-06\n",
            "118000 8.28505e-07\n",
            "119000 1.2660864e-06\n",
            "120000 1.6508781e-06\n",
            "121000 1.9662216e-06\n",
            "122000 1.0263863e-06\n",
            "123000 7.4479857e-07\n",
            "124000 6.8244987e-07\n",
            "125000 1.0915879e-06\n",
            "126000 5.07819e-07\n",
            "127000 1.3445832e-06\n",
            "128000 7.6011025e-07\n",
            "129000 6.696339e-07\n",
            "130000 9.586921e-07\n",
            "131000 6.1981416e-07\n",
            "132000 6.6910735e-07\n",
            "133000 1.0955648e-06\n",
            "134000 7.3251795e-07\n",
            "135000 1.1359759e-06\n",
            "136000 1.3094369e-06\n",
            "137000 8.4882384e-07\n",
            "138000 6.727055e-07\n",
            "139000 6.922604e-07\n",
            "140000 1.8852437e-06\n",
            "141000 8.9128105e-07\n",
            "142000 1.3292112e-06\n",
            "143000 8.217165e-07\n",
            "144000 7.4953863e-07\n",
            "145000 7.422632e-07\n",
            "146000 1.5538444e-06\n",
            "147000 6.2109393e-07\n",
            "148000 6.295779e-07\n",
            "149000 6.601737e-07\n",
            "150000 6.757224e-07\n",
            "151000 6.502368e-07\n",
            "152000 1.6095775e-06\n",
            "153000 1.0197596e-06\n",
            "154000 7.6049486e-07\n",
            "155000 8.9424674e-07\n",
            "156000 7.450807e-07\n",
            "157000 7.7297926e-07\n",
            "158000 6.117016e-07\n",
            "159000 7.234515e-07\n",
            "160000 6.5237197e-07\n",
            "161000 6.2850506e-07\n",
            "162000 1.1847105e-06\n",
            "163000 8.154332e-07\n",
            "164000 1.1171038e-06\n",
            "165000 7.5602554e-07\n",
            "166000 8.3886414e-07\n",
            "167000 7.133646e-07\n",
            "168000 9.1383714e-07\n",
            "169000 8.372167e-07\n",
            "170000 1.1025256e-06\n",
            "171000 1.3222266e-06\n",
            "172000 6.027836e-07\n",
            "173000 7.361901e-07\n",
            "174000 5.922163e-07\n",
            "175000 9.4255404e-07\n",
            "176000 9.309243e-07\n",
            "177000 5.577671e-07\n",
            "178000 7.314136e-07\n",
            "179000 8.836103e-07\n",
            "180000 1.0540646e-06\n",
            "181000 9.013465e-07\n",
            "182000 6.04503e-07\n",
            "183000 8.3962254e-07\n",
            "184000 8.338013e-07\n",
            "185000 6.744892e-07\n",
            "186000 4.779682e-07\n",
            "187000 5.3301807e-07\n",
            "188000 5.3008813e-07\n",
            "189000 8.9511445e-07\n",
            "190000 1.3871442e-06\n",
            "191000 6.68519e-07\n",
            "192000 1.037418e-06\n",
            "193000 6.4141284e-07\n",
            "194000 9.760863e-07\n",
            "195000 7.3313754e-07\n",
            "196000 6.113304e-07\n",
            "197000 6.0414567e-07\n",
            "198000 8.236501e-07\n",
            "199000 8.2536366e-07\n",
            "200000 7.8446243e-07\n",
            "201000 9.798407e-07\n",
            "202000 1.0574016e-06\n",
            "203000 5.491157e-07\n",
            "204000 8.2657795e-07\n",
            "205000 5.959677e-07\n",
            "206000 9.57536e-07\n",
            "207000 1.169507e-06\n",
            "208000 5.499549e-07\n",
            "209000 8.049115e-07\n",
            "210000 5.209922e-07\n",
            "211000 9.496683e-07\n",
            "212000 9.318694e-07\n",
            "213000 8.031116e-07\n",
            "214000 1.694134e-06\n",
            "215000 1.0935888e-06\n",
            "216000 1.1337514e-06\n",
            "217000 6.2816514e-07\n",
            "218000 7.311959e-07\n",
            "219000 1.0835575e-06\n",
            "220000 7.1296785e-07\n",
            "221000 5.507001e-07\n",
            "222000 9.964489e-07\n",
            "223000 7.4252017e-07\n",
            "224000 9.665268e-07\n",
            "225000 5.0697145e-07\n",
            "226000 5.597142e-07\n",
            "227000 4.7338463e-07\n",
            "228000 7.663331e-07\n",
            "229000 7.793849e-07\n",
            "230000 1.0315538e-06\n",
            "231000 4.976895e-07\n",
            "232000 9.243219e-07\n",
            "233000 9.613913e-07\n",
            "234000 5.835586e-07\n",
            "235000 5.526382e-07\n",
            "236000 9.956302e-07\n",
            "237000 9.519551e-07\n",
            "238000 7.712996e-07\n",
            "239000 9.69295e-07\n",
            "240000 7.6895697e-07\n",
            "241000 7.2563125e-07\n",
            "242000 4.286318e-07\n",
            "243000 4.7085157e-07\n",
            "244000 4.6050997e-07\n",
            "245000 1.3054549e-06\n",
            "246000 8.3454387e-07\n",
            "247000 1.0768458e-06\n",
            "248000 9.323568e-07\n",
            "249000 4.772443e-07\n",
            "250000 9.549284e-07\n",
            "251000 8.490683e-07\n",
            "252000 7.892685e-07\n",
            "253000 6.442372e-07\n",
            "254000 1.2146397e-06\n",
            "255000 8.171532e-07\n",
            "256000 1.3420105e-06\n",
            "257000 8.5538045e-07\n",
            "258000 1.246455e-06\n",
            "259000 8.064717e-07\n",
            "260000 5.113853e-07\n",
            "261000 6.1994456e-07\n",
            "262000 7.5548456e-07\n",
            "263000 4.949083e-07\n",
            "264000 6.9829184e-07\n",
            "265000 8.2460974e-07\n",
            "266000 8.4125384e-07\n",
            "267000 7.25903e-07\n",
            "268000 6.591712e-07\n",
            "269000 6.02583e-07\n",
            "270000 6.799962e-07\n",
            "271000 6.88755e-07\n",
            "272000 5.993843e-07\n",
            "273000 4.805867e-07\n",
            "274000 7.8648713e-07\n",
            "275000 4.656483e-07\n",
            "276000 5.4168777e-07\n",
            "277000 5.529975e-07\n",
            "278000 7.809426e-07\n",
            "279000 5.8172577e-07\n",
            "280000 4.458506e-07\n",
            "281000 4.7542795e-07\n",
            "282000 9.73263e-07\n",
            "283000 5.653942e-07\n",
            "284000 6.9281185e-07\n",
            "285000 8.5627175e-07\n",
            "286000 4.6657448e-07\n",
            "287000 4.5432367e-07\n",
            "288000 5.374105e-07\n",
            "289000 7.9641205e-07\n",
            "290000 8.9247214e-07\n",
            "291000 4.637509e-07\n",
            "292000 6.3919526e-07\n",
            "293000 7.0865e-07\n",
            "294000 5.420723e-07\n",
            "295000 8.76877e-07\n",
            "296000 6.991406e-07\n",
            "297000 8.66419e-07\n",
            "298000 7.64929e-07\n",
            "299000 4.852111e-07\n",
            "300000 6.9416456e-07\n",
            "Training ended\n"
          ]
        },
        {
          "output_type": "display_data",
          "data": {
            "text/plain": [
              "<Figure size 432x288 with 1 Axes>"
            ],
            "image/png": "[encoded data removed]"
          },
          "metadata": {
            "needs_background": "light"
          }
        }
      ],
      "source": [
        "order=jnp.arange(800)\n",
        "for i in range(epochs):\n",
        "    train_loss,params=epoch_step(x_train,y_train,params,opt_state,order)\n",
        "    if i % 1000 == 999:\n",
        "        train_loss=train_loss/25\n",
        "        validate_loss=mse_loss(params,x_validate,y_validate)\n",
        "        print((i+1),validate_loss)\n",
        "        plt.scatter((i+1),jnp.log(train_loss),c='b')\n",
        "        plt.scatter((i+1),jnp.log(validate_loss),c='g')\n",
        "print(\"Training ended\")\n",
        "state=train_state.TrainState.create(apply_fn=model.apply,params=params,tx=tx)\n",
        "checkpoints.save_checkpoint(ckpt_dir=\"/content/drive/My Drive/Colab Notebooks\",target=state,step=0,overwrite=True)\n",
        "plt.xlabel(\"Epoch\")\n",
        "plt.ylabel(\"ln(loss)\")\n",
        "plt.title(\"Loss function\")\n",
        "plt.legend([\"Training Loss\",\"Validation Loss\"])\n",
        "plt.savefig(\"/content/drive/My Drive/Colab Notebooks/loss.png\")\n",
        "drive.flush_and_unmount()"
      ]
    },
    {
      "cell_type": "code",
      "execution_count": 26,
      "metadata": {
        "id": "h4lHuAF6tpcK",
        "colab": {
          "base_uri": "https://localhost:8080/"
        },
        "outputId": "6b393516-9f67-4374-a01a-011455020c41"
      },
      "outputs": [
        {
          "output_type": "stream",
          "name": "stdout",
          "text": [
            "[[0.01185214 0.01206065 0.01227298 ... 0.97635496 0.98850614 1.0001982 ]\n",
            " [0.01269078 0.01291261 0.01314655 ... 0.97937346 0.9897418  1.0004606 ]\n",
            " [0.01396163 0.01421279 0.01446752 ... 0.9840318  0.99220395 1.0002074 ]\n",
            " ...\n",
            " [0.01429177 0.01454235 0.01479718 ... 0.98386043 0.9918452  1.0003012 ]\n",
            " [0.01575008 0.01603103 0.01631627 ... 0.9872474  0.9938792  1.000743  ]\n",
            " [0.01207426 0.01229169 0.01251322 ... 0.97745264 0.988731   1.0002598 ]]\n",
            "Max error = 0.65140724 %\n"
          ]
        }
      ],
      "source": [
        "x_test=jnp.stack((input_data[900:1000,0],input_data[900:1000,2]),axis=1)\n",
        "y_test=raw_input_result[900:1000,:]\n",
        "y_pred=jnp.exp(model.apply(params,x_test))\n",
        "print(y_pred)\n",
        "error=abs(y_pred/y_test-1)\n",
        "print(\"Max error =\",jnp.max(error)*100,\"%\")"
      ]
    },
    {
      "cell_type": "code",
      "execution_count": 26,
      "metadata": {
        "id": "qJ5kCMiTs77t"
      },
      "outputs": [],
      "source": [
        ""
      ]
    }
  ],
  "metadata": {
    "accelerator": "GPU",
    "colab": {
      "collapsed_sections": [],
      "name": "Copy of jaxtrainer.ipynb",
      "provenance": [],
      "authorship_tag": "ABX9TyP2Hjz7FFx9D2tYa/brLWUe",
      "include_colab_link": true
    },
    "gpuClass": "standard",
    "kernelspec": {
      "display_name": "Python 3",
      "name": "python3"
    },
    "language_info": {
      "name": "python"
    }
  },
  "nbformat": 4,
  "nbformat_minor": 0
}