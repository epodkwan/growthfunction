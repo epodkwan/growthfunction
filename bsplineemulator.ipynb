{
  "nbformat": 4,
  "nbformat_minor": 0,
  "metadata": {
    "colab": {
      "name": "bsplineemulator.ipynb",
      "provenance": [],
      "collapsed_sections": [],
      "authorship_tag": "ABX9TyPyOSu082uKHVo1HEWs3Rix",
      "include_colab_link": true
    },
    "kernelspec": {
      "name": "python3",
      "display_name": "Python 3"
    },
    "language_info": {
      "name": "python"
    },
    "gpuClass": "standard"
  },
  "cells": [
    {
      "cell_type": "markdown",
      "metadata": {
        "id": "view-in-github",
        "colab_type": "text"
      },
      "source": [
        "<a href=\"https://colab.research.google.com/github/epodkwan/growthfunction/blob/main/bsplineemulator.ipynb\" target=\"_parent\"><img src=\"https://colab.research.google.com/assets/colab-badge.svg\" alt=\"Open In Colab\"/></a>"
      ]
    },
    {
      "cell_type": "code",
      "source": [
        "!pip install flax"
      ],
      "metadata": {
        "colab": {
          "base_uri": "https://localhost:8080/"
        },
        "id": "q4-XjIcYon34",
        "outputId": "e30a9705-bdbe-4494-be72-16f3f24487d2"
      },
      "execution_count": 1,
      "outputs": [
        {
          "output_type": "stream",
          "name": "stdout",
          "text": [
            "Looking in indexes: https://pypi.org/simple, https://us-python.pkg.dev/colab-wheels/public/simple/\n",
            "Requirement already satisfied: flax in /usr/local/lib/python3.7/dist-packages (0.5.3)\n",
            "Requirement already satisfied: rich~=11.1 in /usr/local/lib/python3.7/dist-packages (from flax) (11.2.0)\n",
            "Requirement already satisfied: tensorstore in /usr/local/lib/python3.7/dist-packages (from flax) (0.1.22)\n",
            "Requirement already satisfied: PyYAML>=5.4.1 in /usr/local/lib/python3.7/dist-packages (from flax) (6.0)\n",
            "Requirement already satisfied: msgpack in /usr/local/lib/python3.7/dist-packages (from flax) (1.0.4)\n",
            "Requirement already satisfied: matplotlib in /usr/local/lib/python3.7/dist-packages (from flax) (3.2.2)\n",
            "Requirement already satisfied: jax>=0.3.2 in /usr/local/lib/python3.7/dist-packages (from flax) (0.3.14)\n",
            "Requirement already satisfied: optax in /usr/local/lib/python3.7/dist-packages (from flax) (0.1.3)\n",
            "Requirement already satisfied: numpy>=1.12 in /usr/local/lib/python3.7/dist-packages (from flax) (1.21.6)\n",
            "Requirement already satisfied: typing-extensions>=4.1.1 in /usr/local/lib/python3.7/dist-packages (from flax) (4.1.1)\n",
            "Requirement already satisfied: opt-einsum in /usr/local/lib/python3.7/dist-packages (from jax>=0.3.2->flax) (3.3.0)\n",
            "Requirement already satisfied: scipy>=1.5 in /usr/local/lib/python3.7/dist-packages (from jax>=0.3.2->flax) (1.7.3)\n",
            "Requirement already satisfied: absl-py in /usr/local/lib/python3.7/dist-packages (from jax>=0.3.2->flax) (1.2.0)\n",
            "Requirement already satisfied: etils[epath] in /usr/local/lib/python3.7/dist-packages (from jax>=0.3.2->flax) (0.6.0)\n",
            "Requirement already satisfied: pygments<3.0.0,>=2.6.0 in /usr/local/lib/python3.7/dist-packages (from rich~=11.1->flax) (2.6.1)\n",
            "Requirement already satisfied: colorama<0.5.0,>=0.4.0 in /usr/local/lib/python3.7/dist-packages (from rich~=11.1->flax) (0.4.5)\n",
            "Requirement already satisfied: commonmark<0.10.0,>=0.9.0 in /usr/local/lib/python3.7/dist-packages (from rich~=11.1->flax) (0.9.1)\n",
            "Requirement already satisfied: importlib_resources in /usr/local/lib/python3.7/dist-packages (from etils[epath]->jax>=0.3.2->flax) (5.9.0)\n",
            "Requirement already satisfied: zipp in /usr/local/lib/python3.7/dist-packages (from etils[epath]->jax>=0.3.2->flax) (3.8.1)\n",
            "Requirement already satisfied: kiwisolver>=1.0.1 in /usr/local/lib/python3.7/dist-packages (from matplotlib->flax) (1.4.4)\n",
            "Requirement already satisfied: python-dateutil>=2.1 in /usr/local/lib/python3.7/dist-packages (from matplotlib->flax) (2.8.2)\n",
            "Requirement already satisfied: cycler>=0.10 in /usr/local/lib/python3.7/dist-packages (from matplotlib->flax) (0.11.0)\n",
            "Requirement already satisfied: pyparsing!=2.0.4,!=2.1.2,!=2.1.6,>=2.0.1 in /usr/local/lib/python3.7/dist-packages (from matplotlib->flax) (3.0.9)\n",
            "Requirement already satisfied: six>=1.5 in /usr/local/lib/python3.7/dist-packages (from python-dateutil>=2.1->matplotlib->flax) (1.15.0)\n",
            "Requirement already satisfied: chex>=0.0.4 in /usr/local/lib/python3.7/dist-packages (from optax->flax) (0.1.4)\n",
            "Requirement already satisfied: jaxlib>=0.1.37 in /usr/local/lib/python3.7/dist-packages (from optax->flax) (0.3.14+cuda11.cudnn805)\n",
            "Requirement already satisfied: dm-tree>=0.1.5 in /usr/local/lib/python3.7/dist-packages (from chex>=0.0.4->optax->flax) (0.1.7)\n",
            "Requirement already satisfied: toolz>=0.9.0 in /usr/local/lib/python3.7/dist-packages (from chex>=0.0.4->optax->flax) (0.12.0)\n",
            "Requirement already satisfied: flatbuffers<3.0,>=1.12 in /usr/local/lib/python3.7/dist-packages (from jaxlib>=0.1.37->optax->flax) (2.0)\n"
          ]
        }
      ]
    },
    {
      "cell_type": "code",
      "execution_count": 2,
      "metadata": {
        "id": "RMD-n6IkgEjG"
      },
      "outputs": [],
      "source": [
        "import random\n",
        "import statistics\n",
        "from typing import Sequence\n",
        "import jax\n",
        "import optax\n",
        "import numpy as np\n",
        "import jax.numpy as jnp\n",
        "from jax import jit,vmap\n",
        "from flax import linen as nn\n",
        "from flax.training import train_state,checkpoints\n",
        "import matplotlib\n",
        "import matplotlib.pyplot as plt"
      ]
    },
    {
      "cell_type": "code",
      "source": [
        "class SimpleMLP(nn.Module):\n",
        "    features:Sequence[int]\n",
        "    nodes:int\n",
        "\n",
        "    @nn.compact\n",
        "    def __call__(self,inputs):\n",
        "        x=inputs\n",
        "        for i,feat in enumerate(self.features):\n",
        "            x=nn.Dense(feat)(x)\n",
        "            x=jnp.sin(x)\n",
        "        t=nn.Dense(nodes-1)(x)\n",
        "        c=nn.Dense(nodes+1)(x)\n",
        "        t=jnp.concatenate([jnp.zeros((t.shape[0],4)),jnp.cumsum(jax.nn.softmax(t),axis=1),jnp.ones((t.shape[0],3))],axis=1)\n",
        "        c=jnp.concatenate([jnp.zeros((c.shape[0],1)),c],axis=1)\n",
        "        return t,c"
      ],
      "metadata": {
        "id": "DIix1FfQm9G-"
      },
      "execution_count": 3,
      "outputs": []
    },
    {
      "cell_type": "code",
      "source": [
        "def npy_loader(path):\n",
        "    return jnp.load(path)"
      ],
      "metadata": {
        "id": "o3LfEGANgevd"
      },
      "execution_count": 4,
      "outputs": []
    },
    {
      "cell_type": "code",
      "source": [
        "@jit\n",
        "def _deBoorVectorized(x,t,c):\n",
        "    p=3\n",
        "    k=jnp.digitize(x,t)-1\n",
        "    d=[c[j+k-p] for j in range(0,p+1)]\n",
        "    for r in range(1,p+1):\n",
        "        for j in range(p,r-1,-1):\n",
        "            alpha=(x-t[j+k-p])/(t[j+1+k-r]-t[j+k-p])\n",
        "            d[j]=(1.0-alpha)*d[j-1]+alpha*d[j]\n",
        "    return d[p]"
      ],
      "metadata": {
        "id": "5ifY_O622ev_"
      },
      "execution_count": 5,
      "outputs": []
    },
    {
      "cell_type": "code",
      "source": [
        "from google.colab import drive\n",
        "drive.mount('/content/drive')"
      ],
      "metadata": {
        "colab": {
          "base_uri": "https://localhost:8080/"
        },
        "id": "JHc6T5H_g51l",
        "outputId": "4cc76a60-2f00-405c-9fef-aa9c13f26e75"
      },
      "execution_count": 6,
      "outputs": [
        {
          "output_type": "stream",
          "name": "stdout",
          "text": [
            "Drive already mounted at /content/drive; to attempt to forcibly remount, call drive.mount(\"/content/drive\", force_remount=True).\n"
          ]
        }
      ]
    },
    {
      "cell_type": "code",
      "source": [
        "layer_sizes=[64,64]\n",
        "nodes=16\n",
        "learning_rate=1e-3\n",
        "model=SimpleMLP(features=layer_sizes,nodes=nodes)\n",
        "temp=jnp.array([[1,1]])\n",
        "params=model.init(jax.random.PRNGKey(0),temp)\n",
        "tx=optax.adam(learning_rate=learning_rate)\n",
        "opt_state=tx.init(params)\n",
        "deBoor=vmap(_deBoorVectorized,in_axes=(None,0,0))\n",
        "state=train_state.TrainState.create(apply_fn=model.apply,params=params,tx=tx)\n",
        "restored_state=checkpoints.restore_checkpoint(ckpt_dir=\"/content/drive/My Drive/Colab Notebooks/checkpoint_0\",target=state)"
      ],
      "metadata": {
        "id": "GuvwVgUnghBe",
        "colab": {
          "base_uri": "https://localhost:8080/"
        },
        "outputId": "5f5a5b0e-9d52-4026-ba22-7d2d3a4a4c8d"
      },
      "execution_count": 7,
      "outputs": [
        {
          "output_type": "stream",
          "name": "stderr",
          "text": [
            "WARNING:absl:No GPU/TPU found, falling back to CPU. (Set TF_CPP_MIN_LOG_LEVEL=0 and rerun for more info.)\n"
          ]
        }
      ]
    },
    {
      "cell_type": "code",
      "source": [
        "@jit\n",
        "def eval_func(params,x,a):\n",
        "    t,c=restored_state.apply_fn(params,x)\n",
        "    preds=deBoor(jnp.clip(a,0,0.999),t,c).reshape(-1)\n",
        "    return preds"
      ],
      "metadata": {
        "id": "J_OUM4Xf3RiI"
      },
      "execution_count": 8,
      "outputs": []
    },
    {
      "cell_type": "code",
      "source": [
        "cosmo=npy_loader(\"/content/drive/My Drive/Colab Notebooks/cosmo.npy\")\n",
        "cosmo_num=random.randrange(1000)\n",
        "parameters=np.array([[cosmo[cosmo_num,0],cosmo[cosmo_num,2]]])\n",
        "input_result=npy_loader(\"/content/drive/My Drive/Colab Notebooks/combined.npy\")\n",
        "z=npy_loader(\"/content/drive/My Drive/Colab Notebooks/999.npy\")[0,:]\n",
        "a=1/(z+1)\n",
        "d_data=input_result[cosmo_num,:]\n",
        "d_test=jnp.exp(eval_func(restored_state.params,parameters,a))\n",
        "discrepancy=d_test/d_data\n",
        "fig,(ax1,ax2)=plt.subplots(2,1,constrained_layout=True)\n",
        "ax1.plot(z,d_data,label=\"Reference\")\n",
        "ax1.plot(z,d_test,label=\"Fitting\")\n",
        "ax1.set_yscale('log')\n",
        "ax1.set_ylabel(\"D\")\n",
        "ax1.legend()\n",
        "ax1.set_title(\"Omega_m=\"+str(jnp.round(parameters[0,0],3))+\", H0=\"+str(jnp.round(parameters[0,1],3)))\n",
        "ax2.plot(z,discrepancy,label=\"Discrepancy\")\n",
        "ax2.set_xlabel(\"z\")\n",
        "ax2.set_ylabel(\"Predict/Data\")\n",
        "ax2.ticklabel_format(useOffset=False)\n",
        "ax2.legend()\n",
        "plt.savefig(\"/content/drive/My Drive/Colab Notebooks/cosmo\"+str(cosmo_num)+\".png\")\n",
        "z_plot=[]\n",
        "med=[]\n",
        "mean_error=[]\n",
        "std=[]\n",
        "for i in range(10):\n",
        "    plt.clf()\n",
        "    temp=[]\n",
        "    for j in range(1000):\n",
        "        cosmo_num=j\n",
        "        d_data=input_result[cosmo_num,:]\n",
        "        parameters[0,0]=cosmo[cosmo_num,0]\n",
        "        parameters[0,1]=cosmo[cosmo_num,2]\n",
        "        d_test=jnp.exp(eval_func(restored_state.params,parameters,a))\n",
        "        temp.append((d_test[i*28]/d_data[i*28]-1).item())\n",
        "        plt.scatter(cosmo[cosmo_num,0].item(),cosmo[cosmo_num,2].item(),c=temp[-1],cmap='coolwarm',vmin=-0.01,vmax=0.01)\n",
        "    plt.colorbar()\n",
        "    plt.xlabel(\"Omega_m\")\n",
        "    plt.ylabel(\"H0\")\n",
        "    plt.title(\"Fractional Error of Cosmos (z=\"+str(jnp.round(z[i*28].item(),3))+\")\")\n",
        "    plt.savefig(\"/content/drive/My Drive/Colab Notebooks/error\"+str(i)+\".png\")\n",
        "    z_plot.append(z[i*28].item())\n",
        "    med.append(statistics.median(temp))\n",
        "    mean_error.append(statistics.mean(temp))\n",
        "    std.append(statistics.stdev(temp))\n",
        "plt.clf()\n",
        "fig,ax=plt.subplots(constrained_layout=True)\n",
        "ax.plot(z_plot,med,label=\"Median\")\n",
        "ax.errorbar(z_plot,mean_error,std,label=\"Mean\")\n",
        "ax.set_xlabel(\"z\")\n",
        "ax.set_ylabel(\"Fractional Error\")\n",
        "ax.set_title(\"Fractional Error\")\n",
        "ax.legend()\n",
        "plt.savefig(\"/content/drive/My Drive/Colab Notebooks/centralerror.png\")\n"
      ],
      "metadata": {
        "colab": {
          "base_uri": "https://localhost:8080/",
          "height": 330
        },
        "id": "qitn9zM6glNT",
        "outputId": "061c9895-52bf-4e9a-82d2-f9c5cf724e65"
      },
      "execution_count": 9,
      "outputs": [
        {
          "output_type": "display_data",
          "data": {
            "text/plain": [
              "<Figure size 432x288 with 0 Axes>"
            ]
          },
          "metadata": {}
        },
        {
          "output_type": "display_data",
          "data": {
            "text/plain": [
              "<Figure size 432x288 with 1 Axes>"
            ],
            "image/png": "[encoded data removed]"
          },
          "metadata": {
            "needs_background": "light"
          }
        }
      ]
    }
  ]
}