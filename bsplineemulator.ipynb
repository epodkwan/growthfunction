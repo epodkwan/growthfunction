{
  "cells": [
    {
      "cell_type": "markdown",
      "metadata": {
        "id": "view-in-github",
        "colab_type": "text"
      },
      "source": [
        "<a href=\"https://colab.research.google.com/github/epodkwan/growthfunction/blob/main/bsplineemulator.ipynb\" target=\"_parent\"><img src=\"https://colab.research.google.com/assets/colab-badge.svg\" alt=\"Open In Colab\"/></a>"
      ]
    },
    {
      "cell_type": "code",
      "execution_count": null,
      "metadata": {
        "colab": {
          "base_uri": "https://localhost:8080/"
        },
        "id": "q4-XjIcYon34",
        "outputId": "ced3254c-4c5a-418b-f19d-bba511798a5f"
      },
      "outputs": [
        {
          "output_type": "stream",
          "name": "stdout",
          "text": [
            "Looking in indexes: https://pypi.org/simple, https://us-python.pkg.dev/colab-wheels/public/simple/\n",
            "Collecting flax\n",
            "  Downloading flax-0.6.0-py3-none-any.whl (180 kB)\n",
            "\u001b[K     |████████████████████████████████| 180 kB 13.8 MB/s \n",
            "\u001b[?25hRequirement already satisfied: typing-extensions>=4.1.1 in /usr/local/lib/python3.7/dist-packages (from flax) (4.1.1)\n",
            "Requirement already satisfied: numpy>=1.12 in /usr/local/lib/python3.7/dist-packages (from flax) (1.21.6)\n",
            "Requirement already satisfied: matplotlib in /usr/local/lib/python3.7/dist-packages (from flax) (3.2.2)\n",
            "Collecting optax\n",
            "  Downloading optax-0.1.3-py3-none-any.whl (145 kB)\n",
            "\u001b[K     |████████████████████████████████| 145 kB 73.8 MB/s \n",
            "\u001b[?25hCollecting rich~=11.1\n",
            "  Downloading rich-11.2.0-py3-none-any.whl (217 kB)\n",
            "\u001b[K     |████████████████████████████████| 217 kB 41.6 MB/s \n",
            "\u001b[?25hRequirement already satisfied: PyYAML>=5.4.1 in /usr/local/lib/python3.7/dist-packages (from flax) (6.0)\n",
            "Requirement already satisfied: msgpack in /usr/local/lib/python3.7/dist-packages (from flax) (1.0.4)\n",
            "Collecting jax>=0.3.16\n",
            "  Downloading jax-0.3.16.tar.gz (1.0 MB)\n",
            "\u001b[K     |████████████████████████████████| 1.0 MB 63.0 MB/s \n",
            "\u001b[?25hRequirement already satisfied: absl-py in /usr/local/lib/python3.7/dist-packages (from jax>=0.3.16->flax) (1.2.0)\n",
            "Requirement already satisfied: opt_einsum in /usr/local/lib/python3.7/dist-packages (from jax>=0.3.16->flax) (3.3.0)\n",
            "Requirement already satisfied: scipy>=1.5 in /usr/local/lib/python3.7/dist-packages (from jax>=0.3.16->flax) (1.7.3)\n",
            "Requirement already satisfied: etils[epath] in /usr/local/lib/python3.7/dist-packages (from jax>=0.3.16->flax) (0.7.1)\n",
            "Collecting commonmark<0.10.0,>=0.9.0\n",
            "  Downloading commonmark-0.9.1-py2.py3-none-any.whl (51 kB)\n",
            "\u001b[K     |████████████████████████████████| 51 kB 3.3 MB/s \n",
            "\u001b[?25hRequirement already satisfied: pygments<3.0.0,>=2.6.0 in /usr/local/lib/python3.7/dist-packages (from rich~=11.1->flax) (2.6.1)\n",
            "Collecting colorama<0.5.0,>=0.4.0\n",
            "  Downloading colorama-0.4.5-py2.py3-none-any.whl (16 kB)\n",
            "Requirement already satisfied: zipp in /usr/local/lib/python3.7/dist-packages (from etils[epath]->jax>=0.3.16->flax) (3.8.1)\n",
            "Requirement already satisfied: importlib_resources in /usr/local/lib/python3.7/dist-packages (from etils[epath]->jax>=0.3.16->flax) (5.9.0)\n",
            "Requirement already satisfied: pyparsing!=2.0.4,!=2.1.2,!=2.1.6,>=2.0.1 in /usr/local/lib/python3.7/dist-packages (from matplotlib->flax) (3.0.9)\n",
            "Requirement already satisfied: cycler>=0.10 in /usr/local/lib/python3.7/dist-packages (from matplotlib->flax) (0.11.0)\n",
            "Requirement already satisfied: kiwisolver>=1.0.1 in /usr/local/lib/python3.7/dist-packages (from matplotlib->flax) (1.4.4)\n",
            "Requirement already satisfied: python-dateutil>=2.1 in /usr/local/lib/python3.7/dist-packages (from matplotlib->flax) (2.8.2)\n",
            "Requirement already satisfied: six>=1.5 in /usr/local/lib/python3.7/dist-packages (from python-dateutil>=2.1->matplotlib->flax) (1.15.0)\n",
            "Requirement already satisfied: jaxlib>=0.1.37 in /usr/local/lib/python3.7/dist-packages (from optax->flax) (0.3.14+cuda11.cudnn805)\n",
            "Collecting chex>=0.0.4\n",
            "  Downloading chex-0.1.4-py3-none-any.whl (76 kB)\n",
            "\u001b[K     |████████████████████████████████| 76 kB 2.3 MB/s \n",
            "\u001b[?25hRequirement already satisfied: dm-tree>=0.1.5 in /usr/local/lib/python3.7/dist-packages (from chex>=0.0.4->optax->flax) (0.1.7)\n",
            "Requirement already satisfied: toolz>=0.9.0 in /usr/local/lib/python3.7/dist-packages (from chex>=0.0.4->optax->flax) (0.12.0)\n",
            "Requirement already satisfied: flatbuffers<3.0,>=1.12 in /usr/local/lib/python3.7/dist-packages (from jaxlib>=0.1.37->optax->flax) (2.0)\n",
            "Building wheels for collected packages: jax\n",
            "  Building wheel for jax (setup.py) ... \u001b[?25l\u001b[?25hdone\n",
            "  Created wheel for jax: filename=jax-0.3.16-py3-none-any.whl size=1197715 sha256=39eb7bab7005ff0ca2f8dbf4dce8f3b56be82c5b433875e68b9e26f643d5fe38\n",
            "  Stored in directory: /root/.cache/pip/wheels/b9/0d/a2/2091279bf29b90a2211a271f6f006ef13a656211a9e69ba1e3\n",
            "Successfully built jax\n",
            "Installing collected packages: jax, commonmark, colorama, chex, rich, optax, flax\n",
            "  Attempting uninstall: jax\n",
            "    Found existing installation: jax 0.3.14\n",
            "    Uninstalling jax-0.3.14:\n",
            "      Successfully uninstalled jax-0.3.14\n",
            "Successfully installed chex-0.1.4 colorama-0.4.5 commonmark-0.9.1 flax-0.6.0 jax-0.3.16 optax-0.1.3 rich-11.2.0\n"
          ]
        }
      ],
      "source": [
        "!pip install flax"
      ]
    },
    {
      "cell_type": "code",
      "execution_count": null,
      "metadata": {
        "id": "RMD-n6IkgEjG",
        "colab": {
          "base_uri": "https://localhost:8080/"
        },
        "outputId": "96592928-1973-4a2c-b44f-744e608960ad"
      },
      "outputs": [
        {
          "output_type": "stream",
          "name": "stderr",
          "text": [
            "WARNING:absl:GlobalAsyncCheckpointManager is not imported correctly. Checkpointing of GlobalDeviceArrays will not be available.To use the feature, install tensorstore.\n"
          ]
        }
      ],
      "source": [
        "import random\n",
        "import statistics\n",
        "from typing import Sequence\n",
        "import jax\n",
        "import optax\n",
        "import numpy as np\n",
        "import jax.numpy as jnp\n",
        "from jax import jit,vmap\n",
        "from flax import linen as nn\n",
        "from flax.training import train_state,checkpoints\n",
        "import matplotlib\n",
        "import matplotlib.pyplot as plt"
      ]
    },
    {
      "cell_type": "code",
      "execution_count": null,
      "metadata": {
        "id": "DIix1FfQm9G-"
      },
      "outputs": [],
      "source": [
        "class SimpleMLP(nn.Module):\n",
        "    features:Sequence[int]\n",
        "    nodes:int\n",
        "\n",
        "    @nn.compact\n",
        "    def __call__(self,inputs):\n",
        "        x=inputs\n",
        "        for i,feat in enumerate(self.features):\n",
        "            x=nn.Dense(feat)(x)\n",
        "            x=jnp.sin(x)\n",
        "        t=nn.Dense(nodes-1)(x)\n",
        "        c=nn.Dense(nodes+1)(x)\n",
        "        t=jnp.concatenate([jnp.zeros((t.shape[0],4)),jnp.cumsum(jax.nn.softmax(t),axis=1),jnp.ones((t.shape[0],3))],axis=1)\n",
        "        c=jnp.concatenate([jnp.zeros((c.shape[0],1)),c],axis=1)\n",
        "        return t,c"
      ]
    },
    {
      "cell_type": "code",
      "execution_count": null,
      "metadata": {
        "id": "o3LfEGANgevd"
      },
      "outputs": [],
      "source": [
        "def npy_loader(path):\n",
        "    return jnp.load(path)"
      ]
    },
    {
      "cell_type": "code",
      "execution_count": null,
      "metadata": {
        "id": "5ifY_O622ev_"
      },
      "outputs": [],
      "source": [
        "@jit\n",
        "def _deBoorVectorized(x,t,c):\n",
        "    p=3\n",
        "    k=jnp.digitize(x,t)-1\n",
        "    d=[c[j+k-p] for j in range(0,p+1)]\n",
        "    for r in range(1,p+1):\n",
        "        for j in range(p,r-1,-1):\n",
        "            alpha=(x-t[j+k-p])/(t[j+1+k-r]-t[j+k-p])\n",
        "            d[j]=(1.0-alpha)*d[j-1]+alpha*d[j]\n",
        "    return d[p]"
      ]
    },
    {
      "cell_type": "code",
      "execution_count": null,
      "metadata": {
        "id": "GuvwVgUnghBe"
      },
      "outputs": [],
      "source": [
        "layer_sizes=[64,64]\n",
        "nodes=16\n",
        "learning_rate=1e-6\n",
        "model=SimpleMLP(features=layer_sizes,nodes=nodes)\n",
        "temp=jnp.array([[1]])\n",
        "params=model.init(jax.random.PRNGKey(0),temp)\n",
        "tx=optax.adam(learning_rate=learning_rate)\n",
        "opt_state=tx.init(params)\n",
        "deBoor=vmap(_deBoorVectorized,in_axes=(None,0,0))\n",
        "state=train_state.TrainState.create(apply_fn=model.apply,params=params,tx=tx)"
      ]
    },
    {
      "cell_type": "code",
      "execution_count": null,
      "metadata": {
        "id": "J_OUM4Xf3RiI"
      },
      "outputs": [],
      "source": [
        "@jit\n",
        "def eval_func(params,x,a):\n",
        "    t,c=restored_state.apply_fn(params,x)\n",
        "    preds=deBoor(jnp.clip(a,0,0.99999),t,c)\n",
        "    return preds"
      ]
    },
    {
      "cell_type": "code",
      "execution_count": null,
      "metadata": {
        "colab": {
          "base_uri": "https://localhost:8080/"
        },
        "id": "JHc6T5H_g51l",
        "outputId": "b60c2f89-1afd-4df5-ee44-d98814909479"
      },
      "outputs": [
        {
          "output_type": "stream",
          "name": "stdout",
          "text": [
            "Mounted at /content/drive\n"
          ]
        }
      ],
      "source": [
        "from google.colab import drive\n",
        "drive.mount('/content/drive')"
      ]
    },
    {
      "cell_type": "code",
      "execution_count": null,
      "metadata": {
        "id": "qitn9zM6glNT"
      },
      "outputs": [],
      "source": [
        "restored_state=checkpoints.restore_checkpoint(ckpt_dir=\"/content/drive/My Drive/Colab Notebooks/retrain/checkpoint_0\",target=state)\n",
        "cosmo=npy_loader(\"/content/drive/My Drive/Colab Notebooks/data1/cosmo.npy\")\n",
        "cosmo_num=random.randrange(1000)\n",
        "parameters=np.array([[cosmo[cosmo_num,0]]])\n",
        "input_result=npy_loader(\"/content/drive/My Drive/Colab Notebooks/data1/combined.npy\")\n",
        "check_result=npy_loader(\"/content/drive/My Drive/Colab Notebooks/data1check/\"+str(cosmo_num)+\".npy\")\n",
        "a=npy_loader(\"/content/drive/My Drive/Colab Notebooks/data1/999.npy\")[0,:]\n",
        "d_data=input_result[cosmo_num,:]\n",
        "d_test=eval_func(restored_state.params,parameters,a).reshape(-1)\n",
        "d_check=eval_func(restored_state.params,parameters,check_result[0,:]).reshape(-1)\n",
        "discrepancy=d_test/d_data\n",
        "# discrepancy=d_check/check_result[1,:]\n",
        "fig,(ax1,ax2)=plt.subplots(2,1,constrained_layout=True)\n",
        "ax1.plot(a,d_data,label=\"Reference\")\n",
        "ax1.plot(a,d_test,label=\"Fitting\")\n",
        "ax1.plot(check_result[0,:],d_check,label=\"Verify\")\n",
        "ax1.set_ylabel(\"D\")\n",
        "ax1.legend()\n",
        "ax1.set_title(\"Omega_m=\"+str(np.round(parameters[0,0],3)))\n",
        "ax2.plot(a,discrepancy,label=\"Discrepancy\")\n",
        "ax2.set_xlabel(\"a\")\n",
        "ax2.set_ylabel(\"Predict/Data\")\n",
        "ax2.ticklabel_format(useOffset=False)\n",
        "ax2.legend()\n",
        "plt.savefig(\"/content/drive/My Drive/Colab Notebooks/cosmo\"+str(cosmo_num)+\".png\")\n",
        "a_plot=[]\n",
        "med=[]\n",
        "mean_error=[]\n",
        "std=[]\n",
        "for i in range(10):\n",
        "    plt.clf()\n",
        "    temp=[]\n",
        "    for j in range(1000):\n",
        "        cosmo_num=j\n",
        "        d_data=input_result[cosmo_num,:]\n",
        "        parameters[0,0]=cosmo[cosmo_num,0]\n",
        "        d_test=eval_func(restored_state.params,parameters,a).reshape(-1)\n",
        "        temp.append((d_test[i*28]/d_data[i*28]-1).item())\n",
        "        plt.scatter(cosmo[cosmo_num,0].item(),temp[-1],c='b')\n",
        "    plt.xlabel(\"Omega_m\")\n",
        "    plt.ylabel(\"Fractional Error\")\n",
        "    plt.title(\"Fractional Error of Cosmos (a=\"+str(np.round(a[i*28].item(),3))+\")\")\n",
        "    plt.savefig(\"/content/drive/My Drive/Colab Notebooks/error\"+str(i)+\".png\")\n",
        "    a_plot.append(a[i*28].item())\n",
        "    med.append(statistics.median(temp))\n",
        "    mean_error.append(statistics.mean(temp))\n",
        "    std.append(statistics.stdev(temp))\n",
        "plt.clf()\n",
        "fig,ax=plt.subplots(constrained_layout=True)\n",
        "ax.plot(a_plot,med,label=\"Median\")\n",
        "ax.errorbar(a_plot,mean_error,std,label=\"Mean\")\n",
        "ax.set_xscale('log')\n",
        "ax.set_xlabel(\"a\")\n",
        "ax.set_ylabel(\"Fractional Error\")\n",
        "ax.set_title(\"Fractional Error\")\n",
        "ax.legend()\n",
        "plt.savefig(\"/content/drive/My Drive/Colab Notebooks/centralerror.png\")\n",
        "drive.flush_and_unmount()"
      ]
    }
  ],
  "metadata": {
    "colab": {
      "collapsed_sections": [],
      "name": "bsplineemulator.ipynb",
      "provenance": [],
      "authorship_tag": "ABX9TyO7qwTZQ2GxfQGtb/S4SXd1",
      "include_colab_link": true
    },
    "gpuClass": "standard",
    "kernelspec": {
      "display_name": "Python 3",
      "name": "python3"
    },
    "language_info": {
      "name": "python"
    }
  },
  "nbformat": 4,
  "nbformat_minor": 0
}