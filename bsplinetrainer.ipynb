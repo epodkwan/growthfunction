{
  "cells": [
    {
      "cell_type": "markdown",
      "metadata": {
        "id": "view-in-github",
        "colab_type": "text"
      },
      "source": [
        "<a href=\"https://colab.research.google.com/github/epodkwan/growthfunction/blob/main/bsplinetrainer.ipynb\" target=\"_parent\"><img src=\"https://colab.research.google.com/assets/colab-badge.svg\" alt=\"Open In Colab\"/></a>"
      ]
    },
    {
      "cell_type": "code",
      "execution_count": 1,
      "metadata": {
        "colab": {
          "base_uri": "https://localhost:8080/"
        },
        "id": "OgZPjwP-NEwE",
        "outputId": "217c68fa-b849-4630-8736-07aa51033b84"
      },
      "outputs": [
        {
          "output_type": "stream",
          "name": "stdout",
          "text": [
            "Looking in indexes: https://pypi.org/simple, https://us-python.pkg.dev/colab-wheels/public/simple/\n",
            "Requirement already satisfied: flax in /usr/local/lib/python3.7/dist-packages (0.5.3)\n",
            "Requirement already satisfied: jax>=0.3.2 in /usr/local/lib/python3.7/dist-packages (from flax) (0.3.14)\n",
            "Requirement already satisfied: rich~=11.1 in /usr/local/lib/python3.7/dist-packages (from flax) (11.2.0)\n",
            "Requirement already satisfied: matplotlib in /usr/local/lib/python3.7/dist-packages (from flax) (3.2.2)\n",
            "Requirement already satisfied: typing-extensions>=4.1.1 in /usr/local/lib/python3.7/dist-packages (from flax) (4.1.1)\n",
            "Requirement already satisfied: PyYAML>=5.4.1 in /usr/local/lib/python3.7/dist-packages (from flax) (6.0)\n",
            "Requirement already satisfied: optax in /usr/local/lib/python3.7/dist-packages (from flax) (0.1.3)\n",
            "Requirement already satisfied: tensorstore in /usr/local/lib/python3.7/dist-packages (from flax) (0.1.22)\n",
            "Requirement already satisfied: msgpack in /usr/local/lib/python3.7/dist-packages (from flax) (1.0.4)\n",
            "Requirement already satisfied: numpy>=1.12 in /usr/local/lib/python3.7/dist-packages (from flax) (1.21.6)\n",
            "Requirement already satisfied: scipy>=1.5 in /usr/local/lib/python3.7/dist-packages (from jax>=0.3.2->flax) (1.7.3)\n",
            "Requirement already satisfied: absl-py in /usr/local/lib/python3.7/dist-packages (from jax>=0.3.2->flax) (1.2.0)\n",
            "Requirement already satisfied: etils[epath] in /usr/local/lib/python3.7/dist-packages (from jax>=0.3.2->flax) (0.6.0)\n",
            "Requirement already satisfied: opt-einsum in /usr/local/lib/python3.7/dist-packages (from jax>=0.3.2->flax) (3.3.0)\n",
            "Requirement already satisfied: commonmark<0.10.0,>=0.9.0 in /usr/local/lib/python3.7/dist-packages (from rich~=11.1->flax) (0.9.1)\n",
            "Requirement already satisfied: pygments<3.0.0,>=2.6.0 in /usr/local/lib/python3.7/dist-packages (from rich~=11.1->flax) (2.6.1)\n",
            "Requirement already satisfied: colorama<0.5.0,>=0.4.0 in /usr/local/lib/python3.7/dist-packages (from rich~=11.1->flax) (0.4.5)\n",
            "Requirement already satisfied: zipp in /usr/local/lib/python3.7/dist-packages (from etils[epath]->jax>=0.3.2->flax) (3.8.1)\n",
            "Requirement already satisfied: importlib_resources in /usr/local/lib/python3.7/dist-packages (from etils[epath]->jax>=0.3.2->flax) (5.9.0)\n",
            "Requirement already satisfied: kiwisolver>=1.0.1 in /usr/local/lib/python3.7/dist-packages (from matplotlib->flax) (1.4.4)\n",
            "Requirement already satisfied: python-dateutil>=2.1 in /usr/local/lib/python3.7/dist-packages (from matplotlib->flax) (2.8.2)\n",
            "Requirement already satisfied: cycler>=0.10 in /usr/local/lib/python3.7/dist-packages (from matplotlib->flax) (0.11.0)\n",
            "Requirement already satisfied: pyparsing!=2.0.4,!=2.1.2,!=2.1.6,>=2.0.1 in /usr/local/lib/python3.7/dist-packages (from matplotlib->flax) (3.0.9)\n",
            "Requirement already satisfied: six>=1.5 in /usr/local/lib/python3.7/dist-packages (from python-dateutil>=2.1->matplotlib->flax) (1.15.0)\n",
            "Requirement already satisfied: jaxlib>=0.1.37 in /usr/local/lib/python3.7/dist-packages (from optax->flax) (0.3.14+cuda11.cudnn805)\n",
            "Requirement already satisfied: chex>=0.0.4 in /usr/local/lib/python3.7/dist-packages (from optax->flax) (0.1.4)\n",
            "Requirement already satisfied: dm-tree>=0.1.5 in /usr/local/lib/python3.7/dist-packages (from chex>=0.0.4->optax->flax) (0.1.7)\n",
            "Requirement already satisfied: toolz>=0.9.0 in /usr/local/lib/python3.7/dist-packages (from chex>=0.0.4->optax->flax) (0.12.0)\n",
            "Requirement already satisfied: flatbuffers<3.0,>=1.12 in /usr/local/lib/python3.7/dist-packages (from jaxlib>=0.1.37->optax->flax) (2.0)\n"
          ]
        }
      ],
      "source": [
        "!pip install flax"
      ]
    },
    {
      "cell_type": "code",
      "execution_count": 2,
      "metadata": {
        "id": "GXP7APTktM23"
      },
      "outputs": [],
      "source": [
        "from typing import Sequence\n",
        "import jax\n",
        "import optax\n",
        "import numpy as np\n",
        "import jax.numpy as jnp\n",
        "from jax import jit,random,vmap\n",
        "from flax import linen as nn\n",
        "from flax.training import train_state,checkpoints\n",
        "import matplotlib.pyplot as plt"
      ]
    },
    {
      "cell_type": "code",
      "execution_count": 3,
      "metadata": {
        "id": "Wsb6hTLBtacv"
      },
      "outputs": [],
      "source": [
        "class SimpleMLP(nn.Module):\n",
        "    features:Sequence[int]\n",
        "    nodes:int\n",
        "\n",
        "    @nn.compact\n",
        "    def __call__(self,inputs):\n",
        "        x=inputs\n",
        "        for i,feat in enumerate(self.features):\n",
        "            x=nn.Dense(feat)(x)\n",
        "            x=nn.relu(x)\n",
        "        t=nn.Dense(nodes-1)(x)\n",
        "        c=nn.Dense(nodes+1)(x)\n",
        "        return t,c"
      ]
    },
    {
      "cell_type": "code",
      "execution_count": 4,
      "metadata": {
        "id": "seVyHnrBtU9a"
      },
      "outputs": [],
      "source": [
        "def npy_loader(path):\n",
        "    return jnp.load(path)"
      ]
    },
    {
      "cell_type": "code",
      "source": [
        "@jit\n",
        "def _deBoorVectorized(x,t,c):\n",
        "    k=jnp.digitize(x,t)-1\n",
        "    d=[c[j+k-3] for j in range(0,4)]\n",
        "    for r in range(1,4):\n",
        "        for j in range(3,r-1,-1):\n",
        "            alpha=(x-t[j+k-3])/(t[j+1+k-r]-t[j+k-3])\n",
        "            d[j]=(1-alpha)*d[j-1]+alpha*d[j]\n",
        "    return d[3]"
      ],
      "metadata": {
        "id": "04vwJv7pMgwz"
      },
      "execution_count": 5,
      "outputs": []
    },
    {
      "cell_type": "code",
      "execution_count": 6,
      "metadata": {
        "id": "wQ0f5JoEteu2"
      },
      "outputs": [],
      "source": [
        "layer_sizes=[64,256,256]\n",
        "nodes=5\n",
        "learning_rate=1e-6\n",
        "epochs=25000\n",
        "model=SimpleMLP(features=layer_sizes,nodes=nodes)\n",
        "temp=jnp.ones(2)\n",
        "params=model.init(random.PRNGKey(0),temp)\n",
        "tx=optax.adam(learning_rate=learning_rate)\n",
        "opt_state=tx.init(params)\n",
        "deBoor=vmap(_deBoorVectorized,in_axes=(None,0,0))"
      ]
    },
    {
      "cell_type": "code",
      "execution_count": 7,
      "metadata": {
        "id": "Q4ETnEgYtiz4"
      },
      "outputs": [],
      "source": [
        "@jit\n",
        "def mse_loss(params,x,y_ref,a):\n",
        "    t,c=model.apply(params,x)\n",
        "    t=jnp.concatenate([jnp.zeros((t.shape[0],3)),jnp.cumsum(jax.nn.softmax(t),axis=1),jnp.ones((t.shape[0],3))],axis=1)\n",
        "    preds=deBoor(a,t,c)\n",
        "    diff=preds-y_ref\n",
        "    return jnp.mean(diff*diff)"
      ]
    },
    {
      "cell_type": "code",
      "execution_count": 8,
      "metadata": {
        "id": "5KYoOW_TtkmZ"
      },
      "outputs": [],
      "source": [
        "@jit\n",
        "def train_step(params,opt_state,x,y_ref,a):\n",
        "    loss,grads=jax.value_and_grad(mse_loss,argnums=0)(params,x,y_ref,a)\n",
        "    updates,opt_state=tx.update(grads,opt_state)\n",
        "    params=optax.apply_updates(params,updates)\n",
        "    return loss,params,opt_state"
      ]
    },
    {
      "cell_type": "code",
      "execution_count": 9,
      "metadata": {
        "id": "w5SOhOLwaCFU"
      },
      "outputs": [],
      "source": [
        "@jit\n",
        "def epoch_step(x_train,y_train,params,opt_state,order,a):\n",
        "    order=random.permutation(random.PRNGKey(i),order)\n",
        "    train_loss=0\n",
        "    for j in range(25):\n",
        "        x_batch=x_train[order[32*j:32*(j+1)],:]\n",
        "        y_batch=y_train[order[32*j:32*(j+1)],:]\n",
        "        loss,params,opt_state=train_step(params,opt_state,x_batch,y_batch,a)\n",
        "        train_loss=train_loss+loss\n",
        "    return train_loss,params"
      ]
    },
    {
      "cell_type": "code",
      "execution_count": 10,
      "metadata": {
        "colab": {
          "base_uri": "https://localhost:8080/"
        },
        "id": "kspaBRb5xVKq",
        "outputId": "b4d83742-ede1-494a-96f2-8244ed917c74"
      },
      "outputs": [
        {
          "output_type": "stream",
          "name": "stdout",
          "text": [
            "Mounted at /content/drive\n"
          ]
        }
      ],
      "source": [
        "from google.colab import drive\n",
        "drive.mount('/content/drive')"
      ]
    },
    {
      "cell_type": "code",
      "execution_count": 11,
      "metadata": {
        "id": "uaH8AxCAtXHD"
      },
      "outputs": [],
      "source": [
        "input_data=npy_loader(\"/content/drive/My Drive/Colab Notebooks/cosmo.npy\")\n",
        "raw_input_result=npy_loader(\"/content/drive/My Drive/Colab Notebooks/combined.npy\")\n",
        "a=npy_loader(\"/content/drive/My Drive/Colab Notebooks/999.npy\")[0,:]\n",
        "input_result=jnp.log(raw_input_result)\n",
        "x_train=jnp.stack((input_data[0:800,0],input_data[0:800,2]),axis=1)\n",
        "y_train=input_result[0:800,:]\n",
        "x_validate=jnp.stack((input_data[800:900,0],input_data[800:900,2]),axis=1)\n",
        "y_validate=input_result[800:900,:]"
      ]
    },
    {
      "cell_type": "code",
      "execution_count": 12,
      "metadata": {
        "colab": {
          "base_uri": "https://localhost:8080/",
          "height": 746
        },
        "id": "XBEEkIgktmtw",
        "outputId": "2560f23a-ca29-4fa0-e2f1-62f43d1fa55d"
      },
      "outputs": [
        {
          "output_type": "stream",
          "name": "stdout",
          "text": [
            "1000 nan\n",
            "2000 nan\n",
            "3000 nan\n",
            "4000 nan\n",
            "5000 nan\n",
            "6000 nan\n",
            "7000 nan\n",
            "8000 nan\n",
            "9000 nan\n",
            "10000 nan\n",
            "11000 nan\n",
            "12000 nan\n",
            "13000 nan\n",
            "14000 nan\n",
            "15000 nan\n",
            "16000 nan\n",
            "17000 nan\n",
            "18000 nan\n",
            "19000 nan\n",
            "20000 nan\n",
            "21000 nan\n",
            "22000 nan\n",
            "23000 nan\n",
            "24000 nan\n",
            "25000 nan\n",
            "Training ended\n"
          ]
        },
        {
          "output_type": "display_data",
          "data": {
            "text/plain": [
              "<Figure size 432x288 with 1 Axes>"
            ],
            "image/png": "[encoded data removed]"
          },
          "metadata": {
            "needs_background": "light"
          }
        }
      ],
      "source": [
        "order=jnp.arange(800)\n",
        "for i in range(epochs):\n",
        "    train_loss,params=epoch_step(x_train,y_train,params,opt_state,order,a)\n",
        "    if i % 1000 == 999:\n",
        "        train_loss=train_loss/25\n",
        "        validate_loss=mse_loss(params,x_validate,y_validate,a)\n",
        "        print((i+1),validate_loss)\n",
        "        plt.scatter((i+1),train_loss,c='b')\n",
        "        plt.scatter((i+1),validate_loss,c='g')\n",
        "print(\"Training ended\")\n",
        "state=train_state.TrainState.create(apply_fn=model.apply,params=params,tx=tx)\n",
        "checkpoints.save_checkpoint(ckpt_dir=\"/content/drive/My Drive/Colab Notebooks\",target=state,step=0,overwrite=True)\n",
        "plt.yscale('log')\n",
        "plt.xlabel(\"Epoch\")\n",
        "plt.ylabel(\"Loss\")\n",
        "plt.title(\"Loss function\")\n",
        "plt.legend([\"Training Loss\",\"Validation Loss\"])\n",
        "plt.savefig(\"/content/drive/My Drive/Colab Notebooks/loss.png\")\n",
        "drive.flush_and_unmount()"
      ]
    },
    {
      "cell_type": "code",
      "execution_count": 13,
      "metadata": {
        "id": "h4lHuAF6tpcK",
        "colab": {
          "base_uri": "https://localhost:8080/"
        },
        "outputId": "3e410062-e5ec-4c2b-8f0e-d793ea087b2a"
      },
      "outputs": [
        {
          "output_type": "stream",
          "name": "stdout",
          "text": [
            "[[       nan        nan        nan ... 0.97537136 0.98755217 0.99971473]\n",
            " [       nan        nan        nan ... 0.97891885 0.9895562  1.000129  ]\n",
            " [       nan        nan        nan ... 0.9837239  0.99201024 1.0001837 ]\n",
            " ...\n",
            " [       nan        nan        nan ... 0.9834242  0.99180746 1.0000781 ]\n",
            " [       nan        nan        nan ... 0.98699725 0.9935924  1.000063  ]\n",
            " [       nan        nan        nan ... 0.9770421  0.98861766 1.0001576 ]]\n",
            "Max error = nan %\n"
          ]
        }
      ],
      "source": [
        "x_test=jnp.stack((input_data[900:1000,0],input_data[900:1000,2]),axis=1)\n",
        "y_test=raw_input_result[900:1000,:]\n",
        "t_test,c_test=model.apply(params,x_test)\n",
        "t_test=jnp.concatenate([jnp.zeros((t_test.shape[0],3)),jnp.cumsum(jax.nn.softmax(t_test),axis=1),jnp.ones((t_test.shape[0],3))],axis=1)\n",
        "y_pred=jnp.exp(deBoor(a,t_test,c_test))\n",
        "print(y_pred)\n",
        "error=abs(y_pred/y_test-1)\n",
        "print(\"Max error =\",jnp.max(error)*100,\"%\")"
      ]
    },
    {
      "cell_type": "code",
      "execution_count": 13,
      "metadata": {
        "id": "qJ5kCMiTs77t"
      },
      "outputs": [],
      "source": [
        ""
      ]
    }
  ],
  "metadata": {
    "accelerator": "GPU",
    "colab": {
      "collapsed_sections": [],
      "name": "bsplinetrainer.ipynb",
      "provenance": [],
      "authorship_tag": "ABX9TyNsPsyxSpLf0amcEQbOssb+",
      "include_colab_link": true
    },
    "gpuClass": "standard",
    "kernelspec": {
      "display_name": "Python 3",
      "name": "python3"
    },
    "language_info": {
      "name": "python"
    }
  },
  "nbformat": 4,
  "nbformat_minor": 0
}