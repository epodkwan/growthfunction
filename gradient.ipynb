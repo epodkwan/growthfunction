{
  "nbformat": 4,
  "nbformat_minor": 0,
  "metadata": {
    "colab": {
      "name": "gradient.ipynb",
      "provenance": [],
      "collapsed_sections": [],
      "authorship_tag": "ABX9TyPfcL/ijqK9MleC36uY0Mzt",
      "include_colab_link": true
    },
    "kernelspec": {
      "name": "python3",
      "display_name": "Python 3"
    },
    "language_info": {
      "name": "python"
    },
    "gpuClass": "standard"
  },
  "cells": [
    {
      "cell_type": "markdown",
      "metadata": {
        "id": "view-in-github",
        "colab_type": "text"
      },
      "source": [
        "<a href=\"https://colab.research.google.com/github/epodkwan/growthfunction/blob/main/gradient.ipynb\" target=\"_parent\"><img src=\"https://colab.research.google.com/assets/colab-badge.svg\" alt=\"Open In Colab\"/></a>"
      ]
    },
    {
      "cell_type": "code",
      "source": [
        "!pip install flax"
      ],
      "metadata": {
        "colab": {
          "base_uri": "https://localhost:8080/"
        },
        "id": "q4-XjIcYon34",
        "outputId": "fc01f8d2-27a8-4b24-e151-14da7721e6dd"
      },
      "execution_count": 3,
      "outputs": [
        {
          "output_type": "stream",
          "name": "stdout",
          "text": [
            "Looking in indexes: https://pypi.org/simple, https://us-python.pkg.dev/colab-wheels/public/simple/\n",
            "Collecting flax\n",
            "  Downloading flax-0.5.3-py3-none-any.whl (202 kB)\n",
            "\u001b[K     |████████████████████████████████| 202 kB 23.4 MB/s \n",
            "\u001b[?25hRequirement already satisfied: typing-extensions>=4.1.1 in /usr/local/lib/python3.7/dist-packages (from flax) (4.1.1)\n",
            "Collecting tensorstore\n",
            "  Downloading tensorstore-0.1.21-cp37-cp37m-manylinux_2_17_x86_64.manylinux2014_x86_64.whl (9.1 MB)\n",
            "\u001b[K     |████████████████████████████████| 9.1 MB 57.4 MB/s \n",
            "\u001b[?25hRequirement already satisfied: numpy>=1.12 in /usr/local/lib/python3.7/dist-packages (from flax) (1.21.6)\n",
            "Requirement already satisfied: jax>=0.3.2 in /usr/local/lib/python3.7/dist-packages (from flax) (0.3.14)\n",
            "Collecting rich~=11.1\n",
            "  Downloading rich-11.2.0-py3-none-any.whl (217 kB)\n",
            "\u001b[K     |████████████████████████████████| 217 kB 44.9 MB/s \n",
            "\u001b[?25hRequirement already satisfied: msgpack in /usr/local/lib/python3.7/dist-packages (from flax) (1.0.4)\n",
            "Collecting PyYAML>=5.4.1\n",
            "  Downloading PyYAML-6.0-cp37-cp37m-manylinux_2_5_x86_64.manylinux1_x86_64.manylinux_2_12_x86_64.manylinux2010_x86_64.whl (596 kB)\n",
            "\u001b[K     |████████████████████████████████| 596 kB 55.5 MB/s \n",
            "\u001b[?25hRequirement already satisfied: matplotlib in /usr/local/lib/python3.7/dist-packages (from flax) (3.2.2)\n",
            "Collecting optax\n",
            "  Downloading optax-0.1.3-py3-none-any.whl (145 kB)\n",
            "\u001b[K     |████████████████████████████████| 145 kB 61.2 MB/s \n",
            "\u001b[?25hRequirement already satisfied: opt-einsum in /usr/local/lib/python3.7/dist-packages (from jax>=0.3.2->flax) (3.3.0)\n",
            "Requirement already satisfied: etils[epath] in /usr/local/lib/python3.7/dist-packages (from jax>=0.3.2->flax) (0.6.0)\n",
            "Requirement already satisfied: absl-py in /usr/local/lib/python3.7/dist-packages (from jax>=0.3.2->flax) (1.2.0)\n",
            "Requirement already satisfied: scipy>=1.5 in /usr/local/lib/python3.7/dist-packages (from jax>=0.3.2->flax) (1.7.3)\n",
            "Collecting commonmark<0.10.0,>=0.9.0\n",
            "  Downloading commonmark-0.9.1-py2.py3-none-any.whl (51 kB)\n",
            "\u001b[K     |████████████████████████████████| 51 kB 7.3 MB/s \n",
            "\u001b[?25hRequirement already satisfied: pygments<3.0.0,>=2.6.0 in /usr/local/lib/python3.7/dist-packages (from rich~=11.1->flax) (2.6.1)\n",
            "Collecting colorama<0.5.0,>=0.4.0\n",
            "  Downloading colorama-0.4.5-py2.py3-none-any.whl (16 kB)\n",
            "Requirement already satisfied: importlib_resources in /usr/local/lib/python3.7/dist-packages (from etils[epath]->jax>=0.3.2->flax) (5.9.0)\n",
            "Requirement already satisfied: zipp in /usr/local/lib/python3.7/dist-packages (from etils[epath]->jax>=0.3.2->flax) (3.8.1)\n",
            "Requirement already satisfied: pyparsing!=2.0.4,!=2.1.2,!=2.1.6,>=2.0.1 in /usr/local/lib/python3.7/dist-packages (from matplotlib->flax) (3.0.9)\n",
            "Requirement already satisfied: python-dateutil>=2.1 in /usr/local/lib/python3.7/dist-packages (from matplotlib->flax) (2.8.2)\n",
            "Requirement already satisfied: kiwisolver>=1.0.1 in /usr/local/lib/python3.7/dist-packages (from matplotlib->flax) (1.4.4)\n",
            "Requirement already satisfied: cycler>=0.10 in /usr/local/lib/python3.7/dist-packages (from matplotlib->flax) (0.11.0)\n",
            "Requirement already satisfied: six>=1.5 in /usr/local/lib/python3.7/dist-packages (from python-dateutil>=2.1->matplotlib->flax) (1.15.0)\n",
            "Requirement already satisfied: jaxlib>=0.1.37 in /usr/local/lib/python3.7/dist-packages (from optax->flax) (0.3.14+cuda11.cudnn805)\n",
            "Collecting chex>=0.0.4\n",
            "  Downloading chex-0.1.3-py3-none-any.whl (72 kB)\n",
            "\u001b[K     |████████████████████████████████| 72 kB 634 kB/s \n",
            "\u001b[?25hRequirement already satisfied: toolz>=0.9.0 in /usr/local/lib/python3.7/dist-packages (from chex>=0.0.4->optax->flax) (0.12.0)\n",
            "Requirement already satisfied: dm-tree>=0.1.5 in /usr/local/lib/python3.7/dist-packages (from chex>=0.0.4->optax->flax) (0.1.7)\n",
            "Requirement already satisfied: flatbuffers<3.0,>=1.12 in /usr/local/lib/python3.7/dist-packages (from jaxlib>=0.1.37->optax->flax) (2.0)\n",
            "Installing collected packages: commonmark, colorama, chex, tensorstore, rich, PyYAML, optax, flax\n",
            "  Attempting uninstall: PyYAML\n",
            "    Found existing installation: PyYAML 3.13\n",
            "    Uninstalling PyYAML-3.13:\n",
            "      Successfully uninstalled PyYAML-3.13\n",
            "Successfully installed PyYAML-6.0 chex-0.1.3 colorama-0.4.5 commonmark-0.9.1 flax-0.5.3 optax-0.1.3 rich-11.2.0 tensorstore-0.1.21\n"
          ]
        }
      ]
    },
    {
      "cell_type": "code",
      "execution_count": 4,
      "metadata": {
        "id": "RMD-n6IkgEjG"
      },
      "outputs": [],
      "source": [
        "from typing import Sequence\n",
        "import jax\n",
        "import optax\n",
        "import numpy as np\n",
        "import jax.numpy as jnp\n",
        "from jax import jit\n",
        "from flax import linen as nn\n",
        "from flax.training import train_state,checkpoints"
      ]
    },
    {
      "cell_type": "code",
      "source": [
        "def npy_loader(path):\n",
        "    return jnp.load(path)"
      ],
      "metadata": {
        "id": "o3LfEGANgevd"
      },
      "execution_count": 5,
      "outputs": []
    },
    {
      "cell_type": "code",
      "source": [
        "class SimpleMLP(nn.Module):\n",
        "    features:Sequence[int]\n",
        "\n",
        "    @nn.compact\n",
        "    def __call__(self,inputs):\n",
        "        x=inputs\n",
        "        for i,feat in enumerate(self.features):\n",
        "            x=nn.Dense(feat)(x)\n",
        "            if i != len(self.features)-1:\n",
        "                x=nn.relu(x)\n",
        "        return x"
      ],
      "metadata": {
        "id": "DIix1FfQm9G-"
      },
      "execution_count": 6,
      "outputs": []
    },
    {
      "cell_type": "code",
      "source": [
        "layer_sizes=[64,256,256,256]\n",
        "learning_rate=1e-6\n",
        "model=SimpleMLP(features=layer_sizes)\n",
        "temp=jnp.ones(2)\n",
        "params=model.init(jax.random.PRNGKey(0),temp)\n",
        "tx=optax.adam(learning_rate=learning_rate,b1=0.99)\n",
        "opt_state=tx.init(params)\n",
        "state=train_state.TrainState.create(apply_fn=model.apply,params=params,tx=tx)"
      ],
      "metadata": {
        "id": "GuvwVgUnghBe",
        "colab": {
          "base_uri": "https://localhost:8080/"
        },
        "outputId": "5609c3e3-2bc1-4297-dc32-50fd2ad2a0a6"
      },
      "execution_count": 7,
      "outputs": [
        {
          "output_type": "stream",
          "name": "stderr",
          "text": [
            "WARNING:absl:No GPU/TPU found, falling back to CPU. (Set TF_CPP_MIN_LOG_LEVEL=0 and rerun for more info.)\n"
          ]
        }
      ]
    },
    {
      "cell_type": "code",
      "source": [
        "from google.colab import drive\n",
        "drive.mount('/content/drive')"
      ],
      "metadata": {
        "colab": {
          "base_uri": "https://localhost:8080/"
        },
        "id": "JHc6T5H_g51l",
        "outputId": "85590990-28df-4f1a-e193-2161cd564bcd"
      },
      "execution_count": 13,
      "outputs": [
        {
          "output_type": "stream",
          "name": "stdout",
          "text": [
            "Mounted at /content/drive\n"
          ]
        }
      ]
    },
    {
      "cell_type": "code",
      "source": [
        "restored_state=checkpoints.restore_checkpoint(ckpt_dir=\"/content/drive/My Drive/Colab Notebooks/checkpoint_0\",target=state)\n",
        "cosmo=npy_loader(\"/content/drive/My Drive/Colab Notebooks/cosmo.npy\")"
      ],
      "metadata": {
        "id": "VynXiI3Hut45"
      },
      "execution_count": 14,
      "outputs": []
    },
    {
      "cell_type": "code",
      "source": [
        "@jit\n",
        "def predict(params,x,j):\n",
        "    pred=jnp.exp(restored_state.apply_fn(params,x))\n",
        "    return pred[j]"
      ],
      "metadata": {
        "id": "JOBrkdcC5zZv"
      },
      "execution_count": 15,
      "outputs": []
    },
    {
      "cell_type": "code",
      "source": [
        "@jit\n",
        "def gradient_at(i,j):\n",
        "    value,gradient=jax.value_and_grad(predict,1)(restored_state.params,jnp.array([cosmo[i,0],cosmo[i,2]]),j)\n",
        "    return gradient"
      ],
      "metadata": {
        "id": "VuFV3EYkLH03"
      },
      "execution_count": 16,
      "outputs": []
    },
    {
      "cell_type": "code",
      "source": [
        "for i in range(256):\n",
        "    gradient=gradient_at(i,0)\n",
        "    print(gradient)\n",
        "drive.flush_and_unmount()"
      ],
      "metadata": {
        "colab": {
          "base_uri": "https://localhost:8080/"
        },
        "id": "qitn9zM6glNT",
        "outputId": "c6da4b3a-22ae-4f39-bf0a-e077db5cba7f"
      },
      "execution_count": 17,
      "outputs": [
        {
          "output_type": "stream",
          "name": "stdout",
          "text": [
            "[-0.00969556 -0.00097546]\n",
            "[-0.00724644  0.00164647]\n",
            "[-0.02539393 -0.00082254]\n",
            "[-0.00698015 -0.00039439]\n",
            "[-0.03381014 -0.00332933]\n",
            "[-0.01011131 -0.00098941]\n",
            "[-0.01145566 -0.00167335]\n",
            "[-0.04179464 -0.00366759]\n",
            "[-0.01994135 -0.00095894]\n",
            "[-0.00992877 -0.00069112]\n",
            "[-0.02034703 -0.00079838]\n",
            "[-0.01684329 -0.00136619]\n",
            "[-0.01743107 -0.00141387]\n",
            "[-0.01579178 -0.00320797]\n",
            "[-0.06052754 -0.00638826]\n",
            "[-0.01023008 -0.00100104]\n",
            "[-0.0430318  -0.00483406]\n",
            "[-0.0449253  -0.00167431]\n",
            "[-0.01692978 -0.0040763 ]\n",
            "[-0.02116844 -0.00359866]\n",
            "[-0.04763147 -0.0029486 ]\n",
            "[-0.01862137 -0.00019548]\n",
            "[-0.01090807 -0.00101749]\n",
            "[-0.0083493  -0.00086184]\n",
            "[-0.00697048 -0.00141456]\n",
            "[-0.00725721 -0.00121846]\n",
            "[-0.00744338 -0.00159115]\n",
            "[-0.00882618 -0.0004947 ]\n",
            "[-0.02131055 -0.00115828]\n",
            "[-0.00509593 -0.00037789]\n",
            "[-0.010048   -0.00069942]\n",
            "[-0.00850423 -0.00087783]\n",
            "[-0.00556357 -0.00095524]\n",
            "[-0.01100722 -0.00064139]\n",
            "[-0.01104703 -0.0003865 ]\n",
            "[-0.0061329  -0.00091603]\n",
            "[-0.03634317 -0.00125983]\n",
            "[-0.00895896 -0.0033781 ]\n",
            "[-0.01701989 -0.00138052]\n",
            "[-0.03832926 -0.00145432]\n",
            "[-0.00659858 -0.00066069]\n",
            "[-0.00782334 -0.00233981]\n",
            "[-0.01145739 -0.00167361]\n",
            "[-0.01563939 -0.00039588]\n",
            "[-0.00712731 -0.00128822]\n",
            "[-0.00558276 -0.00095854]\n",
            "[-0.01403204 -0.00148885]\n",
            "[-0.00896183 -0.00363635]\n",
            "[-0.01116395 -0.00355624]\n",
            "[-0.0380109  -0.00142665]\n",
            "[-0.00579566 -0.00032963]\n",
            "[-0.03111572 -0.00141728]\n",
            "[-0.01712199 -0.0013888 ]\n",
            "[-0.01106597 -0.00038716]\n",
            "[-0.01014424 -0.00099263]\n",
            "[-0.00686258 -0.00037785]\n",
            "[-0.00849141 -0.00087651]\n",
            "[-0.0149789  -0.00220047]\n",
            "[-0.02497062 -0.00366162]\n",
            "[-0.04477249 -0.00218906]\n",
            "[-0.00712104 -0.00079226]\n",
            "[-0.00726878 -0.00122041]\n",
            "[-0.01020567 -0.00099865]\n",
            "[-0.0067442  -0.00149549]\n",
            "[-0.07191633 -0.00690016]\n",
            "[-0.0087804  -0.00049213]\n",
            "[-0.05489583 -0.00557142]\n",
            "[-0.00841896 -0.00086903]\n",
            "[-0.03000818 -0.00154632]\n",
            "[-0.03597481 -0.00487525]\n",
            "[-0.01192343 -0.00092906]\n",
            "[-0.01692282 -0.00196423]\n",
            "[-0.0115845  -0.00058544]\n",
            "[-0.0707433 -0.0071483]\n",
            "[-0.01180012  0.00217897]\n",
            "[-0.01565614 -0.00112141]\n",
            "[-0.00620974 -0.0003662 ]\n",
            "[-0.02149872 -0.00180656]\n",
            "[-0.00484066 -0.00270489]\n",
            "[-0.01801545  0.00052979]\n",
            "[-0.02859595 -0.00229607]\n",
            "[-0.00685124 -0.00037723]\n",
            "[-0.00557463 -0.00095715]\n",
            "[-0.00873543 -0.00048961]\n",
            "[-0.00669346 -0.00131229]\n",
            "[-0.00684574 -0.00037692]\n",
            "[-0.07137929 -0.00684864]\n",
            "[-0.00510567 -0.00037862]\n",
            "[-0.05581402 -0.00311003]\n",
            "[-0.0244041 -0.0023972]\n",
            "[-0.0311208  -0.00169933]\n",
            "[-0.0082332  -0.00134749]\n",
            "[-0.00651289 -0.00065645]\n",
            "[-0.02484433 -0.00096308]\n",
            "[-0.03176505 -0.00488659]\n",
            "[-0.02017925 -0.00063116]\n",
            "[-0.07138073 -0.00721271]\n",
            "[-0.00622082 -0.00036686]\n",
            "[-0.04542648 -0.00229266]\n",
            "[-0.01406045  0.00055527]\n",
            "[-0.03716746 -0.0012884 ]\n",
            "[-0.03638853 -0.0012614 ]\n",
            "[-0.010238   -0.00186396]\n",
            "[-0.00510499 -0.00037856]\n",
            "[-0.01851474 -0.00019436]\n",
            "[-0.0072437  -0.00068052]\n",
            "[-0.00777895 -0.00058852]\n",
            "[-0.02133947 -0.00115986]\n",
            "[-0.00717419 -0.00079818]\n",
            "[-0.00544496 -0.00041151]\n",
            "[-0.02504901 -0.00161903]\n",
            "[-0.00716077 -0.00079669]\n",
            "[-0.01248192 -0.00188814]\n",
            "[-0.00976376 -0.00098232]\n",
            "[-0.00580053 -0.00032991]\n",
            "[-0.00607166 -0.00090688]\n",
            "[-0.02019457 -0.00097112]\n",
            "[-0.00719068 -0.00067553]\n",
            "[-0.02259915  0.00607239]\n",
            "[-0.00611712 -0.00036074]\n",
            "[-0.02981858 -0.00153654]\n",
            "[-0.00712275 -0.00079245]\n",
            "[-0.01394568 -0.00147969]\n",
            "[-0.02089235 -0.00167465]\n",
            "[-0.00509166 -0.00037758]\n",
            "[-0.01295905 -0.00093548]\n",
            "[-0.00658032 -0.00066325]\n",
            "[-0.01717936 -0.00139346]\n",
            "[-0.01149734 -0.00099416]\n",
            "[-0.00544065 -0.00066617]\n",
            "[-0.01245295 -0.00218403]\n",
            "[-0.01132775 -0.00097948]\n",
            "[-0.01699367 -0.00137839]\n",
            "[-0.01005506 -0.00098391]\n",
            "[-0.00509305 -0.00037768]\n",
            "[-0.01682274 -0.00136453]\n",
            "[-0.022299   -0.00354684]\n",
            "[-0.01614773 -0.00035277]\n",
            "[-0.03734206 -0.00395374]\n",
            "[-0.01222889 -0.00214473]\n",
            "[-0.01428276 -0.00078646]\n",
            "[-0.00680008 -0.00037441]\n",
            "[-0.01461319 -0.00245051]\n",
            "[-0.00881155 -0.00451457]\n",
            "[-0.01484556 -0.0014089 ]\n",
            "[-0.05998036 -0.00668327]\n",
            "[-0.0074335  -0.00070835]\n",
            "[-0.01020354 -0.00185768]\n",
            "[-0.00664848 -0.00075824]\n",
            "[-0.00994964 -0.00069257]\n",
            "[-0.02575046 -0.00361095]\n",
            "[-0.0100392  -0.00154648]\n",
            "[-0.0065609  -0.00066129]\n",
            "[-0.01220877 -0.0021412 ]\n",
            "[-0.07479247 -0.00968894]\n",
            "[-0.03187019 -0.00145165]\n",
            "[-0.00668387 -0.00076228]\n",
            "[-0.02007395 -0.00062786]\n",
            "[-0.04700703 -0.00261873]\n",
            "[-0.01300229 -0.00093859]\n",
            "[-0.01740809 -0.001412  ]\n",
            "[-0.00857344 -0.00175964]\n",
            "[-0.00988143 -0.00043741]\n",
            "[-0.02655178 -0.00175999]\n",
            "[-0.0051033  -0.00037844]\n",
            "[-0.05858549 -0.00408645]\n",
            "[-0.04266775 -0.00511972]\n",
            "[-0.00727872 -0.00159226]\n",
            "[-0.01566455 -0.00227243]\n",
            "[-0.00973818 -0.00178453]\n",
            "[-0.00510094 -0.00037826]\n",
            "[-0.02647991 -0.00369876]\n",
            "[-0.02019383 -0.00079238]\n",
            "[-0.00603    -0.00090066]\n",
            "[-0.03008074 -0.00155005]\n",
            "[-0.04148721 -0.00364061]\n",
            "[-0.0083771  -0.00086471]\n",
            "[-0.01562775 -0.00017038]\n",
            "[-0.07128646 -0.00720318]\n",
            "[-0.00697121 -0.00077326]\n",
            "[-0.01111207 -0.00102418]\n",
            "[-0.00544949 -0.00066725]\n",
            "[-0.01810226 -0.00034313]\n",
            "[-0.00614065 -0.00036213]\n",
            "[-0.01467041 -0.00246011]\n",
            "[-0.00754763 -0.00029082]\n",
            "[-0.00725598 -0.00121826]\n",
            "[-0.04283846 -0.00375919]\n",
            "[-0.04485513 -0.00167168]\n",
            "[-0.00617564 -0.0003642 ]\n",
            "[-0.00952302 -0.00069848]\n",
            "[-0.00951897 -0.00297562]\n",
            "[-0.0128659  -0.00093149]\n",
            "[-0.03582775 -0.00442605]\n",
            "[-0.02458821 -0.00095315]\n",
            "[-0.02653009 -0.00370577]\n",
            "[-0.0267531  -0.00180651]\n",
            "[-0.006145   -0.00036239]\n",
            "[-0.03617328 -0.00125393]\n",
            "[-0.02023983 -0.00079418]\n",
            "[-0.00784867 -0.00059379]\n",
            "[-0.00620855 -0.00132199]\n",
            "[-0.01717379 -0.001393  ]\n",
            "[-0.00761405 -0.00029338]\n",
            "[-0.00510349 -0.00037846]\n",
            "[-0.05568589 -0.00266928]\n",
            "[-0.0656351  -0.00635298]\n",
            "[-0.0083855  -0.00172106]\n",
            "[-0.01150525 -0.00099484]\n",
            "[-0.00846674 -0.00173773]\n",
            "[-0.00656593 -0.00066179]\n",
            "[-0.00512689 -0.00038018]\n",
            "[-0.02631537 -0.00367578]\n",
            "[-0.00611871 -0.00036084]\n",
            "[-0.03779933 -0.00141871]\n",
            "[-0.00980062 -0.00179597]\n",
            "[-0.00697551 -0.00039412]\n",
            "[-0.02657632 -0.00179458]\n",
            "[-0.00686201 -0.00092317]\n",
            "[-0.00691221 -0.00138268]\n",
            "[-0.01136369 -0.00098259]\n",
            "[-0.01020196 -0.00099828]\n",
            "[-0.01592622 -0.00017362]\n",
            "[-0.04407116 -0.00215477]\n",
            "[-0.00680205 -0.00087763]\n",
            "[-0.00657929 -0.00066314]\n",
            "[-0.01391454 -0.00227884]\n",
            "[-0.00740732 -0.00070586]\n",
            "[-0.04452834 -0.00217712]\n",
            "[-0.0065811  -0.00066332]\n",
            "[-0.00619757 -0.00036549]\n",
            "[-0.00916891 -0.00048199]\n",
            "[-0.01470121 -0.0013952 ]\n",
            "[-0.03299128 -0.00275034]\n",
            "[-0.00613949 -0.00036206]\n",
            "[-0.05769001 -0.004024  ]\n",
            "[-0.00799816 -0.00076605]\n",
            "[-0.04351099 -0.00522091]\n",
            "[-0.00846882 -0.00087417]\n",
            "[-0.01853944 -0.00019462]\n",
            "[-0.01996059 -0.00095986]\n",
            "[-0.0215843  -0.00100971]\n",
            "[-0.00712982 -0.00079324]\n",
            "[-0.007549   -0.00029087]\n",
            "[-0.01287628 -0.00093224]\n",
            "[-0.00680965 -0.00087861]\n",
            "[-0.00729424 -0.0012486 ]\n",
            "[-0.01040326 -0.00104038]\n",
            "[-0.01145973 -0.00167395]\n",
            "[-0.00578617 -0.00070132]\n",
            "[-0.01292126 -0.00093275]\n",
            "[-0.00681762 -0.00087964]\n",
            "[-0.02474377 -0.00095918]\n",
            "[-0.01287968 -0.00093249]\n",
            "[-0.04376069 -0.00525087]\n",
            "[-0.00853743 -0.00043188]\n"
          ]
        }
      ]
    }
  ]
}