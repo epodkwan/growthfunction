{
  "nbformat": 4,
  "nbformat_minor": 0,
  "metadata": {
    "colab": {
      "name": "gradient.ipynb",
      "provenance": [],
      "collapsed_sections": [],
      "authorship_tag": "ABX9TyNQueRJNOnmN+TmyPO6O7Qv",
      "include_colab_link": true
    },
    "kernelspec": {
      "name": "python3",
      "display_name": "Python 3"
    },
    "language_info": {
      "name": "python"
    },
    "gpuClass": "standard"
  },
  "cells": [
    {
      "cell_type": "markdown",
      "metadata": {
        "id": "view-in-github",
        "colab_type": "text"
      },
      "source": [
        "<a href=\"https://colab.research.google.com/github/epodkwan/growthfunction/blob/main/gradient.ipynb\" target=\"_parent\"><img src=\"https://colab.research.google.com/assets/colab-badge.svg\" alt=\"Open In Colab\"/></a>"
      ]
    },
    {
      "cell_type": "code",
      "source": [
        "!pip install flax"
      ],
      "metadata": {
        "colab": {
          "base_uri": "https://localhost:8080/"
        },
        "id": "q4-XjIcYon34",
        "outputId": "fc01f8d2-27a8-4b24-e151-14da7721e6dd"
      },
      "execution_count": 3,
      "outputs": [
        {
          "output_type": "stream",
          "name": "stdout",
          "text": [
            "Looking in indexes: https://pypi.org/simple, https://us-python.pkg.dev/colab-wheels/public/simple/\n",
            "Collecting flax\n",
            "  Downloading flax-0.5.3-py3-none-any.whl (202 kB)\n",
            "\u001b[K     |████████████████████████████████| 202 kB 23.4 MB/s \n",
            "\u001b[?25hRequirement already satisfied: typing-extensions>=4.1.1 in /usr/local/lib/python3.7/dist-packages (from flax) (4.1.1)\n",
            "Collecting tensorstore\n",
            "  Downloading tensorstore-0.1.21-cp37-cp37m-manylinux_2_17_x86_64.manylinux2014_x86_64.whl (9.1 MB)\n",
            "\u001b[K     |████████████████████████████████| 9.1 MB 57.4 MB/s \n",
            "\u001b[?25hRequirement already satisfied: numpy>=1.12 in /usr/local/lib/python3.7/dist-packages (from flax) (1.21.6)\n",
            "Requirement already satisfied: jax>=0.3.2 in /usr/local/lib/python3.7/dist-packages (from flax) (0.3.14)\n",
            "Collecting rich~=11.1\n",
            "  Downloading rich-11.2.0-py3-none-any.whl (217 kB)\n",
            "\u001b[K     |████████████████████████████████| 217 kB 44.9 MB/s \n",
            "\u001b[?25hRequirement already satisfied: msgpack in /usr/local/lib/python3.7/dist-packages (from flax) (1.0.4)\n",
            "Collecting PyYAML>=5.4.1\n",
            "  Downloading PyYAML-6.0-cp37-cp37m-manylinux_2_5_x86_64.manylinux1_x86_64.manylinux_2_12_x86_64.manylinux2010_x86_64.whl (596 kB)\n",
            "\u001b[K     |████████████████████████████████| 596 kB 55.5 MB/s \n",
            "\u001b[?25hRequirement already satisfied: matplotlib in /usr/local/lib/python3.7/dist-packages (from flax) (3.2.2)\n",
            "Collecting optax\n",
            "  Downloading optax-0.1.3-py3-none-any.whl (145 kB)\n",
            "\u001b[K     |████████████████████████████████| 145 kB 61.2 MB/s \n",
            "\u001b[?25hRequirement already satisfied: opt-einsum in /usr/local/lib/python3.7/dist-packages (from jax>=0.3.2->flax) (3.3.0)\n",
            "Requirement already satisfied: etils[epath] in /usr/local/lib/python3.7/dist-packages (from jax>=0.3.2->flax) (0.6.0)\n",
            "Requirement already satisfied: absl-py in /usr/local/lib/python3.7/dist-packages (from jax>=0.3.2->flax) (1.2.0)\n",
            "Requirement already satisfied: scipy>=1.5 in /usr/local/lib/python3.7/dist-packages (from jax>=0.3.2->flax) (1.7.3)\n",
            "Collecting commonmark<0.10.0,>=0.9.0\n",
            "  Downloading commonmark-0.9.1-py2.py3-none-any.whl (51 kB)\n",
            "\u001b[K     |████████████████████████████████| 51 kB 7.3 MB/s \n",
            "\u001b[?25hRequirement already satisfied: pygments<3.0.0,>=2.6.0 in /usr/local/lib/python3.7/dist-packages (from rich~=11.1->flax) (2.6.1)\n",
            "Collecting colorama<0.5.0,>=0.4.0\n",
            "  Downloading colorama-0.4.5-py2.py3-none-any.whl (16 kB)\n",
            "Requirement already satisfied: importlib_resources in /usr/local/lib/python3.7/dist-packages (from etils[epath]->jax>=0.3.2->flax) (5.9.0)\n",
            "Requirement already satisfied: zipp in /usr/local/lib/python3.7/dist-packages (from etils[epath]->jax>=0.3.2->flax) (3.8.1)\n",
            "Requirement already satisfied: pyparsing!=2.0.4,!=2.1.2,!=2.1.6,>=2.0.1 in /usr/local/lib/python3.7/dist-packages (from matplotlib->flax) (3.0.9)\n",
            "Requirement already satisfied: python-dateutil>=2.1 in /usr/local/lib/python3.7/dist-packages (from matplotlib->flax) (2.8.2)\n",
            "Requirement already satisfied: kiwisolver>=1.0.1 in /usr/local/lib/python3.7/dist-packages (from matplotlib->flax) (1.4.4)\n",
            "Requirement already satisfied: cycler>=0.10 in /usr/local/lib/python3.7/dist-packages (from matplotlib->flax) (0.11.0)\n",
            "Requirement already satisfied: six>=1.5 in /usr/local/lib/python3.7/dist-packages (from python-dateutil>=2.1->matplotlib->flax) (1.15.0)\n",
            "Requirement already satisfied: jaxlib>=0.1.37 in /usr/local/lib/python3.7/dist-packages (from optax->flax) (0.3.14+cuda11.cudnn805)\n",
            "Collecting chex>=0.0.4\n",
            "  Downloading chex-0.1.3-py3-none-any.whl (72 kB)\n",
            "\u001b[K     |████████████████████████████████| 72 kB 634 kB/s \n",
            "\u001b[?25hRequirement already satisfied: toolz>=0.9.0 in /usr/local/lib/python3.7/dist-packages (from chex>=0.0.4->optax->flax) (0.12.0)\n",
            "Requirement already satisfied: dm-tree>=0.1.5 in /usr/local/lib/python3.7/dist-packages (from chex>=0.0.4->optax->flax) (0.1.7)\n",
            "Requirement already satisfied: flatbuffers<3.0,>=1.12 in /usr/local/lib/python3.7/dist-packages (from jaxlib>=0.1.37->optax->flax) (2.0)\n",
            "Installing collected packages: commonmark, colorama, chex, tensorstore, rich, PyYAML, optax, flax\n",
            "  Attempting uninstall: PyYAML\n",
            "    Found existing installation: PyYAML 3.13\n",
            "    Uninstalling PyYAML-3.13:\n",
            "      Successfully uninstalled PyYAML-3.13\n",
            "Successfully installed PyYAML-6.0 chex-0.1.3 colorama-0.4.5 commonmark-0.9.1 flax-0.5.3 optax-0.1.3 rich-11.2.0 tensorstore-0.1.21\n"
          ]
        }
      ]
    },
    {
      "cell_type": "code",
      "execution_count": 4,
      "metadata": {
        "id": "RMD-n6IkgEjG"
      },
      "outputs": [],
      "source": [
        "from typing import Sequence\n",
        "import jax\n",
        "import optax\n",
        "import numpy as np\n",
        "import jax.numpy as jnp\n",
        "from jax import jit\n",
        "from flax import linen as nn\n",
        "from flax.training import train_state,checkpoints"
      ]
    },
    {
      "cell_type": "code",
      "source": [
        "def npy_loader(path):\n",
        "    return jnp.load(path)"
      ],
      "metadata": {
        "id": "o3LfEGANgevd"
      },
      "execution_count": 5,
      "outputs": []
    },
    {
      "cell_type": "code",
      "source": [
        "class SimpleMLP(nn.Module):\n",
        "    features:Sequence[int]\n",
        "\n",
        "    @nn.compact\n",
        "    def __call__(self,inputs):\n",
        "        x=inputs\n",
        "        for i,feat in enumerate(self.features):\n",
        "            x=nn.Dense(feat)(x)\n",
        "            if i != len(self.features)-1:\n",
        "                x=nn.relu(x)\n",
        "        return x"
      ],
      "metadata": {
        "id": "DIix1FfQm9G-"
      },
      "execution_count": 6,
      "outputs": []
    },
    {
      "cell_type": "code",
      "source": [
        "layer_sizes=[64,256,256,256]\n",
        "learning_rate=1e-6\n",
        "model=SimpleMLP(features=layer_sizes)\n",
        "temp=jnp.ones(2)\n",
        "params=model.init(jax.random.PRNGKey(0),temp)\n",
        "tx=optax.adam(learning_rate=learning_rate,b1=0.99)\n",
        "opt_state=tx.init(params)\n",
        "state=train_state.TrainState.create(apply_fn=model.apply,params=params,tx=tx)"
      ],
      "metadata": {
        "id": "GuvwVgUnghBe",
        "colab": {
          "base_uri": "https://localhost:8080/"
        },
        "outputId": "5609c3e3-2bc1-4297-dc32-50fd2ad2a0a6"
      },
      "execution_count": 7,
      "outputs": [
        {
          "output_type": "stream",
          "name": "stderr",
          "text": [
            "WARNING:absl:No GPU/TPU found, falling back to CPU. (Set TF_CPP_MIN_LOG_LEVEL=0 and rerun for more info.)\n"
          ]
        }
      ]
    },
    {
      "cell_type": "code",
      "source": [
        "from google.colab import drive\n",
        "drive.mount('/content/drive')"
      ],
      "metadata": {
        "colab": {
          "base_uri": "https://localhost:8080/"
        },
        "id": "JHc6T5H_g51l",
        "outputId": "6b9d86b4-49fe-470d-b0a1-a60181284c86"
      },
      "execution_count": 8,
      "outputs": [
        {
          "output_type": "stream",
          "name": "stdout",
          "text": [
            "Drive already mounted at /content/drive; to attempt to forcibly remount, call drive.mount(\"/content/drive\", force_remount=True).\n"
          ]
        }
      ]
    },
    {
      "cell_type": "code",
      "source": [
        "restored_state=checkpoints.restore_checkpoint(ckpt_dir=\"/content/drive/My Drive/Colab Notebooks/checkpoint_0\",target=state)\n",
        "cosmo=npy_loader(\"/content/drive/My Drive/Colab Notebooks/cosmo.npy\")"
      ],
      "metadata": {
        "id": "VynXiI3Hut45"
      },
      "execution_count": 9,
      "outputs": []
    },
    {
      "cell_type": "code",
      "source": [
        "@jit\n",
        "def predict(params,x,j):\n",
        "    pred=restored_state.apply_fn(params,x)\n",
        "    return pred[j]"
      ],
      "metadata": {
        "id": "JOBrkdcC5zZv"
      },
      "execution_count": 10,
      "outputs": []
    },
    {
      "cell_type": "code",
      "source": [
        "@jit\n",
        "def gradient_at(i,j):\n",
        "    value,gradient=jax.value_and_grad(predict,1)(restored_state.params,jnp.array([cosmo[i,0],cosmo[i,2]]),j)\n",
        "    return gradient"
      ],
      "metadata": {
        "id": "VuFV3EYkLH03"
      },
      "execution_count": 11,
      "outputs": []
    },
    {
      "cell_type": "code",
      "source": [
        "for i in range(256):\n",
        "    gradient=gradient_at(i,0)\n",
        "    print(gradient)\n",
        "drive.flush_and_unmount()"
      ],
      "metadata": {
        "colab": {
          "base_uri": "https://localhost:8080/"
        },
        "id": "qitn9zM6glNT",
        "outputId": "c1510764-b76a-4b61-d647-fba716b795b3"
      },
      "execution_count": 12,
      "outputs": [
        {
          "output_type": "stream",
          "name": "stdout",
          "text": [
            "[-0.7614598  -0.07660961]\n",
            "[-0.6179226   0.14039958]\n",
            "[-1.6465209  -0.05333257]\n",
            "[-0.6012536  -0.03397131]\n",
            "[-2.122519   -0.20900702]\n",
            "[-0.7819383  -0.07651401]\n",
            "[-0.8673977  -0.12670219]\n",
            "[-2.4973788  -0.21915102]\n",
            "[-1.3637195 -0.0655787]\n",
            "[-0.7712712  -0.05368638]\n",
            "[-1.4150984  -0.05552626]\n",
            "[-1.2053211  -0.09776592]\n",
            "[-1.2053211  -0.09776592]\n",
            "[-1.0869842  -0.22081172]\n",
            "[-3.297094   -0.34798503]\n",
            "[-0.7819383  -0.07651401]\n",
            "[-2.5427752  -0.28564692]\n",
            "[-2.643089   -0.09850395]\n",
            "[-1.1670245  -0.28099203]\n",
            "[-1.504325   -0.25573707]\n",
            "[-2.7343364  -0.16926718]\n",
            "[-1.3036954 -0.0136857]\n",
            "[-0.8391055 -0.0782702]\n",
            "[-0.6704273  -0.06920314]\n",
            "[-0.5664872  -0.11496043]\n",
            "[-0.5960954 -0.1000824]\n",
            "[-0.60019374 -0.1283021 ]\n",
            "[-0.6951926  -0.03896427]\n",
            "[-1.4652946  -0.07964277]\n",
            "[-0.43644795 -0.03236485]\n",
            "[-0.7712712  -0.05368638]\n",
            "[-0.6704273  -0.06920314]\n",
            "[-0.47227395 -0.08108759]\n",
            "[-0.842196   -0.04907477]\n",
            "[-0.8352069  -0.02922058]\n",
            "[-0.5113053  -0.07636976]\n",
            "[-2.2646008  -0.07850146]\n",
            "[-0.698038   -0.26320505]\n",
            "[-1.2053211  -0.09776592]\n",
            "[-2.3271713  -0.08829927]\n",
            "[-0.54500496 -0.05456948]\n",
            "[-0.6369786  -0.19050765]\n",
            "[-0.8673977  -0.12670219]\n",
            "[-1.1339146  -0.02870226]\n",
            "[-0.57789946 -0.10445142]\n",
            "[-0.47227395 -0.08108759]\n",
            "[-1.0070863  -0.10685587]\n",
            "[-0.67856157 -0.27533293]\n",
            "[-0.8373085  -0.26672208]\n",
            "[-2.3242748  -0.08723593]\n",
            "[-0.49312913 -0.02804708]\n",
            "[-1.9924955 -0.0907557]\n",
            "[-1.2053211  -0.09776592]\n",
            "[-0.8352069  -0.02922058]\n",
            "[-0.7819383  -0.07651401]\n",
            "[-0.5638084  -0.03104329]\n",
            "[-0.6704273  -0.06920314]\n",
            "[-1.0793104  -0.15855575]\n",
            "[-1.6441195  -0.24108839]\n",
            "[-2.6304116  -0.12860835]\n",
            "[-0.5800954  -0.06453943]\n",
            "[-0.5960954 -0.1000824]\n",
            "[-0.7819383  -0.07651401]\n",
            "[-0.55482155 -0.12302876]\n",
            "[-3.7837045  -0.36303556]\n",
            "[-0.6951926  -0.03896427]\n",
            "[-3.0619316  -0.31075788]\n",
            "[-0.6704273  -0.06920314]\n",
            "[-1.8987046  -0.09783936]\n",
            "[-2.2068567  -0.29906952]\n",
            "[-0.8967233  -0.06987083]\n",
            "[-1.184343   -0.13746679]\n",
            "[-0.8742922  -0.04418373]\n",
            "[-3.774028   -0.38134837]\n",
            "[-0.9479693   0.17504883]\n",
            "[-1.1276537  -0.08077097]\n",
            "[-0.518479   -0.03057599]\n",
            "[-1.465631  -0.1231581]\n",
            "[-0.41426542 -0.23148572]\n",
            "[-1.2868693  0.0378443]\n",
            "[-1.8668834  -0.14989877]\n",
            "[-0.5638084  -0.03104329]\n",
            "[-0.47227395 -0.08108759]\n",
            "[-0.6951926  -0.03896427]\n",
            "[-0.5554352  -0.10889554]\n",
            "[-0.5638084  -0.03104329]\n",
            "[-3.7837045  -0.36303556]\n",
            "[-0.43644795 -0.03236485]\n",
            "[-3.14318    -0.17514157]\n",
            "[-1.5975204  -0.15692341]\n",
            "[-1.9828103  -0.10826981]\n",
            "[-0.66065073 -0.10812593]\n",
            "[-0.5477657  -0.05521083]\n",
            "[-1.6509628  -0.06399894]\n",
            "[-1.9822552 -0.3049407]\n",
            "[-1.3885438  -0.04343009]\n",
            "[-3.774028   -0.38134837]\n",
            "[-0.518479   -0.03057599]\n",
            "[-2.643556  -0.1334194]\n",
            "[-1.07231     0.04234719]\n",
            "[-2.2646008  -0.07850146]\n",
            "[-2.2646008  -0.07850146]\n",
            "[-0.7821292  -0.14239597]\n",
            "[-0.43644795 -0.03236485]\n",
            "[-1.3036954 -0.0136857]\n",
            "[-0.5926052  -0.05567288]\n",
            "[-0.6251062  -0.04729271]\n",
            "[-1.4652946  -0.07964277]\n",
            "[-0.5800954  -0.06453943]\n",
            "[-0.46207875 -0.03492188]\n",
            "[-1.6436416  -0.10623598]\n",
            "[-0.5800954  -0.06453943]\n",
            "[-0.9356473  -0.14153564]\n",
            "[-0.7614598  -0.07660961]\n",
            "[-0.49312913 -0.02804708]\n",
            "[-0.5113053  -0.07636976]\n",
            "[-1.3637195 -0.0655787]\n",
            "[-0.5926052  -0.05567288]\n",
            "[-1.7107269   0.45967305]\n",
            "[-0.518479   -0.03057599]\n",
            "[-1.8987046  -0.09783936]\n",
            "[-0.5800954  -0.06453943]\n",
            "[-1.0070863  -0.10685587]\n",
            "[-1.4239752  -0.11414051]\n",
            "[-0.43644795 -0.03236485]\n",
            "[-0.9456782  -0.06826603]\n",
            "[-0.5477657  -0.05521083]\n",
            "[-1.2053211  -0.09776592]\n",
            "[-0.86462736 -0.07476234]\n",
            "[-0.4645874  -0.05688477]\n",
            "[-0.9194719  -0.16125894]\n",
            "[-0.86462736 -0.07476234]\n",
            "[-1.2053211  -0.09776592]\n",
            "[-0.7819383  -0.07651401]\n",
            "[-0.43644795 -0.03236485]\n",
            "[-1.2053211  -0.09776592]\n",
            "[-1.4906392 -0.2370981]\n",
            "[-1.1421026 -0.0249505]\n",
            "[-2.2748742  -0.24086094]\n",
            "[-0.9194719  -0.16125894]\n",
            "[-1.0692085  -0.05887473]\n",
            "[-0.5638084  -0.03104329]\n",
            "[-1.0631347  -0.17827868]\n",
            "[-0.6866685  -0.35181224]\n",
            "[-1.0873393  -0.10319257]\n",
            "[-3.2874172  -0.36629796]\n",
            "[-0.60463023 -0.057616  ]\n",
            "[-0.7821292  -0.14239597]\n",
            "[-0.5541991 -0.063205 ]\n",
            "[-0.7712712  -0.05368638]\n",
            "[-1.6943067 -0.2375896]\n",
            "[-0.776791   -0.11966014]\n",
            "[-0.5477657  -0.05521083]\n",
            "[-0.9194719  -0.16125894]\n",
            "[-3.8518665  -0.49898732]\n",
            "[-1.9924955 -0.0907557]\n",
            "[-0.5541991 -0.063205 ]\n",
            "[-1.3885438  -0.04343009]\n",
            "[-2.7235303  -0.15172601]\n",
            "[-0.9456782  -0.06826603]\n",
            "[-1.2053211  -0.09776592]\n",
            "[-0.6715324  -0.13782692]\n",
            "[-0.764282   -0.03383255]\n",
            "[-1.7525712 -0.1161691]\n",
            "[-0.43644795 -0.03236485]\n",
            "[-3.2281446  -0.22516906]\n",
            "[-2.5197492  -0.30234575]\n",
            "[-0.58786154 -0.12859821]\n",
            "[-1.0786059 -0.1564709]\n",
            "[-0.76061517 -0.13938355]\n",
            "[-0.43644795 -0.03236485]\n",
            "[-1.6979926 -0.2371788]\n",
            "[-1.4150984  -0.05552626]\n",
            "[-0.5113053  -0.07636976]\n",
            "[-1.8987046  -0.09783936]\n",
            "[-2.4973788  -0.21915102]\n",
            "[-0.6704273  -0.06920314]\n",
            "[-1.1469392  -0.01250386]\n",
            "[-3.774028   -0.38134837]\n",
            "[-0.5714184  -0.06338239]\n",
            "[-0.8310009  -0.07659161]\n",
            "[-0.4645874  -0.05688477]\n",
            "[-1.2523164  -0.02373803]\n",
            "[-0.518479   -0.03057599]\n",
            "[-1.0631347  -0.17827868]\n",
            "[-0.616687   -0.02376151]\n",
            "[-0.5960954 -0.1000824]\n",
            "[-2.4973788  -0.21915102]\n",
            "[-2.643089   -0.09850395]\n",
            "[-0.518479   -0.03057599]\n",
            "[-0.7490003  -0.05493617]\n",
            "[-0.72352695 -0.22617364]\n",
            "[-0.9433485  -0.06829846]\n",
            "[-2.1711774 -0.2682209]\n",
            "[-1.6509628  -0.06399894]\n",
            "[-1.6979926 -0.2371788]\n",
            "[-1.7277474  -0.11666679]\n",
            "[-0.518479   -0.03057599]\n",
            "[-2.2646008  -0.07850146]\n",
            "[-1.4150984  -0.05552626]\n",
            "[-0.6251062  -0.04729271]\n",
            "[-0.51795703 -0.11028886]\n",
            "[-1.2053211  -0.09776592]\n",
            "[-0.616687   -0.02376151]\n",
            "[-0.43644795 -0.03236485]\n",
            "[-3.141212   -0.15057206]\n",
            "[-3.5632877 -0.3448987]\n",
            "[-0.6715324  -0.13782692]\n",
            "[-0.86462736 -0.07476234]\n",
            "[-0.6715324  -0.13782692]\n",
            "[-0.5477657  -0.05521083]\n",
            "[-0.43644795 -0.03236485]\n",
            "[-1.6979926 -0.2371788]\n",
            "[-0.518479   -0.03057599]\n",
            "[-2.3242748  -0.08723593]\n",
            "[-0.76061517 -0.13938355]\n",
            "[-0.6012536  -0.03397131]\n",
            "[-1.7277474  -0.11666679]\n",
            "[-0.57136583 -0.07686758]\n",
            "[-0.5639755  -0.11281371]\n",
            "[-0.86462736 -0.07476234]\n",
            "[-0.7819383  -0.07651401]\n",
            "[-1.1469392  -0.01250386]\n",
            "[-2.6304116  -0.12860835]\n",
            "[-0.567294  -0.0731945]\n",
            "[-0.5477657  -0.05521083]\n",
            "[-1.0030174  -0.16426802]\n",
            "[-0.60463023 -0.057616  ]\n",
            "[-2.6304116  -0.12860835]\n",
            "[-0.5477657  -0.05521083]\n",
            "[-0.518479   -0.03057599]\n",
            "[-0.7174634  -0.03771496]\n",
            "[-1.0873393  -0.10319257]\n",
            "[-2.0674238 -0.1723522]\n",
            "[-0.518479   -0.03057599]\n",
            "[-3.2281446  -0.22516906]\n",
            "[-0.6414324  -0.06143427]\n",
            "[-2.5197492  -0.30234575]\n",
            "[-0.6704273  -0.06920314]\n",
            "[-1.3036954 -0.0136857]\n",
            "[-1.3637195 -0.0655787]\n",
            "[-1.4685485  -0.06869888]\n",
            "[-0.5800954  -0.06453943]\n",
            "[-0.616687   -0.02376151]\n",
            "[-0.9433485  -0.06829846]\n",
            "[-0.567294  -0.0731945]\n",
            "[-0.5989548  -0.10252643]\n",
            "[-0.7937022  -0.07937407]\n",
            "[-0.8673977  -0.12670219]\n",
            "[-0.49136528 -0.05955601]\n",
            "[-0.9456782  -0.06826603]\n",
            "[-0.567294  -0.0731945]\n",
            "[-1.6509628  -0.06399894]\n",
            "[-0.9433485  -0.06829846]\n",
            "[-2.5197492  -0.30234575]\n",
            "[-0.6874784  -0.03477716]\n"
          ]
        }
      ]
    }
  ]
}