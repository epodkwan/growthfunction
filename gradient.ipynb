{
  "nbformat": 4,
  "nbformat_minor": 0,
  "metadata": {
    "colab": {
      "name": "gradient.ipynb",
      "provenance": [],
      "collapsed_sections": [],
      "authorship_tag": "ABX9TyPFCKY26jK1hlSs5BJr9HYz",
      "include_colab_link": true
    },
    "kernelspec": {
      "name": "python3",
      "display_name": "Python 3"
    },
    "language_info": {
      "name": "python"
    },
    "gpuClass": "standard"
  },
  "cells": [
    {
      "cell_type": "markdown",
      "metadata": {
        "id": "view-in-github",
        "colab_type": "text"
      },
      "source": [
        "<a href=\"https://colab.research.google.com/github/epodkwan/growthfunction/blob/main/gradient.ipynb\" target=\"_parent\"><img src=\"https://colab.research.google.com/assets/colab-badge.svg\" alt=\"Open In Colab\"/></a>"
      ]
    },
    {
      "cell_type": "code",
      "source": [
        "!pip install flax"
      ],
      "metadata": {
        "colab": {
          "base_uri": "https://localhost:8080/"
        },
        "id": "q4-XjIcYon34",
        "outputId": "28bd3817-aa31-4cd5-e5b7-6c44b4a5656d"
      },
      "execution_count": null,
      "outputs": [
        {
          "output_type": "stream",
          "name": "stdout",
          "text": [
            "Looking in indexes: https://pypi.org/simple, https://us-python.pkg.dev/colab-wheels/public/simple/\n",
            "Collecting flax\n",
            "  Downloading flax-0.5.3-py3-none-any.whl (202 kB)\n",
            "\u001b[K     |████████████████████████████████| 202 kB 3.2 MB/s \n",
            "\u001b[?25hRequirement already satisfied: typing-extensions>=4.1.1 in /usr/local/lib/python3.7/dist-packages (from flax) (4.1.1)\n",
            "Collecting tensorstore\n",
            "  Downloading tensorstore-0.1.21-cp37-cp37m-manylinux_2_17_x86_64.manylinux2014_x86_64.whl (9.1 MB)\n",
            "\u001b[K     |████████████████████████████████| 9.1 MB 8.5 MB/s \n",
            "\u001b[?25hCollecting optax\n",
            "  Downloading optax-0.1.3-py3-none-any.whl (145 kB)\n",
            "\u001b[K     |████████████████████████████████| 145 kB 43.3 MB/s \n",
            "\u001b[?25hRequirement already satisfied: jax>=0.3.2 in /usr/local/lib/python3.7/dist-packages (from flax) (0.3.14)\n",
            "Requirement already satisfied: numpy>=1.12 in /usr/local/lib/python3.7/dist-packages (from flax) (1.21.6)\n",
            "Collecting rich~=11.1\n",
            "  Downloading rich-11.2.0-py3-none-any.whl (217 kB)\n",
            "\u001b[K     |████████████████████████████████| 217 kB 43.5 MB/s \n",
            "\u001b[?25hCollecting PyYAML>=5.4.1\n",
            "  Downloading PyYAML-6.0-cp37-cp37m-manylinux_2_5_x86_64.manylinux1_x86_64.manylinux_2_12_x86_64.manylinux2010_x86_64.whl (596 kB)\n",
            "\u001b[K     |████████████████████████████████| 596 kB 11.5 MB/s \n",
            "\u001b[?25hRequirement already satisfied: msgpack in /usr/local/lib/python3.7/dist-packages (from flax) (1.0.4)\n",
            "Requirement already satisfied: matplotlib in /usr/local/lib/python3.7/dist-packages (from flax) (3.2.2)\n",
            "Requirement already satisfied: etils[epath] in /usr/local/lib/python3.7/dist-packages (from jax>=0.3.2->flax) (0.6.0)\n",
            "Requirement already satisfied: absl-py in /usr/local/lib/python3.7/dist-packages (from jax>=0.3.2->flax) (1.2.0)\n",
            "Requirement already satisfied: scipy>=1.5 in /usr/local/lib/python3.7/dist-packages (from jax>=0.3.2->flax) (1.7.3)\n",
            "Requirement already satisfied: opt-einsum in /usr/local/lib/python3.7/dist-packages (from jax>=0.3.2->flax) (3.3.0)\n",
            "Collecting colorama<0.5.0,>=0.4.0\n",
            "  Downloading colorama-0.4.5-py2.py3-none-any.whl (16 kB)\n",
            "Collecting commonmark<0.10.0,>=0.9.0\n",
            "  Downloading commonmark-0.9.1-py2.py3-none-any.whl (51 kB)\n",
            "\u001b[K     |████████████████████████████████| 51 kB 8.3 MB/s \n",
            "\u001b[?25hRequirement already satisfied: pygments<3.0.0,>=2.6.0 in /usr/local/lib/python3.7/dist-packages (from rich~=11.1->flax) (2.6.1)\n",
            "Requirement already satisfied: importlib_resources in /usr/local/lib/python3.7/dist-packages (from etils[epath]->jax>=0.3.2->flax) (5.9.0)\n",
            "Requirement already satisfied: zipp in /usr/local/lib/python3.7/dist-packages (from etils[epath]->jax>=0.3.2->flax) (3.8.1)\n",
            "Requirement already satisfied: kiwisolver>=1.0.1 in /usr/local/lib/python3.7/dist-packages (from matplotlib->flax) (1.4.4)\n",
            "Requirement already satisfied: python-dateutil>=2.1 in /usr/local/lib/python3.7/dist-packages (from matplotlib->flax) (2.8.2)\n",
            "Requirement already satisfied: pyparsing!=2.0.4,!=2.1.2,!=2.1.6,>=2.0.1 in /usr/local/lib/python3.7/dist-packages (from matplotlib->flax) (3.0.9)\n",
            "Requirement already satisfied: cycler>=0.10 in /usr/local/lib/python3.7/dist-packages (from matplotlib->flax) (0.11.0)\n",
            "Requirement already satisfied: six>=1.5 in /usr/local/lib/python3.7/dist-packages (from python-dateutil>=2.1->matplotlib->flax) (1.15.0)\n",
            "Requirement already satisfied: jaxlib>=0.1.37 in /usr/local/lib/python3.7/dist-packages (from optax->flax) (0.3.14+cuda11.cudnn805)\n",
            "Collecting chex>=0.0.4\n",
            "  Downloading chex-0.1.3-py3-none-any.whl (72 kB)\n",
            "\u001b[K     |████████████████████████████████| 72 kB 711 kB/s \n",
            "\u001b[?25hRequirement already satisfied: toolz>=0.9.0 in /usr/local/lib/python3.7/dist-packages (from chex>=0.0.4->optax->flax) (0.12.0)\n",
            "Requirement already satisfied: dm-tree>=0.1.5 in /usr/local/lib/python3.7/dist-packages (from chex>=0.0.4->optax->flax) (0.1.7)\n",
            "Requirement already satisfied: flatbuffers<3.0,>=1.12 in /usr/local/lib/python3.7/dist-packages (from jaxlib>=0.1.37->optax->flax) (2.0)\n",
            "Installing collected packages: commonmark, colorama, chex, tensorstore, rich, PyYAML, optax, flax\n",
            "  Attempting uninstall: PyYAML\n",
            "    Found existing installation: PyYAML 3.13\n",
            "    Uninstalling PyYAML-3.13:\n",
            "      Successfully uninstalled PyYAML-3.13\n",
            "Successfully installed PyYAML-6.0 chex-0.1.3 colorama-0.4.5 commonmark-0.9.1 flax-0.5.3 optax-0.1.3 rich-11.2.0 tensorstore-0.1.21\n"
          ]
        }
      ]
    },
    {
      "cell_type": "code",
      "execution_count": null,
      "metadata": {
        "id": "RMD-n6IkgEjG"
      },
      "outputs": [],
      "source": [
        "from typing import Sequence\n",
        "import jax\n",
        "import optax\n",
        "import numpy as np\n",
        "import jax.numpy as jnp\n",
        "from jax import jit\n",
        "from flax import linen as nn\n",
        "from flax.training import train_state,checkpoints"
      ]
    },
    {
      "cell_type": "code",
      "source": [
        "def npy_loader(path):\n",
        "    return jnp.load(path)"
      ],
      "metadata": {
        "id": "o3LfEGANgevd"
      },
      "execution_count": null,
      "outputs": []
    },
    {
      "cell_type": "code",
      "source": [
        "class SimpleMLP(nn.Module):\n",
        "    features:Sequence[int]\n",
        "\n",
        "    @nn.compact\n",
        "    def __call__(self,inputs):\n",
        "        x=inputs\n",
        "        for i,feat in enumerate(self.features):\n",
        "            x=nn.Dense(feat)(x)\n",
        "            if i != len(self.features)-1:\n",
        "                x=nn.relu(x)\n",
        "        return x"
      ],
      "metadata": {
        "id": "DIix1FfQm9G-"
      },
      "execution_count": null,
      "outputs": []
    },
    {
      "cell_type": "code",
      "source": [
        "layer_sizes=[64,256,256,256]\n",
        "learning_rate=1e-6\n",
        "model=SimpleMLP(features=layer_sizes)\n",
        "temp=jnp.ones(2)\n",
        "params=model.init(jax.random.PRNGKey(0),temp)\n",
        "tx=optax.adam(learning_rate=learning_rate)\n",
        "opt_state=tx.init(params)\n",
        "state=train_state.TrainState.create(apply_fn=model.apply,params=params,tx=tx)"
      ],
      "metadata": {
        "id": "GuvwVgUnghBe",
        "colab": {
          "base_uri": "https://localhost:8080/"
        },
        "outputId": "8dd9648b-f5e0-4f2e-9746-7a136ed61613"
      },
      "execution_count": null,
      "outputs": [
        {
          "output_type": "stream",
          "name": "stderr",
          "text": [
            "WARNING:absl:No GPU/TPU found, falling back to CPU. (Set TF_CPP_MIN_LOG_LEVEL=0 and rerun for more info.)\n"
          ]
        }
      ]
    },
    {
      "cell_type": "code",
      "source": [
        "from google.colab import drive\n",
        "drive.mount('/content/drive')"
      ],
      "metadata": {
        "colab": {
          "base_uri": "https://localhost:8080/"
        },
        "id": "JHc6T5H_g51l",
        "outputId": "824e66c9-b0ff-4a12-e8da-b149a49b0655"
      },
      "execution_count": null,
      "outputs": [
        {
          "output_type": "stream",
          "name": "stdout",
          "text": [
            "Mounted at /content/drive\n"
          ]
        }
      ]
    },
    {
      "cell_type": "code",
      "source": [
        "restored_state=checkpoints.restore_checkpoint(ckpt_dir=\"/content/drive/My Drive/Colab Notebooks/checkpoint_0\",target=state)\n",
        "cosmo=npy_loader(\"/content/drive/My Drive/Colab Notebooks/cosmo.npy\")\n",
        "z=npy_loader(\"/content/drive/My Drive/Colab Notebooks/999.npy\")[0,:]\n",
        "a=1/(z+1)"
      ],
      "metadata": {
        "id": "VynXiI3Hut45"
      },
      "execution_count": null,
      "outputs": []
    },
    {
      "cell_type": "code",
      "source": [
        "@jit\n",
        "def predict(params,x,j):\n",
        "    pred=jnp.exp(restored_state.apply_fn(params,x))\n",
        "    return pred[j]"
      ],
      "metadata": {
        "id": "JOBrkdcC5zZv"
      },
      "execution_count": null,
      "outputs": []
    },
    {
      "cell_type": "code",
      "source": [
        "@jit\n",
        "def gradient_at(i,j):\n",
        "    value,gradient=jax.value_and_grad(predict,1)(restored_state.params,jnp.array([cosmo[i,0],cosmo[i,2]]),j)\n",
        "    test1=background.MatterDominated(cosmo[i,0],1-cosmo[i,0],0,a=None,a_normalize=1.0)\n",
        "    test2=background.MatterDominated(cosmo[i,0]+0.001,1-cosmo[i,0]-0.001,0,a=None,a_normalize=1.0)\n",
        "    arr=[(test2.D1(a[j])-test1.D1(a[j]))/0.001]\n",
        "    return gradient"
      ],
      "metadata": {
        "id": "VuFV3EYkLH03"
      },
      "execution_count": null,
      "outputs": []
    },
    {
      "cell_type": "code",
      "source": [
        "for j in range(256):\n",
        "    gradient=gradient_at(0,j)\n",
        "    print(gradient)\n",
        "drive.flush_and_unmount()"
      ],
      "metadata": {
        "colab": {
          "base_uri": "https://localhost:8080/"
        },
        "id": "qitn9zM6glNT",
        "outputId": "4e8f27bd-f34b-4eba-d0e0-e04f57cca42e"
      },
      "execution_count": null,
      "outputs": [
        {
          "output_type": "stream",
          "name": "stdout",
          "text": [
            "[-0.00834076 -0.00126369]\n",
            "[-0.00536724 -0.00066295]\n",
            "[-0.02702514 -0.00162067]\n",
            "[-0.00525265 -0.00037597]\n",
            "[-0.03170329 -0.00381757]\n",
            "[-0.01027681 -0.001058  ]\n",
            "[-0.01210345 -0.00150825]\n",
            "[-0.0405968 -0.0039377]\n",
            "[-0.02044143 -0.00070631]\n",
            "[-0.00962581 -0.00055232]\n",
            "[-0.01862828 -0.00079207]\n",
            "[-0.01708093 -0.00121806]\n",
            "[-0.01875655 -0.00106637]\n",
            "[-0.01938896 -0.00201891]\n",
            "[-0.05921948 -0.00780117]\n",
            "[-0.01039953 -0.00107063]\n",
            "[-0.04298759 -0.00554679]\n",
            "[-0.04420489 -0.00229748]\n",
            "[-0.01925214 -0.00471864]\n",
            "[-0.01595523 -0.00292109]\n",
            "[-0.04526237 -0.00277239]\n",
            "[-0.01764586 -0.00084071]\n",
            "[-0.01046069 -0.00181805]\n",
            "[-0.00778625 -0.00073618]\n",
            "[-0.00745014 -0.00119076]\n",
            "[-0.00572165 -0.00122056]\n",
            "[-0.007509   -0.00120016]\n",
            "[-0.00963371 -0.00053578]\n",
            "[-0.0188635  -0.00107245]\n",
            "[-0.00528085 -0.00037799]\n",
            "[-0.01098159 -0.0006581 ]\n",
            "[-0.00831081 -0.00125916]\n",
            "[-0.00539123 -0.00066592]\n",
            "[-0.01101818 -0.00066029]\n",
            "[-0.01115167 -0.00066829]\n",
            "[-0.00648749 -0.00096421]\n",
            "[-0.03508119 -0.00176412]\n",
            "[-0.0093242  -0.00227793]\n",
            "[-0.01781016 -0.00179699]\n",
            "[-0.03701505 -0.00175949]\n",
            "[-0.00679113 -0.00042902]\n",
            "[-0.00760237 -0.00181997]\n",
            "[-0.01210614 -0.00150858]\n",
            "[-0.01400259 -0.00112859]\n",
            "[-0.00746739 -0.00119351]\n",
            "[-0.00837954  0.00229522]\n",
            "[-0.01494885 -0.00188678]\n",
            "[-0.01067081 -0.00234632]\n",
            "[-0.01243457 -0.00247466]\n",
            "[-0.03845524 -0.00409919]\n",
            "[-0.00556795 -0.00040122]\n",
            "[-0.0303864  -0.00161777]\n",
            "[-0.01793037 -0.00180912]\n",
            "[-0.01117252 -0.00066954]\n",
            "[-0.01032528 -0.00102499]\n",
            "[-0.00682435 -0.00043112]\n",
            "[-0.00920118 -0.00071965]\n",
            "[-0.01542099 -0.00228908]\n",
            "[-0.02369716 -0.00383198]\n",
            "[-0.04758255 -0.00077998]\n",
            "[-0.0072921  -0.00100439]\n",
            "[-0.00737689 -0.00117905]\n",
            "[-0.01037428 -0.00106803]\n",
            "[-0.0073551  -0.00117556]\n",
            "[-0.0707776  -0.00796648]\n",
            "[-0.00904134 -0.00046052]\n",
            "[-0.05758766 -0.00672068]\n",
            "[-0.00836025 -0.00072314]\n",
            "[-0.03072765 -0.00163594]\n",
            "[-0.03471087 -0.00382201]\n",
            "[-0.0127685  -0.00051355]\n",
            "[-0.0179996  -0.00197376]\n",
            "[-0.01272147 -0.00051166]\n",
            "[-0.06830141 -0.00743139]\n",
            "[-0.00798357 -0.0012052 ]\n",
            "[-0.01645197 -0.00029362]\n",
            "[-0.0067146  -0.00042419]\n",
            "[-0.01897774 -0.00182853]\n",
            "[-0.00541491 -0.00073339]\n",
            "[-0.0142222  -0.00114628]\n",
            "[-0.0272335  -0.00224967]\n",
            "[-0.00681275 -0.00043039]\n",
            "[-0.00558767 -0.00094549]\n",
            "[-0.00899363 -0.0004581 ]\n",
            "[-0.00667406 -0.00159059]\n",
            "[-0.00680716 -0.00043003]\n",
            "[-0.0702525  -0.00790738]\n",
            "[-0.00554062 -0.00039925]\n",
            "[-0.0550629  -0.00302937]\n",
            "[-0.02386731 -0.00232602]\n",
            "[-0.03053707 -0.00162579]\n",
            "[-0.00799607 -0.00120709]\n",
            "[-0.00614089 -0.000457  ]\n",
            "[-0.02382341 -0.00057919]\n",
            "[-0.03101493 -0.00378946]\n",
            "[-0.01941548 -0.00202167]\n",
            "[-0.06889642 -0.00749612]\n",
            "[-0.00672597 -0.0004249 ]\n",
            "[-0.04658949 -0.00177948]\n",
            "[-0.01060172 -0.00233112]\n",
            "[-0.03611743 -0.00160349]\n",
            "[-0.03511298 -0.00176572]\n",
            "[-0.0105487  -0.00183335]\n",
            "[-0.00529041 -0.00037867]\n",
            "[-0.01713602 -0.00092325]\n",
            "[-0.00679467 -0.00037666]\n",
            "[-0.00861101 -0.00070261]\n",
            "[-0.01888625 -0.00107374]\n",
            "[-0.00773367 -0.00073121]\n",
            "[-0.00558315 -0.00040231]\n",
            "[-0.02456787 -0.00077843]\n",
            "[-0.00733492 -0.00101028]\n",
            "[-0.01205479 -0.00154835]\n",
            "[-0.0101264  -0.00124944]\n",
            "[-0.00557117 -0.00040145]\n",
            "[-0.00607773 -0.00094444]\n",
            "[-0.02223429 -0.00152272]\n",
            "[-0.00703218 -0.00071688]\n",
            "[-0.01201677 -0.00129112]\n",
            "[-0.00558919 -0.00040275]\n",
            "[-0.02835454 -0.0007778 ]\n",
            "[-0.00729261 -0.00100446]\n",
            "[-0.01429492 -0.00128579]\n",
            "[-0.02201875 -0.00150795]\n",
            "[-0.00527624 -0.00037766]\n",
            "[-0.01313942 -0.00059666]\n",
            "[-0.0053386  -0.00075245]\n",
            "[-0.01849076 -0.00105126]\n",
            "[-0.02184316  0.00442915]\n",
            "[-0.00542891 -0.00073529]\n",
            "[-0.01241177 -0.00203696]\n",
            "[-0.01104987 -0.0006622 ]\n",
            "[-0.01777814 -0.00179376]\n",
            "[-0.01023273 -0.00101581]\n",
            "[-0.0052776  -0.00037775]\n",
            "[-0.01496704 -0.00188907]\n",
            "[-0.02307892 -0.00357679]\n",
            "[-0.0170531  -0.00091877]\n",
            "[-0.03598868 -0.00399221]\n",
            "[-0.01236599 -0.00199345]\n",
            "[-0.01282505 -0.00051583]\n",
            "[-0.00676214 -0.00042719]\n",
            "[-0.01280863 -0.00217205]\n",
            "[-0.00931261 -0.00227509]\n",
            "[-0.01498336 -0.00155993]\n",
            "[-0.06147817 -0.00662085]\n",
            "[-0.00755669 -0.00043585]\n",
            "[-0.01050962 -0.00182656]\n",
            "[-0.00637633 -0.00098274]\n",
            "[-0.00964766 -0.00055357]\n",
            "[-0.02343338 -0.00363172]\n",
            "[-0.01020933 -0.00125968]\n",
            "[-0.00508493 -0.00050802]\n",
            "[-0.01234656 -0.00199032]\n",
            "[-0.07162489 -0.009411  ]\n",
            "[-0.03110933 -0.00165626]\n",
            "[-0.00535805 -0.00075519]\n",
            "[-0.0192959  -0.00200921]\n",
            "[-0.04519144 -0.00275191]\n",
            "[-0.01400968 -0.00136339]\n",
            "[-0.01824899 -0.00184127]\n",
            "[-0.00836023 -0.00126664]\n",
            "[-0.01089081 -0.00065266]\n",
            "[-0.02402407 -0.0021895 ]\n",
            "[-0.00527265 -0.00041618]\n",
            "[-0.05816582 -0.00460323]\n",
            "[-0.04135324 -0.00482422]\n",
            "[-0.00749733 -0.0011983 ]\n",
            "[-0.01939405 -0.00201943]\n",
            "[-0.00838033 -0.00126969]\n",
            "[-0.00528633 -0.00037838]\n",
            "[-0.02988648 -0.00333677]\n",
            "[-0.01724288 -0.000929  ]\n",
            "[-0.00539772 -0.00066672]\n",
            "[-0.03080498 -0.00164006]\n",
            "[-0.0401817  -0.00387907]\n",
            "[-0.00864791 -0.00070562]\n",
            "[-0.01384023 -0.0011155 ]\n",
            "[-0.07031538 -0.00791445]\n",
            "[-0.00706928 -0.00072066]\n",
            "[-0.01126281 -0.00067496]\n",
            "[-0.00528853 -0.00041744]\n",
            "[-0.02019139 -0.00069767]\n",
            "[-0.00585527 -0.00039012]\n",
            "[-0.01688758 -0.00234523]\n",
            "[-7.499548e-03 -6.142631e-05]\n",
            "[-0.00681326 -0.00116888]\n",
            "[-0.04715506 -0.00408471]\n",
            "[-0.04413396 -0.00229379]\n",
            "[-0.00507258 -0.00047056]\n",
            "[-0.009648   -0.00053658]\n",
            "[-0.01062568 -0.00233639]\n",
            "[-0.01407269 -0.00126581]\n",
            "[-0.03768823 -0.00520948]\n",
            "[-0.02359114 -0.00057355]\n",
            "[-0.02636851 -0.00409438]\n",
            "[-0.02716494 -0.00162906]\n",
            "[-0.00566906 -0.00040377]\n",
            "[-0.03267807 -0.0008925 ]\n",
            "[-0.01727247 -0.00093059]\n",
            "[-0.00836143 -0.00072324]\n",
            "[-0.00634774 -0.00150112]\n",
            "[-0.01798268 -0.0018144 ]\n",
            "[-7.8464206e-03  3.8444996e-05]\n",
            "[-0.00528886 -0.00037856]\n",
            "[-0.05649038 -0.00226597]\n",
            "[-0.05989563 -0.00559685]\n",
            "[-0.00800765 -0.00120884]\n",
            "[-0.01121349 -0.000672  ]\n",
            "[-0.0080798  -0.00121973]\n",
            "[-0.0066224 -0.0006899]\n",
            "[-0.00529783 -0.00041817]\n",
            "[-0.02617839 -0.00371786]\n",
            "[-0.00583436 -0.00038873]\n",
            "[-0.03655188 -0.00173748]\n",
            "[-0.01037518 -0.0018032 ]\n",
            "[-0.00524834 -0.00037566]\n",
            "[-0.02730384 -0.00188328]\n",
            "[-0.00663468 -0.00069117]\n",
            "[-0.00742284 -0.00118639]\n",
            "[-0.01108375 -0.00066422]\n",
            "[-0.01037095 -0.00106768]\n",
            "[-0.01410812 -0.00113709]\n",
            "[-0.04186304 -0.00191114]\n",
            "[-0.00648376 -0.00096366]\n",
            "[-0.00533888 -0.00075249]\n",
            "[-0.01545062 -0.00217141]\n",
            "[-0.00711361 -0.00068564]\n",
            "[-0.04318297 -0.00179719]\n",
            "[-0.00673205 -0.00042529]\n",
            "[-0.00669884 -0.00042319]\n",
            "[-0.00970121 -0.00053954]\n",
            "[-0.01463599 -0.00118241]\n",
            "[-0.03200501 -0.00243584]\n",
            "[-0.00585361 -0.00039001]\n",
            "[-0.05722757 -0.00452898]\n",
            "[-0.00842777 -0.00039055]\n",
            "[-0.04745032 -0.00411027]\n",
            "[-0.00917202 -0.00071737]\n",
            "[-0.01756876 -0.00083703]\n",
            "[-0.02044945 -0.00070658]\n",
            "[-0.02081183 -0.00096887]\n",
            "[-0.00712088 -0.00072592]\n",
            "[-7.501097e-03 -6.144121e-05]\n",
            "[-0.01308957 -0.00059439]\n",
            "[-0.00649234 -0.00096493]\n",
            "[-0.00679307 -0.00174897]\n",
            "[-0.01104368 -0.00066182]\n",
            "[-0.01211043 -0.00150911]\n",
            "[-0.00576611 -0.00041557]\n",
            "[-0.01310244 -0.00059498]\n",
            "[-0.00650048 -0.00096614]\n",
            "[-0.02526867 -0.00139324]\n",
            "[-0.01408742 -0.00126713]\n",
            "[-0.04830883 -0.00499989]\n",
            "[-0.00763147 -0.00050008]\n"
          ]
        }
      ]
    }
  ]
}