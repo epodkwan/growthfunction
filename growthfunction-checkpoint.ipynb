{
 "cells": [
  {
   "cell_type": "code",
   "execution_count": 1,
   "id": "a7983f9a-449c-4665-8826-b9994084ef1a",
   "metadata": {},
   "outputs": [],
   "source": [
    "import math\n",
    "import matplotlib.pyplot as plt"
   ]
  },
  {
   "cell_type": "code",
   "execution_count": 2,
   "id": "9c67c176-4c9e-4a2a-ace5-2b338a09f1ba",
   "metadata": {},
   "outputs": [],
   "source": [
    "h0=70\n",
    "omm=0.3\n",
    "omde=0.7\n",
    "p=[-3,0,-2]\n",
    "ai=0.001\n",
    "omlam=1-omm-omde\n",
    "om=[omm,omde,omlam]\n",
    "par=[om,p]"
   ]
  },
  {
   "cell_type": "code",
   "execution_count": 3,
   "id": "8cb90ca5-4d07-41f0-8f1b-a27258856842",
   "metadata": {},
   "outputs": [],
   "source": [
    "def calh(a):\n",
    "    total=0\n",
    "    for i in range(3):\n",
    "        total=total+par[0][i]*a**par[1][i]\n",
    "    h=h0*math.sqrt(total)\n",
    "    return h"
   ]
  },
  {
   "cell_type": "code",
   "execution_count": 4,
   "id": "e695454d-17f2-43bd-b643-c538f009183e",
   "metadata": {},
   "outputs": [],
   "source": [
    "def func(a):\n",
    "    temp=1/a/calh(a)\n",
    "    return temp*temp*temp"
   ]
  },
  {
   "cell_type": "code",
   "execution_count": 5,
   "id": "8969ce14-f87b-44a8-89e7-1f11a125c057",
   "metadata": {},
   "outputs": [],
   "source": [
    "def rk4(x0,y0,dx):\n",
    "    k=[0,0,0,0]\n",
    "    k[0]=func(x0)\n",
    "    k[1]=func(x0+dx/2)\n",
    "    k[3]=func(x0+dx)\n",
    "    return y0+(k[0]+4*k[1]+k[3])*dx/6"
   ]
  },
  {
   "cell_type": "code",
   "execution_count": 6,
   "id": "6599c40c-06df-4cdc-841a-8f0da31ead88",
   "metadata": {},
   "outputs": [],
   "source": [
    "def integration(x0,xf,dx):\n",
    "    x=x0\n",
    "    y=0\n",
    "    while x<xf:\n",
    "        y=rk4(x,y,dx)\n",
    "        x=x+dx\n",
    "    return y"
   ]
  },
  {
   "cell_type": "code",
   "execution_count": 7,
   "id": "47188c4f-1d68-4483-9a20-53b89d05cc0d",
   "metadata": {},
   "outputs": [],
   "source": [
    "def growth(a):\n",
    "    temp=integration(ai,a,0.001)\n",
    "    return 5*omm/2*h0*h0*calh(a)*temp"
   ]
  },
  {
   "cell_type": "code",
   "execution_count": 8,
   "id": "f4d68e96-b5cc-4c9f-bc7a-eca775c28f29",
   "metadata": {},
   "outputs": [],
   "source": [
    "def plotgraph():\n",
    "    a=0.01\n",
    "    temp=growth(1)\n",
    "    while a<=1:\n",
    "        plt.scatter(a,growth(a)/temp)\n",
    "        a=a+0.01\n",
    "    plt.ticklabel_format(useOffset=False)\n",
    "    plt.show()"
   ]
  },
  {
   "cell_type": "code",
   "execution_count": 9,
   "id": "a505bec6-7327-4733-819a-6282468545a6",
   "metadata": {},
   "outputs": [
    {
     "name": "stdout",
     "output_type": "stream",
     "text": [
      "Growth factor=\n"
     ]
    },
    {
     "data": {
      "image/png": "[encoded data removed]",
      "text/plain": [
       "<Figure size 432x288 with 1 Axes>"
      ]
     },
     "metadata": {
      "needs_background": "light"
     },
     "output_type": "display_data"
    }
   ],
   "source": [
    "print(\"Growth factor=\")\n",
    "plotgraph()"
   ]
  },
  {
   "cell_type": "code",
   "execution_count": null,
   "id": "c1f6a7ad-18c4-4355-aa39-618cacb6bcd7",
   "metadata": {},
   "outputs": [],
   "source": []
  }
 ],
 "metadata": {
  "kernelspec": {
   "display_name": "Python 3 (ipykernel)",
   "language": "python",
   "name": "python3"
  },
  "language_info": {
   "codemirror_mode": {
    "name": "ipython",
    "version": 3
   },
   "file_extension": ".py",
   "mimetype": "text/x-python",
   "name": "python",
   "nbconvert_exporter": "python",
   "pygments_lexer": "ipython3",
   "version": "3.10.4"
  }
 },
 "nbformat": 4,
 "nbformat_minor": 5
}
