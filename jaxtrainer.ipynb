{
  "nbformat": 4,
  "nbformat_minor": 0,
  "metadata": {
    "colab": {
      "name": "jaxtrainer.ipynb",
      "provenance": [],
      "authorship_tag": "ABX9TyMdtQvo8soLRqyhlVHs6mYg",
      "include_colab_link": true
    },
    "kernelspec": {
      "name": "python3",
      "display_name": "Python 3"
    },
    "language_info": {
      "name": "python"
    }
  },
  "cells": [
    {
      "cell_type": "markdown",
      "metadata": {
        "id": "view-in-github",
        "colab_type": "text"
      },
      "source": [
        "<a href=\"https://colab.research.google.com/github/epodkwan/growthfunction/blob/main/jaxtrainer.ipynb\" target=\"_parent\"><img src=\"https://colab.research.google.com/assets/colab-badge.svg\" alt=\"Open In Colab\"/></a>"
      ]
    },
    {
      "cell_type": "code",
      "source": [
        "from google.colab import drive\n",
        "drive.mount('/content/drive')"
      ],
      "metadata": {
        "colab": {
          "base_uri": "https://localhost:8080/"
        },
        "id": "kspaBRb5xVKq",
        "outputId": "1c0e2c06-9c64-4fc8-f829-ccd3f607b9c7"
      },
      "execution_count": 1,
      "outputs": [
        {
          "output_type": "stream",
          "name": "stdout",
          "text": [
            "Drive already mounted at /content/drive; to attempt to forcibly remount, call drive.mount(\"/content/drive\", force_remount=True).\n"
          ]
        }
      ]
    },
    {
      "cell_type": "code",
      "source": [
        "from typing import Sequence\n",
        "import jax\n",
        "import optax\n",
        "import numpy as np\n",
        "import jax.numpy as jnp\n",
        "from jax import jit,random\n",
        "from flax import linen as nn\n",
        "import matplotlib.pyplot as plt"
      ],
      "metadata": {
        "id": "GXP7APTktM23"
      },
      "execution_count": 2,
      "outputs": []
    },
    {
      "cell_type": "code",
      "source": [
        "def npy_loader(path):\n",
        "    return jnp.load(path)"
      ],
      "metadata": {
        "id": "seVyHnrBtU9a"
      },
      "execution_count": 3,
      "outputs": []
    },
    {
      "cell_type": "code",
      "source": [
        "input_data=npy_loader(\"/content/drive/My Drive/Colab Notebooks/cosmo.npy\")\n",
        "input_result=npy_loader(\"/content/drive/My Drive/Colab Notebooks/combined.npy\")\n",
        "x_train=jnp.stack((input_data[0:800,0],input_data[0:800,2]),axis=1)\n",
        "y_train=input_result[0:800,:]\n",
        "x_validate=jnp.stack((input_data[800:900,0],input_data[800:900,2]),axis=1)\n",
        "y_validate=input_result[800:900,:]"
      ],
      "metadata": {
        "colab": {
          "base_uri": "https://localhost:8080/"
        },
        "id": "uaH8AxCAtXHD",
        "outputId": "51bb772a-2221-4d21-90e9-5e5dbdbd1416"
      },
      "execution_count": 4,
      "outputs": [
        {
          "output_type": "stream",
          "name": "stderr",
          "text": [
            "WARNING:absl:No GPU/TPU found, falling back to CPU. (Set TF_CPP_MIN_LOG_LEVEL=0 and rerun for more info.)\n"
          ]
        }
      ]
    },
    {
      "cell_type": "code",
      "source": [
        "class SimpleMLP(nn.Module):\n",
        "    features:Sequence[int]\n",
        "\n",
        "    @nn.compact\n",
        "    def __call__(self,inputs):\n",
        "        x=inputs\n",
        "        for i,feat in enumerate(self.features):\n",
        "            x=nn.Dense(feat)(x)\n",
        "            if i != len(self.features)-1:\n",
        "                x=nn.relu(x)\n",
        "        return x"
      ],
      "metadata": {
        "id": "Wsb6hTLBtacv"
      },
      "execution_count": 5,
      "outputs": []
    },
    {
      "cell_type": "code",
      "source": [
        "layer_sizes=[64,256,256,256]\n",
        "learning_rate=1e-4\n",
        "epochs=30000\n",
        "model=SimpleMLP(features=layer_sizes)\n",
        "temp=jnp.ones(2)\n",
        "params=model.init(random.PRNGKey(0),temp)\n",
        "tx=optax.adam(learning_rate=learning_rate,b1=0.9,b2=0.999)\n",
        "opt_state=tx.init(params)"
      ],
      "metadata": {
        "id": "wQ0f5JoEteu2"
      },
      "execution_count": 6,
      "outputs": []
    },
    {
      "cell_type": "code",
      "source": [
        "@jit\n",
        "def mse_loss(params,x,y_ref):\n",
        "    preds=model.apply(params,x)\n",
        "    diff=preds-y_ref\n",
        "    return jnp.mean(diff*diff)"
      ],
      "metadata": {
        "id": "Q4ETnEgYtiz4"
      },
      "execution_count": 7,
      "outputs": []
    },
    {
      "cell_type": "code",
      "source": [
        "@jit\n",
        "def train_step(params,opt_state,x,y_ref):\n",
        "    loss,grads=jax.value_and_grad(mse_loss,argnums=0)(params,x,y_ref)\n",
        "    updates,opt_state=tx.update(grads,opt_state)\n",
        "    params=optax.apply_updates(params,updates)\n",
        "    return loss,params,opt_state"
      ],
      "metadata": {
        "id": "5KYoOW_TtkmZ"
      },
      "execution_count": 8,
      "outputs": []
    },
    {
      "cell_type": "code",
      "source": [
        "order=jnp.arange(800)\n",
        "for i in range(epochs):\n",
        "    order=random.permutation(random.PRNGKey(i),order)\n",
        "    train_loss=0\n",
        "    for j in range(25):\n",
        "        x_batch=x_train[order[32*j:32*(j+1)-1],:]\n",
        "        y_batch=y_train[order[32*j:32*(j+1)-1],:]\n",
        "        loss,params,opt_state=train_step(params,opt_state,x_batch,y_batch)\n",
        "        train_loss=train_loss+loss\n",
        "    if i % 100 == 99:\n",
        "        train_loss=train_loss/25\n",
        "        validate_loss=mse_loss(params,x_validate,y_validate)\n",
        "        print((i+1),validate_loss)\n",
        "        plt.scatter((i+1),jnp.log(train_loss),c='b')\n",
        "        plt.scatter((i+1),jnp.log(validate_loss),c='g')\n",
        "print(\"Training ended\")\n",
        "jnp.save(\"model.npy\",params)\n",
        "plt.xlabel(\"Epoch\")\n",
        "plt.ylabel(\"ln(loss)\")\n",
        "plt.title(\"Loss function\")\n",
        "plt.legend([\"Training Loss\",\"Validation Loss\"])\n",
        "plt.savefig(\"/content/drive/My Drive/Colab Notebooks/loss.png\")\n",
        "drive.flush_and_unmount()"
      ],
      "metadata": {
        "colab": {
          "base_uri": "https://localhost:8080/"
        },
        "id": "XBEEkIgktmtw",
        "outputId": "3f2dc9b6-76eb-43e2-e91d-c61da507f347"
      },
      "execution_count": null,
      "outputs": [
        {
          "output_type": "stream",
          "name": "stdout",
          "text": [
            "100 1.2974906e-05\n",
            "200 2.9636426e-06\n",
            "300 1.9140075e-06\n",
            "400 1.0295079e-06\n",
            "500 5.6282306e-07\n",
            "600 3.3947725e-07\n",
            "700 5.6003995e-07\n",
            "800 2.312849e-07\n",
            "900 5.284297e-07\n",
            "1000 1.863303e-07\n",
            "1100 2.7114066e-07\n",
            "1200 2.7625995e-07\n",
            "1300 1.1119169e-07\n",
            "1400 1.5026271e-07\n",
            "1500 2.1081915e-07\n",
            "1600 1.0484211e-07\n",
            "1700 4.878363e-07\n",
            "1800 1.3387722e-07\n",
            "1900 2.0873645e-07\n",
            "2000 1.13631664e-07\n",
            "2100 1.3957991e-07\n",
            "2200 1.645417e-07\n",
            "2300 2.0037328e-07\n",
            "2400 6.504763e-08\n",
            "2500 1.0011713e-07\n",
            "2600 7.288363e-08\n",
            "2700 7.549696e-08\n",
            "2800 4.5012493e-07\n",
            "2900 1.8610187e-07\n",
            "3000 8.010554e-08\n",
            "3100 5.98634e-08\n",
            "3200 1.095756e-07\n",
            "3300 1.3752718e-07\n",
            "3400 8.8834184e-08\n",
            "3500 1.7069385e-07\n",
            "3600 5.575019e-08\n",
            "3700 6.6704246e-08\n",
            "3800 9.184428e-08\n",
            "3900 8.1158575e-08\n",
            "4000 5.267464e-08\n",
            "4100 1.00093175e-07\n",
            "4200 9.650679e-08\n",
            "4300 1.8250337e-07\n",
            "4400 4.234588e-08\n",
            "4500 5.213507e-08\n",
            "4600 4.1672454e-08\n",
            "4700 3.925358e-08\n",
            "4800 4.660768e-08\n",
            "4900 2.7219335e-07\n",
            "5000 3.3578695e-07\n",
            "5100 4.5168584e-08\n",
            "5200 2.3379224e-07\n",
            "5300 1.07402855e-07\n",
            "5400 7.276722e-08\n",
            "5500 9.433664e-08\n",
            "5600 7.7241e-08\n",
            "5700 5.786349e-07\n",
            "5800 5.1757777e-08\n",
            "5900 8.1520614e-07\n",
            "6000 1.9095154e-07\n",
            "6100 7.5285406e-08\n",
            "6200 4.6250538e-08\n",
            "6300 1.1046264e-06\n",
            "6400 5.7720822e-08\n",
            "6500 6.994892e-08\n",
            "6600 3.264074e-08\n",
            "6700 1.6597765e-07\n",
            "6800 4.6557815e-08\n",
            "6900 5.4165987e-08\n",
            "7000 1.4765247e-07\n",
            "7100 7.3012764e-08\n",
            "7200 2.9268739e-08\n",
            "7300 4.433821e-08\n",
            "7400 5.903772e-08\n",
            "7500 7.979648e-08\n",
            "7600 1.6783163e-07\n",
            "7700 1.2726528e-07\n",
            "7800 3.0310613e-08\n",
            "7900 2.9113052e-08\n",
            "8000 1.6829784e-07\n",
            "8100 7.427518e-08\n",
            "8200 1.6564132e-07\n",
            "8300 7.857772e-08\n",
            "8400 5.1761685e-08\n",
            "8500 5.2182294e-08\n",
            "8600 3.4400003e-08\n",
            "8700 1.7551298e-07\n",
            "8800 1.2782648e-07\n",
            "8900 1.176654e-07\n",
            "9000 3.3260136e-08\n",
            "9100 1.05912875e-07\n",
            "9200 3.0478773e-08\n",
            "9300 3.735581e-08\n",
            "9400 3.034658e-07\n",
            "9500 9.7875095e-08\n",
            "9600 1.0047425e-07\n",
            "9700 3.880957e-08\n",
            "9800 6.078044e-08\n",
            "9900 1.2537944e-07\n",
            "10000 3.2031704e-08\n",
            "10100 6.6995085e-08\n",
            "10200 3.4081403e-08\n",
            "10300 8.498156e-08\n",
            "10400 4.6296616e-08\n",
            "10500 8.7167805e-08\n",
            "10600 7.611156e-08\n",
            "10700 5.870367e-08\n",
            "10800 9.090909e-08\n",
            "10900 3.548646e-07\n",
            "11000 3.9902968e-08\n",
            "11100 4.9283074e-08\n",
            "11200 5.480005e-08\n",
            "11300 3.183216e-08\n",
            "11400 1.0036518e-07\n",
            "11500 6.9743926e-08\n",
            "11600 3.596527e-07\n",
            "11700 1.0155331e-07\n",
            "11800 8.546861e-08\n",
            "11900 3.495562e-08\n",
            "12000 2.1699466e-07\n",
            "12100 5.65636e-07\n",
            "12200 3.6309167e-08\n",
            "12300 5.7571235e-08\n",
            "12400 1.2128167e-07\n",
            "12500 1.3378364e-07\n",
            "12600 3.8765823e-08\n",
            "12700 7.016141e-08\n",
            "12800 9.9851235e-08\n",
            "12900 4.6584077e-08\n",
            "13000 6.196595e-08\n",
            "13100 5.5497114e-08\n",
            "13200 6.748046e-08\n",
            "13300 4.6700595e-08\n",
            "13400 8.009242e-08\n",
            "13500 4.1249987e-08\n",
            "13600 4.024437e-08\n",
            "13700 2.9358313e-08\n",
            "13800 8.954274e-08\n",
            "13900 1.66717e-07\n",
            "14000 3.2378765e-08\n",
            "14100 2.6440637e-07\n",
            "14200 1.1998425e-07\n",
            "14300 6.038353e-08\n",
            "14400 5.165164e-08\n",
            "14500 1.09414074e-07\n",
            "14600 3.2333865e-08\n",
            "14700 8.524177e-08\n",
            "14800 9.3707186e-08\n",
            "14900 1.7689337e-07\n",
            "15000 2.9781392e-08\n",
            "15100 8.0722415e-08\n",
            "15200 3.441691e-08\n",
            "15300 3.274876e-08\n",
            "15400 3.8303096e-08\n",
            "15500 3.1437658e-08\n",
            "15600 7.077542e-08\n",
            "15700 3.4517683e-08\n",
            "15800 3.1683665e-08\n",
            "15900 3.2206394e-08\n",
            "16000 1.4765462e-07\n",
            "16100 1.2409713e-07\n",
            "16200 4.224134e-08\n",
            "16300 4.5662844e-08\n",
            "16400 2.8753013e-07\n",
            "16500 9.010315e-08\n",
            "16600 7.685214e-08\n",
            "16700 7.222796e-08\n",
            "16800 3.7727386e-08\n",
            "16900 7.8920664e-08\n",
            "17000 2.7489763e-08\n",
            "17100 9.831985e-08\n",
            "17200 3.111099e-08\n",
            "17300 4.556525e-08\n",
            "17400 3.397079e-08\n",
            "17500 3.212171e-08\n",
            "17600 1.5542973e-07\n",
            "17700 4.8818254e-08\n",
            "17800 5.2311425e-08\n",
            "17900 1.8284118e-07\n",
            "18000 2.4046423e-07\n",
            "18100 3.718185e-08\n",
            "18200 2.6574059e-08\n",
            "18300 2.2283622e-07\n",
            "18400 7.240133e-08\n",
            "18500 3.1576892e-08\n"
          ]
        }
      ]
    },
    {
      "cell_type": "code",
      "source": [
        "x_test=jnp.stack((input_data[900:1000,0],input_data[900:1000,2]),axis=1)\n",
        "y_test=input_result[900:1000,:]\n",
        "y_pred=model.apply(params,x_test)\n",
        "print(y_pred)\n",
        "error=abs(y_pred/y_test-1)\n",
        "print(\"Max error =\",jnp.max(error)*100,\"%\")"
      ],
      "metadata": {
        "id": "h4lHuAF6tpcK"
      },
      "execution_count": null,
      "outputs": []
    }
  ]
}