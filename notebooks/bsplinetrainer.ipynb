{
  "cells": [
    {
      "cell_type": "markdown",
      "metadata": {
        "id": "view-in-github",
        "colab_type": "text"
      },
      "source": [
        "<a href=\"https://colab.research.google.com/github/epodkwan/growthfunction/blob/main/bsplinetrainer.ipynb\" target=\"_parent\"><img src=\"https://colab.research.google.com/assets/colab-badge.svg\" alt=\"Open In Colab\"/></a>"
      ]
    },
    {
      "cell_type": "code",
      "execution_count": 1,
      "metadata": {
        "colab": {
          "base_uri": "https://localhost:8080/"
        },
        "id": "OgZPjwP-NEwE",
        "outputId": "734bbdc0-35be-4e83-9db9-8b34c9fc8c66"
      },
      "outputs": [
        {
          "output_type": "stream",
          "name": "stdout",
          "text": [
            "Looking in indexes: https://pypi.org/simple, https://us-python.pkg.dev/colab-wheels/public/simple/\n",
            "Collecting flax\n",
            "  Downloading flax-0.5.3-py3-none-any.whl (202 kB)\n",
            "\u001b[K     |████████████████████████████████| 202 kB 5.1 MB/s \n",
            "\u001b[?25hRequirement already satisfied: jax>=0.3.2 in /usr/local/lib/python3.7/dist-packages (from flax) (0.3.14)\n",
            "Requirement already satisfied: typing-extensions>=4.1.1 in /usr/local/lib/python3.7/dist-packages (from flax) (4.1.1)\n",
            "Requirement already satisfied: numpy>=1.12 in /usr/local/lib/python3.7/dist-packages (from flax) (1.21.6)\n",
            "Collecting tensorstore\n",
            "  Downloading tensorstore-0.1.22-cp37-cp37m-manylinux_2_17_x86_64.manylinux2014_x86_64.whl (7.5 MB)\n",
            "\u001b[K     |████████████████████████████████| 7.5 MB 40.7 MB/s \n",
            "\u001b[?25hCollecting rich~=11.1\n",
            "  Downloading rich-11.2.0-py3-none-any.whl (217 kB)\n",
            "\u001b[K     |████████████████████████████████| 217 kB 54.0 MB/s \n",
            "\u001b[?25hRequirement already satisfied: matplotlib in /usr/local/lib/python3.7/dist-packages (from flax) (3.2.2)\n",
            "Collecting optax\n",
            "  Downloading optax-0.1.3-py3-none-any.whl (145 kB)\n",
            "\u001b[K     |████████████████████████████████| 145 kB 61.5 MB/s \n",
            "\u001b[?25hCollecting PyYAML>=5.4.1\n",
            "  Downloading PyYAML-6.0-cp37-cp37m-manylinux_2_5_x86_64.manylinux1_x86_64.manylinux_2_12_x86_64.manylinux2010_x86_64.whl (596 kB)\n",
            "\u001b[K     |████████████████████████████████| 596 kB 64.5 MB/s \n",
            "\u001b[?25hRequirement already satisfied: msgpack in /usr/local/lib/python3.7/dist-packages (from flax) (1.0.4)\n",
            "Requirement already satisfied: opt-einsum in /usr/local/lib/python3.7/dist-packages (from jax>=0.3.2->flax) (3.3.0)\n",
            "Requirement already satisfied: etils[epath] in /usr/local/lib/python3.7/dist-packages (from jax>=0.3.2->flax) (0.7.1)\n",
            "Requirement already satisfied: scipy>=1.5 in /usr/local/lib/python3.7/dist-packages (from jax>=0.3.2->flax) (1.7.3)\n",
            "Requirement already satisfied: absl-py in /usr/local/lib/python3.7/dist-packages (from jax>=0.3.2->flax) (1.2.0)\n",
            "Collecting commonmark<0.10.0,>=0.9.0\n",
            "  Downloading commonmark-0.9.1-py2.py3-none-any.whl (51 kB)\n",
            "\u001b[K     |████████████████████████████████| 51 kB 1.7 MB/s \n",
            "\u001b[?25hCollecting colorama<0.5.0,>=0.4.0\n",
            "  Downloading colorama-0.4.5-py2.py3-none-any.whl (16 kB)\n",
            "Requirement already satisfied: pygments<3.0.0,>=2.6.0 in /usr/local/lib/python3.7/dist-packages (from rich~=11.1->flax) (2.6.1)\n",
            "Requirement already satisfied: zipp in /usr/local/lib/python3.7/dist-packages (from etils[epath]->jax>=0.3.2->flax) (3.8.1)\n",
            "Requirement already satisfied: importlib_resources in /usr/local/lib/python3.7/dist-packages (from etils[epath]->jax>=0.3.2->flax) (5.9.0)\n",
            "Requirement already satisfied: python-dateutil>=2.1 in /usr/local/lib/python3.7/dist-packages (from matplotlib->flax) (2.8.2)\n",
            "Requirement already satisfied: cycler>=0.10 in /usr/local/lib/python3.7/dist-packages (from matplotlib->flax) (0.11.0)\n",
            "Requirement already satisfied: pyparsing!=2.0.4,!=2.1.2,!=2.1.6,>=2.0.1 in /usr/local/lib/python3.7/dist-packages (from matplotlib->flax) (3.0.9)\n",
            "Requirement already satisfied: kiwisolver>=1.0.1 in /usr/local/lib/python3.7/dist-packages (from matplotlib->flax) (1.4.4)\n",
            "Requirement already satisfied: six>=1.5 in /usr/local/lib/python3.7/dist-packages (from python-dateutil>=2.1->matplotlib->flax) (1.15.0)\n",
            "Requirement already satisfied: jaxlib>=0.1.37 in /usr/local/lib/python3.7/dist-packages (from optax->flax) (0.3.14+cuda11.cudnn805)\n",
            "Collecting chex>=0.0.4\n",
            "  Downloading chex-0.1.4-py3-none-any.whl (76 kB)\n",
            "\u001b[K     |████████████████████████████████| 76 kB 6.3 MB/s \n",
            "\u001b[?25hRequirement already satisfied: dm-tree>=0.1.5 in /usr/local/lib/python3.7/dist-packages (from chex>=0.0.4->optax->flax) (0.1.7)\n",
            "Requirement already satisfied: toolz>=0.9.0 in /usr/local/lib/python3.7/dist-packages (from chex>=0.0.4->optax->flax) (0.12.0)\n",
            "Requirement already satisfied: flatbuffers<3.0,>=1.12 in /usr/local/lib/python3.7/dist-packages (from jaxlib>=0.1.37->optax->flax) (2.0)\n",
            "Installing collected packages: commonmark, colorama, chex, tensorstore, rich, PyYAML, optax, flax\n",
            "  Attempting uninstall: PyYAML\n",
            "    Found existing installation: PyYAML 3.13\n",
            "    Uninstalling PyYAML-3.13:\n",
            "      Successfully uninstalled PyYAML-3.13\n",
            "Successfully installed PyYAML-6.0 chex-0.1.4 colorama-0.4.5 commonmark-0.9.1 flax-0.5.3 optax-0.1.3 rich-11.2.0 tensorstore-0.1.22\n"
          ]
        }
      ],
      "source": [
        "!pip install flax"
      ]
    },
    {
      "cell_type": "code",
      "execution_count": 2,
      "metadata": {
        "id": "GXP7APTktM23"
      },
      "outputs": [],
      "source": [
        "from typing import Sequence\n",
        "import jax\n",
        "import optax\n",
        "import numpy as np\n",
        "import jax.numpy as jnp\n",
        "from jax import jit,random,vmap\n",
        "from flax import linen as nn\n",
        "from flax.training import train_state,checkpoints\n",
        "import matplotlib.pyplot as plt"
      ]
    },
    {
      "cell_type": "code",
      "execution_count": 3,
      "metadata": {
        "id": "Wsb6hTLBtacv"
      },
      "outputs": [],
      "source": [
        "class SimpleMLP(nn.Module):\n",
        "    features:Sequence[int]\n",
        "    nodes:int\n",
        "\n",
        "    @nn.compact\n",
        "    def __call__(self,inputs):\n",
        "        x=inputs\n",
        "        for i,feat in enumerate(self.features):\n",
        "            x=nn.Dense(feat)(x)\n",
        "            x=jnp.sin(x)\n",
        "        t=nn.Dense(nodes-1)(x)\n",
        "        c=nn.Dense(nodes+1)(x)\n",
        "        t=jnp.concatenate([jnp.zeros((t.shape[0],4)),jnp.cumsum(jax.nn.softmax(t),axis=1),jnp.ones((t.shape[0],3))],axis=1)\n",
        "        c=jnp.concatenate([jnp.zeros((c.shape[0],1)),c],axis=1)\n",
        "        return t,c"
      ]
    },
    {
      "cell_type": "code",
      "execution_count": 4,
      "metadata": {
        "id": "seVyHnrBtU9a"
      },
      "outputs": [],
      "source": [
        "def npy_loader(path):\n",
        "    return jnp.load(path)"
      ]
    },
    {
      "cell_type": "code",
      "source": [
        "@jit\n",
        "def _deBoorVectorized(x,t,c):\n",
        "    p=3\n",
        "    k=jnp.digitize(x,t)-1\n",
        "    d=[c[j+k-p] for j in range(0,p+1)]\n",
        "    for r in range(1,p+1):\n",
        "        for j in range(p,r-1,-1):\n",
        "            alpha=(x-t[j+k-p])/(t[j+1+k-r]-t[j+k-p])\n",
        "            d[j]=(1.0-alpha)*d[j-1]+alpha*d[j]\n",
        "    return d[p]"
      ],
      "metadata": {
        "id": "04vwJv7pMgwz"
      },
      "execution_count": 5,
      "outputs": []
    },
    {
      "cell_type": "code",
      "execution_count": 6,
      "metadata": {
        "id": "wQ0f5JoEteu2"
      },
      "outputs": [],
      "source": [
        "layer_sizes=[64,64]\n",
        "nodes=16\n",
        "learning_rate=1e-6\n",
        "epochs=200000\n",
        "model=SimpleMLP(features=layer_sizes,nodes=nodes)\n",
        "temp=jnp.array([[1]])\n",
        "params=model.init(random.PRNGKey(0),temp)\n",
        "tx=optax.adam(learning_rate=learning_rate)\n",
        "opt_state=tx.init(params)\n",
        "deBoor=vmap(_deBoorVectorized,in_axes=(None,0,0))"
      ]
    },
    {
      "cell_type": "code",
      "source": [
        "@jit\n",
        "def eval_func(params,x,a):\n",
        "    t,c=model.apply(params,x)\n",
        "    preds=deBoor(jnp.clip(a,0,0.99999),t,c)\n",
        "    return preds"
      ],
      "metadata": {
        "id": "fGSxL7n_Y6LA"
      },
      "execution_count": 7,
      "outputs": []
    },
    {
      "cell_type": "code",
      "execution_count": 8,
      "metadata": {
        "id": "Q4ETnEgYtiz4"
      },
      "outputs": [],
      "source": [
        "@jit\n",
        "def mse_loss(params,x,y_ref,a):\n",
        "    preds=eval_func(params,x,a)\n",
        "    diff=preds-y_ref\n",
        "    return jnp.mean(diff*diff)"
      ]
    },
    {
      "cell_type": "code",
      "execution_count": 9,
      "metadata": {
        "id": "5KYoOW_TtkmZ"
      },
      "outputs": [],
      "source": [
        "@jit\n",
        "def train_step(params,opt_state,x,y_ref,a):\n",
        "    loss,grads=jax.value_and_grad(mse_loss,argnums=0)(params,x,y_ref,a)\n",
        "    updates,opt_state=tx.update(grads,opt_state)\n",
        "    params=optax.apply_updates(params,updates)\n",
        "    return loss,params,opt_state"
      ]
    },
    {
      "cell_type": "code",
      "execution_count": 10,
      "metadata": {
        "id": "w5SOhOLwaCFU"
      },
      "outputs": [],
      "source": [
        "@jit\n",
        "def epoch_step(x_train,y_train,params,opt_state,order,a):\n",
        "    order=random.permutation(random.PRNGKey(i),order)\n",
        "    train_loss=0\n",
        "    for j in range(25):\n",
        "        x_batch=x_train[order[32*j:32*(j+1)],:]\n",
        "        y_batch=y_train[order[32*j:32*(j+1)],:]\n",
        "        loss,params,opt_state=train_step(params,opt_state,x_batch,y_batch,a)\n",
        "        train_loss=train_loss+loss\n",
        "    return train_loss,params"
      ]
    },
    {
      "cell_type": "code",
      "execution_count": 11,
      "metadata": {
        "id": "kspaBRb5xVKq",
        "colab": {
          "base_uri": "https://localhost:8080/"
        },
        "outputId": "4dec996e-1600-4ae1-a230-5af3bbf4b703"
      },
      "outputs": [
        {
          "output_type": "stream",
          "name": "stdout",
          "text": [
            "Mounted at /content/drive\n"
          ]
        }
      ],
      "source": [
        "from google.colab import drive\n",
        "drive.mount('/content/drive')"
      ]
    },
    {
      "cell_type": "code",
      "execution_count": 12,
      "metadata": {
        "id": "uaH8AxCAtXHD"
      },
      "outputs": [],
      "source": [
        "input_data=npy_loader(\"/content/drive/My Drive/Colab Notebooks/data1/cosmo.npy\")\n",
        "input_result=npy_loader(\"/content/drive/My Drive/Colab Notebooks/data1/combined.npy\")\n",
        "a=npy_loader(\"/content/drive/My Drive/Colab Notebooks/data1/999.npy\")[0,:]\n",
        "# input_result=jnp.log(raw_input_result)\n",
        "x_train=input_data[0:800].reshape(800,-1)\n",
        "y_train=input_result[0:800,:]\n",
        "x_validate=input_data[800:900,0].reshape(100,-1)\n",
        "y_validate=input_result[800:900,:]"
      ]
    },
    {
      "cell_type": "code",
      "execution_count": 13,
      "metadata": {
        "id": "XBEEkIgktmtw",
        "colab": {
          "base_uri": "https://localhost:8080/",
          "height": 1000
        },
        "outputId": "856bd8c7-2f72-4434-b17c-478f45ddb12a"
      },
      "outputs": [
        {
          "output_type": "stream",
          "name": "stdout",
          "text": [
            "1000 0.003437503\n",
            "2000 0.00031985788\n",
            "3000 6.429525e-05\n",
            "4000 1.9827936e-05\n",
            "5000 5.3153685e-06\n",
            "6000 1.800113e-06\n",
            "7000 7.768817e-07\n",
            "8000 4.846007e-07\n",
            "9000 3.5575525e-07\n",
            "10000 2.837342e-07\n",
            "11000 2.2734699e-07\n",
            "12000 1.7771718e-07\n",
            "13000 1.399467e-07\n",
            "14000 1.12797146e-07\n",
            "15000 9.4380475e-08\n",
            "16000 8.2693184e-08\n",
            "17000 7.49277e-08\n",
            "18000 6.885361e-08\n",
            "19000 6.3590115e-08\n",
            "20000 5.8891768e-08\n",
            "21000 5.4407867e-08\n",
            "22000 5.0345577e-08\n",
            "23000 4.6490026e-08\n",
            "24000 4.284882e-08\n",
            "25000 3.9492605e-08\n",
            "26000 3.640432e-08\n",
            "27000 3.357575e-08\n",
            "28000 3.102931e-08\n",
            "29000 2.8645747e-08\n",
            "30000 2.6501118e-08\n",
            "31000 2.4669324e-08\n",
            "32000 2.3145075e-08\n",
            "33000 2.1735984e-08\n",
            "34000 2.0432076e-08\n",
            "35000 1.9247286e-08\n",
            "36000 1.8093735e-08\n",
            "37000 1.707489e-08\n",
            "38000 1.6165101e-08\n",
            "39000 1.5313836e-08\n",
            "40000 1.4593407e-08\n",
            "41000 1.39011025e-08\n",
            "42000 1.3337033e-08\n",
            "43000 1.2844691e-08\n",
            "44000 1.23888295e-08\n",
            "45000 1.18973364e-08\n",
            "46000 1.1432391e-08\n",
            "47000 1.0986282e-08\n",
            "48000 1.0516804e-08\n",
            "49000 1.0062746e-08\n",
            "50000 9.639464e-09\n",
            "51000 9.222181e-09\n",
            "52000 8.8583e-09\n",
            "53000 8.4935525e-09\n",
            "54000 8.15907e-09\n",
            "55000 7.827408e-09\n",
            "56000 7.549648e-09\n",
            "57000 7.2716904e-09\n",
            "58000 7.0220003e-09\n",
            "59000 6.784039e-09\n",
            "60000 6.5789645e-09\n",
            "61000 6.3855006e-09\n",
            "62000 6.205987e-09\n",
            "63000 6.0381704e-09\n",
            "64000 5.897523e-09\n",
            "65000 5.7623097e-09\n",
            "66000 5.6432623e-09\n",
            "67000 5.3622546e-09\n",
            "68000 5.0913807e-09\n",
            "69000 4.9488493e-09\n",
            "70000 4.8482933e-09\n",
            "71000 4.7493973e-09\n",
            "72000 4.66351e-09\n",
            "73000 4.5799737e-09\n",
            "74000 4.521037e-09\n",
            "75000 4.460792e-09\n",
            "76000 4.3840487e-09\n",
            "77000 4.3357624e-09\n",
            "78000 4.2662918e-09\n",
            "79000 4.2237716e-09\n",
            "80000 4.1477604e-09\n",
            "81000 4.0910844e-09\n",
            "82000 4.0287946e-09\n",
            "83000 3.9620205e-09\n",
            "84000 3.8958636e-09\n",
            "85000 3.8367096e-09\n",
            "86000 3.770429e-09\n",
            "87000 3.7063579e-09\n",
            "88000 3.6450147e-09\n",
            "89000 3.5969066e-09\n",
            "90000 3.537056e-09\n",
            "91000 3.47859e-09\n",
            "92000 3.415544e-09\n",
            "93000 3.3616456e-09\n",
            "94000 3.3047602e-09\n",
            "95000 3.2526377e-09\n",
            "96000 3.1844307e-09\n",
            "97000 3.1251663e-09\n",
            "98000 3.0686191e-09\n",
            "99000 3.0073548e-09\n",
            "100000 2.945129e-09\n",
            "101000 2.903633e-09\n",
            "102000 2.8483702e-09\n",
            "103000 2.8078466e-09\n",
            "104000 2.7509e-09\n",
            "105000 2.708876e-09\n",
            "106000 2.6705345e-09\n",
            "107000 2.632285e-09\n",
            "108000 2.5719438e-09\n",
            "109000 2.549188e-09\n",
            "110000 2.4848572e-09\n",
            "111000 2.4531914e-09\n",
            "112000 2.4198161e-09\n",
            "113000 2.3737592e-09\n",
            "114000 2.3407332e-09\n",
            "115000 2.2758508e-09\n",
            "116000 2.2577982e-09\n",
            "117000 2.2254938e-09\n",
            "118000 2.1922197e-09\n",
            "119000 2.1586242e-09\n",
            "120000 2.0991024e-09\n",
            "121000 2.0665227e-09\n",
            "122000 2.02346e-09\n",
            "123000 2.0242545e-09\n",
            "124000 1.9984718e-09\n",
            "125000 1.9363853e-09\n",
            "126000 1.9050446e-09\n",
            "127000 1.8769468e-09\n",
            "128000 1.8557161e-09\n",
            "129000 1.8357212e-09\n",
            "130000 1.8214411e-09\n",
            "131000 1.800944e-09\n",
            "132000 1.772579e-09\n",
            "133000 1.6886431e-09\n",
            "134000 1.6675684e-09\n",
            "135000 1.7013578e-09\n",
            "136000 1.6212396e-09\n",
            "137000 1.5967053e-09\n",
            "138000 1.6007602e-09\n",
            "139000 1.5400387e-09\n",
            "140000 1.5505378e-09\n",
            "141000 1.5327299e-09\n",
            "142000 1.5035948e-09\n",
            "143000 1.4456568e-09\n",
            "144000 1.4493986e-09\n",
            "145000 1.438695e-09\n",
            "146000 1.3789013e-09\n",
            "147000 1.3862091e-09\n",
            "148000 1.388027e-09\n",
            "149000 1.3362261e-09\n",
            "150000 1.3491089e-09\n",
            "151000 1.3458398e-09\n",
            "152000 1.2986129e-09\n",
            "153000 1.3143963e-09\n",
            "154000 1.2956823e-09\n",
            "155000 1.3028949e-09\n",
            "156000 1.3098764e-09\n",
            "157000 1.3173541e-09\n",
            "158000 1.3225511e-09\n",
            "159000 1.3274851e-09\n",
            "160000 1.3351849e-09\n",
            "161000 1.3355017e-09\n",
            "162000 1.3395862e-09\n",
            "163000 1.3437242e-09\n",
            "164000 1.3440712e-09\n",
            "165000 1.3441649e-09\n",
            "166000 1.3472818e-09\n",
            "167000 1.3484154e-09\n",
            "168000 1.3501318e-09\n",
            "169000 1.3520335e-09\n",
            "170000 1.3500411e-09\n",
            "171000 1.351419e-09\n",
            "172000 1.3532562e-09\n",
            "173000 1.3505319e-09\n",
            "174000 1.3505206e-09\n",
            "175000 1.3517544e-09\n",
            "176000 1.3586902e-09\n",
            "177000 1.3562791e-09\n",
            "178000 1.3491762e-09\n",
            "179000 1.3369705e-09\n",
            "180000 1.3166177e-09\n",
            "181000 1.3034054e-09\n",
            "182000 1.2831742e-09\n",
            "183000 1.2649514e-09\n",
            "184000 1.2417121e-09\n",
            "185000 1.224664e-09\n",
            "186000 1.2101554e-09\n",
            "187000 1.1873276e-09\n",
            "188000 1.1697379e-09\n",
            "189000 1.1483579e-09\n",
            "190000 1.1301027e-09\n",
            "191000 1.1136645e-09\n",
            "192000 1.0888788e-09\n",
            "193000 1.0721013e-09\n",
            "194000 1.0520845e-09\n",
            "195000 1.0359327e-09\n",
            "196000 1.0169989e-09\n",
            "197000 1.0011593e-09\n",
            "198000 9.864951e-10\n",
            "199000 9.696187e-10\n",
            "200000 9.561644e-10\n",
            "Training ended\n"
          ]
        },
        {
          "output_type": "display_data",
          "data": {
            "text/plain": [
              "<Figure size 432x288 with 1 Axes>"
            ],
            "image/png": "[encoded data removed]"
          },
          "metadata": {
            "needs_background": "light"
          }
        }
      ],
      "source": [
        "order=jnp.arange(800)\n",
        "for i in range(epochs):\n",
        "    train_loss,params=epoch_step(x_train,y_train,params,opt_state,order,a)\n",
        "    if i % 1000 == 999:\n",
        "        train_loss=train_loss/25\n",
        "        validate_loss=mse_loss(params,x_validate,y_validate,a)\n",
        "        print((i+1),validate_loss)\n",
        "        plt.scatter((i+1),train_loss,c='b')\n",
        "        plt.scatter((i+1),validate_loss,c='g')\n",
        "print(\"Training ended\")\n",
        "state=train_state.TrainState.create(apply_fn=model.apply,params=params,tx=tx)\n",
        "checkpoints.save_checkpoint(ckpt_dir=\"/content/drive/My Drive/Colab Notebooks\",target=state,step=0,overwrite=True)\n",
        "plt.yscale('log')\n",
        "plt.xlabel(\"Epoch\")\n",
        "plt.ylabel(\"Loss\")\n",
        "plt.title(\"Loss function\")\n",
        "plt.legend([\"Training Loss\",\"Validation Loss\"])\n",
        "plt.savefig(\"/content/drive/My Drive/Colab Notebooks/loss.png\")"
      ]
    },
    {
      "cell_type": "code",
      "execution_count": 14,
      "metadata": {
        "id": "h4lHuAF6tpcK",
        "colab": {
          "base_uri": "https://localhost:8080/",
          "height": 508
        },
        "outputId": "06744166-5752-487a-b5c9-74561a96e1bf"
      },
      "outputs": [
        {
          "output_type": "stream",
          "name": "stdout",
          "text": [
            "[[1.14873954e-04 1.19098928e-04 1.23479302e-04 ... 9.50610518e-01\n",
            "  9.75030243e-01 9.99910474e-01]\n",
            " [1.32823639e-04 1.37708819e-04 1.42773642e-04 ... 9.64904308e-01\n",
            "  9.82851267e-01 9.99995232e-01]\n",
            " [1.22703234e-04 1.27216175e-04 1.31895082e-04 ... 9.58123326e-01\n",
            "  9.78963614e-01 9.99981463e-01]\n",
            " ...\n",
            " [1.23722581e-04 1.28273023e-04 1.32990797e-04 ... 9.58887935e-01\n",
            "  9.79388237e-01 9.99960363e-01]\n",
            " [1.16822295e-04 1.21118952e-04 1.25573657e-04 ... 9.53041077e-01\n",
            "  9.76781189e-01 1.00007653e+00]\n",
            " [1.67978622e-04 1.74156725e-04 1.80562085e-04 ... 9.78901148e-01\n",
            "  9.89713073e-01 9.99615371e-01]]\n"
          ]
        },
        {
          "output_type": "display_data",
          "data": {
            "text/plain": [
              "<Figure size 432x288 with 1 Axes>"
            ],
            "image/png": "[encoded data removed]"
          },
          "metadata": {
            "needs_background": "light"
          }
        },
        {
          "output_type": "stream",
          "name": "stdout",
          "text": [
            "Max error = 0.19356012 %\n"
          ]
        }
      ],
      "source": [
        "x_test=input_data[900:1000,0].reshape(100,-1)\n",
        "y_test=input_result[900:1000,:]\n",
        "y_pred=eval_func(params,x_test,a)\n",
        "print(y_pred)\n",
        "plt.plot(a,y_pred[0,:],c='b')\n",
        "plt.plot(a,y_test[0,:],c='g')\n",
        "plt.show()\n",
        "error=abs(y_pred/y_test-1)\n",
        "print(\"Max error =\",jnp.max(error)*100,\"%\")"
      ]
    }
  ],
  "metadata": {
    "accelerator": "GPU",
    "colab": {
      "collapsed_sections": [],
      "name": "bsplinetrainer.ipynb",
      "provenance": [],
      "authorship_tag": "ABX9TyOGWGaxkB87mTRKaBU3teyt",
      "include_colab_link": true
    },
    "gpuClass": "standard",
    "kernelspec": {
      "display_name": "Python 3",
      "name": "python3"
    },
    "language_info": {
      "name": "python"
    }
  },
  "nbformat": 4,
  "nbformat_minor": 0
}