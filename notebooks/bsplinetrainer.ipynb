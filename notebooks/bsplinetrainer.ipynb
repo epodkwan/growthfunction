{
  "cells": [
    {
      "cell_type": "markdown",
      "metadata": {
        "id": "view-in-github",
        "colab_type": "text"
      },
      "source": [
        "<a href=\"https://colab.research.google.com/github/epodkwan/growthfunction/blob/main/notebooks/bsplinetrainer.ipynb\" target=\"_parent\"><img src=\"https://colab.research.google.com/assets/colab-badge.svg\" alt=\"Open In Colab\"/></a>"
      ]
    },
    {
      "cell_type": "code",
      "execution_count": 1,
      "metadata": {
        "colab": {
          "base_uri": "https://localhost:8080/"
        },
        "id": "OgZPjwP-NEwE",
        "outputId": "3182d0e1-e188-45b3-fe54-f5f497329370"
      },
      "outputs": [
        {
          "output_type": "stream",
          "name": "stdout",
          "text": [
            "Looking in indexes: https://pypi.org/simple, https://us-python.pkg.dev/colab-wheels/public/simple/\n",
            "Collecting flax\n",
            "  Downloading flax-0.6.0-py3-none-any.whl (180 kB)\n",
            "\u001b[K     |████████████████████████████████| 180 kB 5.1 MB/s \n",
            "\u001b[?25hRequirement already satisfied: jax>=0.3.16 in /usr/local/lib/python3.7/dist-packages (from flax) (0.3.17)\n",
            "Collecting rich~=11.1\n",
            "  Downloading rich-11.2.0-py3-none-any.whl (217 kB)\n",
            "\u001b[K     |████████████████████████████████| 217 kB 62.2 MB/s \n",
            "\u001b[?25hRequirement already satisfied: matplotlib in /usr/local/lib/python3.7/dist-packages (from flax) (3.2.2)\n",
            "Requirement already satisfied: typing-extensions>=4.1.1 in /usr/local/lib/python3.7/dist-packages (from flax) (4.1.1)\n",
            "Requirement already satisfied: msgpack in /usr/local/lib/python3.7/dist-packages (from flax) (1.0.4)\n",
            "Requirement already satisfied: numpy>=1.12 in /usr/local/lib/python3.7/dist-packages (from flax) (1.21.6)\n",
            "Collecting optax\n",
            "  Downloading optax-0.1.3-py3-none-any.whl (145 kB)\n",
            "\u001b[K     |████████████████████████████████| 145 kB 61.6 MB/s \n",
            "\u001b[?25hRequirement already satisfied: PyYAML>=5.4.1 in /usr/local/lib/python3.7/dist-packages (from flax) (6.0)\n",
            "Requirement already satisfied: etils[epath] in /usr/local/lib/python3.7/dist-packages (from jax>=0.3.16->flax) (0.7.1)\n",
            "Requirement already satisfied: opt-einsum in /usr/local/lib/python3.7/dist-packages (from jax>=0.3.16->flax) (3.3.0)\n",
            "Requirement already satisfied: absl-py in /usr/local/lib/python3.7/dist-packages (from jax>=0.3.16->flax) (1.2.0)\n",
            "Requirement already satisfied: scipy>=1.5 in /usr/local/lib/python3.7/dist-packages (from jax>=0.3.16->flax) (1.7.3)\n",
            "Requirement already satisfied: pygments<3.0.0,>=2.6.0 in /usr/local/lib/python3.7/dist-packages (from rich~=11.1->flax) (2.6.1)\n",
            "Collecting colorama<0.5.0,>=0.4.0\n",
            "  Downloading colorama-0.4.5-py2.py3-none-any.whl (16 kB)\n",
            "Collecting commonmark<0.10.0,>=0.9.0\n",
            "  Downloading commonmark-0.9.1-py2.py3-none-any.whl (51 kB)\n",
            "\u001b[K     |████████████████████████████████| 51 kB 7.6 MB/s \n",
            "\u001b[?25hRequirement already satisfied: zipp in /usr/local/lib/python3.7/dist-packages (from etils[epath]->jax>=0.3.16->flax) (3.8.1)\n",
            "Requirement already satisfied: importlib_resources in /usr/local/lib/python3.7/dist-packages (from etils[epath]->jax>=0.3.16->flax) (5.9.0)\n",
            "Requirement already satisfied: kiwisolver>=1.0.1 in /usr/local/lib/python3.7/dist-packages (from matplotlib->flax) (1.4.4)\n",
            "Requirement already satisfied: cycler>=0.10 in /usr/local/lib/python3.7/dist-packages (from matplotlib->flax) (0.11.0)\n",
            "Requirement already satisfied: python-dateutil>=2.1 in /usr/local/lib/python3.7/dist-packages (from matplotlib->flax) (2.8.2)\n",
            "Requirement already satisfied: pyparsing!=2.0.4,!=2.1.2,!=2.1.6,>=2.0.1 in /usr/local/lib/python3.7/dist-packages (from matplotlib->flax) (3.0.9)\n",
            "Requirement already satisfied: six>=1.5 in /usr/local/lib/python3.7/dist-packages (from python-dateutil>=2.1->matplotlib->flax) (1.15.0)\n",
            "Requirement already satisfied: jaxlib>=0.1.37 in /usr/local/lib/python3.7/dist-packages (from optax->flax) (0.3.15+cuda11.cudnn805)\n",
            "Collecting chex>=0.0.4\n",
            "  Downloading chex-0.1.4-py3-none-any.whl (76 kB)\n",
            "\u001b[K     |████████████████████████████████| 76 kB 6.2 MB/s \n",
            "\u001b[?25hRequirement already satisfied: dm-tree>=0.1.5 in /usr/local/lib/python3.7/dist-packages (from chex>=0.0.4->optax->flax) (0.1.7)\n",
            "Requirement already satisfied: toolz>=0.9.0 in /usr/local/lib/python3.7/dist-packages (from chex>=0.0.4->optax->flax) (0.12.0)\n",
            "Installing collected packages: commonmark, colorama, chex, rich, optax, flax\n",
            "Successfully installed chex-0.1.4 colorama-0.4.5 commonmark-0.9.1 flax-0.6.0 optax-0.1.3 rich-11.2.0\n"
          ]
        }
      ],
      "source": [
        "!pip install flax"
      ]
    },
    {
      "cell_type": "code",
      "execution_count": 2,
      "metadata": {
        "id": "GXP7APTktM23",
        "colab": {
          "base_uri": "https://localhost:8080/"
        },
        "outputId": "1dca0c41-c43a-4c0e-a284-37cc1334e703"
      },
      "outputs": [
        {
          "output_type": "stream",
          "name": "stderr",
          "text": [
            "WARNING:absl:GlobalAsyncCheckpointManager is not imported correctly. Checkpointing of GlobalDeviceArrays will not be available.To use the feature, install tensorstore.\n"
          ]
        }
      ],
      "source": [
        "from functools import partial\n",
        "import sys, os\n",
        "\n",
        "os.environ['TF_CPP_MIN_LOG_LEVEL']='3'\n",
        "os.environ['XLA_PYTHON_CLIENT_PREALLOCATE']='false'\n",
        "\n",
        "sys.path.append('/content/drive/MyDrive/Colab Notebooks/growth/')\n",
        "from conf import Configuration\n",
        "from cosmology import Cosmology, SimpleLCDM, growth_integ\n",
        "from growth_mlp import Growth_MLP\n",
        "\n",
        "from typing import Sequence\n",
        "import random\n",
        "import statistics\n",
        "import jax\n",
        "import optax\n",
        "import numpy as np\n",
        "import jax.numpy as jnp\n",
        "from jax import jit, vmap, grad\n",
        "from flax import linen as nn\n",
        "from flax.training import train_state, checkpoints\n",
        "import matplotlib.pyplot as plt"
      ]
    },
    {
      "cell_type": "code",
      "execution_count": 3,
      "metadata": {
        "id": "seVyHnrBtU9a"
      },
      "outputs": [],
      "source": [
        "def npy_loader(path):\n",
        "    return jnp.load(path)"
      ]
    },
    {
      "cell_type": "code",
      "execution_count": 4,
      "metadata": {
        "id": "Wsb6hTLBtacv"
      },
      "outputs": [],
      "source": [
        "class SimpleMLP(nn.Module):\n",
        "    features:Sequence[int]\n",
        "    nodes:int\n",
        "\n",
        "    @nn.compact\n",
        "    def __call__(self, inputs):\n",
        "        x=inputs\n",
        "        for feat in self.features:\n",
        "            x=nn.Dense(feat)(x)\n",
        "            x=nn.elu(x)\n",
        "        t=nn.Dense(nodes-2)(nn.elu(nn.Dense(64)(x)))\n",
        "        c=nn.Dense(nodes+1)(nn.elu(nn.Dense(64)(x)))\n",
        "        t=jnp.concatenate([jnp.zeros((t.shape[0], 4)), jnp.cumsum(jax.nn.softmax(t), axis=1), jnp.ones((t.shape[0], 4))], axis=1)\n",
        "        c=jnp.concatenate([jnp.zeros((c.shape[0], 1)), c], axis=1)\n",
        "        return t, c"
      ]
    },
    {
      "cell_type": "code",
      "execution_count": 5,
      "metadata": {
        "id": "04vwJv7pMgwz"
      },
      "outputs": [],
      "source": [
        "@jit\n",
        "def _deBoorVectorized(x, t, c):\n",
        "    p=3\n",
        "    k=jnp.digitize(x, t)-1\n",
        "    d=[c[j+k-p] for j in range(0, p+1)]\n",
        "    for r in range(1, p+1):\n",
        "        for j in range(p, r-1, -1):\n",
        "            alpha=(x-t[j+k-p])/(t[j+1+k-r]-t[j+k-p])\n",
        "            d[j]=(1.0-alpha)*d[j-1]+alpha*d[j]\n",
        "    return d[p]\n",
        "\n",
        "deBoor=vmap(_deBoorVectorized, in_axes=(None, 0, 0))"
      ]
    },
    {
      "cell_type": "code",
      "execution_count": 6,
      "metadata": {
        "id": "fGSxL7n_Y6LA"
      },
      "outputs": [],
      "source": [
        "@jit\n",
        "def eval_func(params, x, a):\n",
        "    t, c=model.apply(params, x)\n",
        "    preds=deBoor(jnp.clip(a, 0, 0.99999), t, c)\n",
        "    return preds"
      ]
    },
    {
      "cell_type": "code",
      "execution_count": 7,
      "metadata": {
        "id": "rgmBVdmE_Ztq"
      },
      "outputs": [],
      "source": [
        "@jit\n",
        "def D(a, cosmo):\n",
        "    conf=cosmo.conf \n",
        "    a=jnp.asarray(a, dtype=conf.cosmo_dtype)\n",
        "    D=a * jnp.interp(a, conf.growth_a, cosmo.growth[1][1])\n",
        "    D1=1 * jnp.interp(1., conf.growth_a, cosmo.growth[1][1])\n",
        "    return D/D1"
      ]
    },
    {
      "cell_type": "code",
      "execution_count": 8,
      "metadata": {
        "id": "YfugSlbNL4DQ"
      },
      "outputs": [],
      "source": [
        "@jit\n",
        "def objective_a(params, conf, a_test):\n",
        "    omegam, omegak, w0, wa=params\n",
        "    cosmo=SimpleLCDM(conf, Omega_m=omegam, Omega_k=omegak, w_0=w0, w_a=wa)\n",
        "    cosmo=growth_integ(cosmo)\n",
        "    obj=D(jnp.asarray(a_test), cosmo)\n",
        "    return obj"
      ]
    },
    {
      "cell_type": "code",
      "execution_count": 9,
      "metadata": {
        "id": "3OreC_-2L6le"
      },
      "outputs": [],
      "source": [
        "obj_grad_a=jit(grad(objective_a, argnums=(0)))\n",
        "vmap_obj_grad_a=vmap(obj_grad_a, in_axes=(None, None, 0))\n",
        "nc=32\n",
        "cell_size=8\n",
        "growth_anum=512\n",
        "conf=Configuration(cell_size=cell_size, mesh_shape=(nc, )*3, growth_anum=growth_anum)\n",
        "layer_sizes=[256]\n",
        "nodes=8\n",
        "learning_rate=1e-5\n",
        "epochs=50000\n",
        "model=SimpleMLP(features=layer_sizes, nodes=nodes)\n",
        "temp=jnp.array([[1]])\n",
        "params=model.init(jax.random.PRNGKey(0), temp)\n",
        "tx=optax.adam(learning_rate=learning_rate)\n",
        "opt_state=tx.init(params)\n",
        "target=111"
      ]
    },
    {
      "cell_type": "code",
      "execution_count": 10,
      "metadata": {
        "id": "Q4ETnEgYtiz4"
      },
      "outputs": [],
      "source": [
        "@jit\n",
        "def mse_loss(params, x, y_ref, a):\n",
        "    preds=eval_func(params, x, a)\n",
        "    diff=preds-y_ref\n",
        "    return jnp.mean(diff*diff)"
      ]
    },
    {
      "cell_type": "code",
      "execution_count": 11,
      "metadata": {
        "id": "5KYoOW_TtkmZ"
      },
      "outputs": [],
      "source": [
        "@jit\n",
        "def train_step(opt_state, params, x, y_ref, a):\n",
        "    loss, grads=jax.value_and_grad(mse_loss, argnums=0)(params, x, y_ref, a)\n",
        "    updates, opt_state=tx.update(grads, opt_state)\n",
        "    params=optax.apply_updates(params, updates)\n",
        "    return loss, params, opt_state"
      ]
    },
    {
      "cell_type": "code",
      "execution_count": 12,
      "metadata": {
        "id": "w5SOhOLwaCFU"
      },
      "outputs": [],
      "source": [
        "@jit\n",
        "def epoch_step(x_train, y_train, params, opt_state, order, a):\n",
        "    order=jax.random.permutation(jax.random.PRNGKey(i), order)\n",
        "    train_loss=0\n",
        "    for j in range(25):\n",
        "        x_batch=x_train[order[32*j:32*(j+1)], :]\n",
        "        y_batch=y_train[order[32*j:32*(j+1)], :]\n",
        "        loss, params, opt_state=train_step(opt_state, params, x_batch, y_batch, a)\n",
        "        train_loss=train_loss+loss\n",
        "    return train_loss, params"
      ]
    },
    {
      "cell_type": "code",
      "execution_count": 13,
      "metadata": {
        "colab": {
          "base_uri": "https://localhost:8080/"
        },
        "id": "kspaBRb5xVKq",
        "outputId": "ff1770a5-8797-4375-bbd4-e1021ffba4ac"
      },
      "outputs": [
        {
          "output_type": "stream",
          "name": "stdout",
          "text": [
            "Drive already mounted at /content/drive/; to attempt to forcibly remount, call drive.mount(\"/content/drive/\", force_remount=True).\n"
          ]
        }
      ],
      "source": [
        "from google.colab import drive\n",
        "drive.mount('/content/drive/')\n",
        "os.chdir(\"/content/drive/My Drive/Colab Notebooks/\")"
      ]
    },
    {
      "cell_type": "code",
      "execution_count": 14,
      "metadata": {
        "id": "uaH8AxCAtXHD"
      },
      "outputs": [],
      "source": [
        "input_data=npy_loader(\"./lindata\"+str(target)+\"/cosmo.npy\")\n",
        "input_result=npy_loader(\"./lindata\"+str(target)+\"/combined.npy\")\n",
        "a=npy_loader(\"./lindata\"+str(target)+\"/999.npy\")[0, :]\n",
        "# input_result=jnp.log(raw_input_result)\n",
        "x_train=input_data[0:800].reshape(800, -1)\n",
        "y_train=input_result[0:800, :]\n",
        "x_validate=input_data[800:900, 0].reshape(100, -1)\n",
        "y_validate=input_result[800:900, :]"
      ]
    },
    {
      "cell_type": "code",
      "execution_count": 15,
      "metadata": {
        "colab": {
          "base_uri": "https://localhost:8080/",
          "height": 1000
        },
        "id": "XBEEkIgktmtw",
        "outputId": "46f51443-cfe9-4db0-f5a9-eea68ab0a432"
      },
      "outputs": [
        {
          "output_type": "stream",
          "name": "stdout",
          "text": [
            "100 2.283092932568014e-06\n",
            "200 1.1109601317936408e-06\n",
            "300 7.704569374183606e-07\n",
            "400 6.779681671241856e-07\n",
            "500 6.080126206917994e-07\n",
            "600 5.577957560201147e-07\n",
            "700 5.402474816625052e-07\n",
            "800 5.759491904391385e-07\n",
            "900 5.427058692076749e-07\n",
            "1000 5.148918168979313e-07\n",
            "1100 4.947319666779152e-07\n",
            "1200 4.5993710664830347e-07\n",
            "1300 4.800007325460662e-07\n",
            "1400 4.377056275527706e-07\n",
            "1500 4.853457783594641e-07\n",
            "1600 4.565788138258068e-07\n",
            "1700 4.5074185155437053e-07\n",
            "1800 4.5136265648589493e-07\n",
            "1900 4.6570432494322906e-07\n",
            "2000 4.6976991251740357e-07\n",
            "2100 3.931275895427283e-07\n",
            "2200 4.2181039796704825e-07\n",
            "2300 4.827467939079543e-07\n",
            "2400 4.290479219014339e-07\n",
            "2500 4.1939779262957677e-07\n",
            "2600 4.1195264526795325e-07\n",
            "2700 4.5921554519438733e-07\n",
            "2800 3.883614195079643e-07\n",
            "2900 4.0019203283386947e-07\n",
            "3000 4.2455417676037103e-07\n",
            "3100 3.8160340384265594e-07\n",
            "3200 3.804907522908174e-07\n",
            "3300 3.763261284994017e-07\n",
            "3400 3.37042498845647e-07\n",
            "3500 3.3767431283661826e-07\n",
            "3600 3.373011510004893e-07\n",
            "3700 3.090526186487777e-07\n",
            "3800 3.4423406004265517e-07\n",
            "3900 2.872027714364989e-07\n",
            "4000 3.183368673611251e-07\n",
            "4100 3.5222136255951357e-07\n",
            "4200 3.5994708316080184e-07\n",
            "4300 3.3823474892866966e-07\n",
            "4400 2.9759752160727294e-07\n",
            "4500 2.879776490660273e-07\n",
            "4600 2.5565177049851563e-07\n",
            "4700 2.714560443816814e-07\n",
            "4800 3.7916369926352755e-07\n",
            "4900 3.038813705142051e-07\n",
            "5000 2.497171113930377e-07\n",
            "5100 3.0301609598444937e-07\n",
            "5200 2.9640453929385244e-07\n",
            "5300 2.0921260489372056e-07\n",
            "5400 2.965851057519538e-07\n",
            "5500 2.794426258946116e-07\n",
            "5600 2.280230186541969e-07\n",
            "5700 2.6845381569470844e-07\n",
            "5800 2.1009780357071987e-07\n",
            "5900 2.3419644545068266e-07\n",
            "6000 2.03670066447464e-07\n",
            "6100 2.4488714975395774e-07\n",
            "6200 1.7737031449836735e-07\n",
            "6300 2.141627267376593e-07\n",
            "6400 2.2949995915699906e-07\n",
            "6500 2.501586604521592e-07\n",
            "6600 1.592272328917031e-07\n",
            "6700 2.124962070334724e-07\n",
            "6800 1.798740447056401e-07\n",
            "6900 1.9388305177105713e-07\n",
            "7000 1.395897789384911e-07\n",
            "7100 2.0395023759918678e-07\n",
            "7200 1.4960427709600202e-07\n",
            "7300 1.8461899977326203e-07\n",
            "7400 1.966797952646913e-07\n",
            "7500 2.063934162397801e-07\n",
            "7600 1.6851707718065907e-07\n",
            "7700 1.7065544356921457e-07\n",
            "7800 1.734028515139767e-07\n",
            "7900 1.7392822729789548e-07\n",
            "8000 1.5599943971218623e-07\n",
            "8100 1.3194448693043512e-07\n",
            "8200 1.4323533674316482e-07\n",
            "8300 1.4607825795013988e-07\n",
            "8400 1.5122125264608022e-07\n",
            "8500 1.9300730021513534e-07\n",
            "8600 1.3699467262520888e-07\n",
            "8700 1.45537483597221e-07\n",
            "8800 1.176718699853552e-07\n",
            "8900 1.910753497465926e-07\n",
            "9000 2.031743939725042e-07\n",
            "9100 1.0524684852563405e-07\n",
            "9200 1.4011274638323483e-07\n",
            "9300 1.5396764256147997e-07\n",
            "9400 1.3995849887260743e-07\n",
            "9500 1.3977283223291745e-07\n",
            "9600 1.8169423914746955e-07\n",
            "9700 1.8586046575601104e-07\n",
            "9800 9.597012346607592e-08\n",
            "9900 1.8002107428740624e-07\n",
            "10000 1.280241431436052e-07\n",
            "10100 1.310665052185197e-07\n",
            "10200 1.3700148958721853e-07\n",
            "10300 8.991038779726157e-08\n",
            "10400 1.4294948201920546e-07\n",
            "10500 1.0223012020974683e-07\n",
            "10600 1.6366157448610495e-07\n",
            "10700 1.602038309866293e-07\n",
            "10800 1.4098236020121206e-07\n",
            "10900 1.447235530391303e-07\n",
            "11000 1.3976090824835283e-07\n",
            "11100 1.0310703732794499e-07\n",
            "11200 1.2695388012550265e-07\n",
            "11300 1.524173431544536e-07\n",
            "11400 1.6499859679195132e-07\n",
            "11500 1.4683350940230962e-07\n",
            "11600 8.498500318294476e-08\n",
            "11700 1.364199582239429e-07\n",
            "11800 1.0710619722522207e-07\n",
            "11900 8.966275342755986e-08\n",
            "12000 9.114937195629158e-08\n",
            "12100 1.2680890406096515e-07\n",
            "12200 1.0747786693500813e-07\n",
            "12300 1.0373777625820704e-07\n",
            "12400 1.0272327388267056e-07\n",
            "12500 1.0217829056869434e-07\n",
            "12600 1.015369334745648e-07\n",
            "12700 1.0102653424763725e-07\n",
            "12800 1.0030097422278369e-07\n",
            "12900 9.972709641715305e-08\n",
            "13000 9.917380428596227e-08\n",
            "13100 9.86746973878087e-08\n",
            "13200 7.51703476310809e-08\n",
            "13300 9.98091270305956e-08\n",
            "13400 9.583888980511248e-08\n",
            "13500 9.342845544232416e-08\n",
            "13600 9.438851616631818e-08\n",
            "13700 1.1320815968385268e-07\n",
            "13800 9.254681473705959e-08\n",
            "13900 6.370925744254168e-08\n",
            "14000 9.242721115314462e-08\n",
            "14100 9.019215940137966e-08\n",
            "14200 8.944834223112744e-08\n",
            "14300 8.86617253678018e-08\n",
            "14400 1.2597326950656933e-07\n",
            "14500 1.125429057929538e-07\n",
            "14600 8.920614691103697e-08\n",
            "14700 7.957079454621465e-08\n",
            "14800 7.84624810298816e-08\n",
            "14900 1.1835916515481389e-07\n",
            "15000 6.330478264929341e-08\n",
            "15100 8.455201078029735e-08\n",
            "15200 8.648792401639976e-08\n",
            "15300 5.53275357141859e-08\n",
            "15400 7.213293564652943e-08\n",
            "15500 1.0803486677961679e-07\n",
            "15600 1.0177023772758423e-07\n",
            "15700 1.0190632743340257e-07\n",
            "15800 9.197981697322941e-08\n",
            "15900 9.813327878696117e-08\n",
            "16000 8.452561714024553e-08\n",
            "16100 9.164219514259602e-08\n",
            "16200 8.036988773006173e-08\n",
            "16300 6.183306614248264e-08\n",
            "16400 1.2330385061213765e-07\n",
            "16500 7.43201906973441e-08\n",
            "16600 7.37599577322467e-08\n",
            "16700 7.334726885429043e-08\n",
            "16800 7.373368928959448e-08\n",
            "16900 7.247872458401458e-08\n",
            "17000 7.259643145988947e-08\n",
            "17100 7.381428713756567e-08\n",
            "17200 6.947511522786745e-08\n",
            "17300 5.563949276180061e-08\n",
            "17400 6.851680533157028e-08\n",
            "17500 1.1710613918528862e-07\n",
            "17600 9.494686434746519e-08\n",
            "17700 7.13265159242685e-08\n",
            "17800 6.942489097671786e-08\n",
            "17900 5.529986004537081e-08\n",
            "18000 1.6638529974942798e-07\n",
            "18100 7.803019884819208e-08\n",
            "18200 7.454810314723696e-08\n",
            "18300 1.3245780721062832e-07\n",
            "18400 5.9068677476873406e-08\n",
            "18500 9.791336934015991e-08\n",
            "18600 8.521875027949752e-08\n",
            "18700 1.0607031138061359e-07\n",
            "18800 6.955339349964598e-08\n",
            "18900 6.664629853151807e-08\n",
            "19000 6.77397009669163e-08\n",
            "19100 1.0601502200644028e-07\n",
            "19200 1.0598299110412203e-07\n",
            "19300 5.5903739282585605e-08\n",
            "19400 8.139071985960087e-08\n",
            "19500 9.258309984793892e-08\n",
            "19600 9.712202848925439e-08\n",
            "19700 9.336001975047553e-08\n",
            "19800 9.48519300606067e-08\n",
            "19900 9.948892088608713e-08\n",
            "20000 1.0273122710192222e-07\n",
            "20100 9.62662101288281e-08\n",
            "20200 9.788138479356476e-08\n",
            "20300 9.919996877836018e-08\n",
            "20400 9.939561147989904e-08\n",
            "20500 9.958206512886376e-08\n",
            "20600 9.955900874706314e-08\n",
            "20700 1.0124985723843371e-07\n",
            "20800 1.0111283534585371e-07\n",
            "20900 8.795182252158209e-08\n",
            "21000 9.249474414785065e-08\n",
            "21100 7.727516054233366e-08\n",
            "21200 1.1470211066522208e-07\n",
            "21300 8.699447489173374e-08\n",
            "21400 5.256606827329105e-08\n",
            "21500 7.289790215358526e-08\n",
            "21600 1.1478303854803776e-07\n",
            "21700 4.119934657588728e-08\n",
            "21800 9.398218536033386e-08\n",
            "21900 4.2705127474180355e-08\n",
            "22000 8.552087360798939e-08\n",
            "22100 9.658454882750626e-08\n",
            "22200 7.363224156399361e-08\n",
            "22300 6.595026430600572e-08\n",
            "22400 8.580807310442452e-08\n",
            "22500 4.649242353086554e-08\n",
            "22600 9.882952654251666e-08\n",
            "22700 6.197220643634828e-08\n",
            "22800 1.1139835364223269e-07\n",
            "22900 1.1193717977256092e-07\n",
            "23000 6.928728884061686e-08\n",
            "23100 7.14112976574628e-08\n",
            "23200 1.113040788761285e-07\n",
            "23300 4.791103439255142e-08\n",
            "23400 1.0825308210018948e-07\n",
            "23500 1.0822054993035519e-07\n",
            "23600 1.0825194068960462e-07\n",
            "23700 1.08211366726306e-07\n",
            "23800 1.0808798452059463e-07\n",
            "23900 1.0795442981951881e-07\n",
            "24000 1.0780850697902206e-07\n",
            "24100 1.0760004638708816e-07\n",
            "24200 1.0746518646621457e-07\n",
            "24300 1.073071553574426e-07\n",
            "24400 1.0723197273273666e-07\n",
            "24500 1.0703195280380512e-07\n",
            "24600 5.911773605098382e-08\n",
            "24700 5.08844214007359e-08\n",
            "24800 1.1024418453948889e-07\n",
            "24900 7.543524508603853e-08\n",
            "25000 8.882282336755418e-08\n",
            "25100 6.852417095186802e-08\n",
            "25200 5.571670969923573e-08\n",
            "25300 4.640487623024439e-08\n",
            "25400 1.0816006229583811e-07\n",
            "25500 1.0005301868578748e-07\n",
            "25600 4.415439657849514e-08\n",
            "25700 9.530246454295032e-08\n",
            "25800 1.0878229042686618e-07\n",
            "25900 1.0060575564719185e-07\n",
            "26000 1.1095103737608386e-07\n",
            "26100 1.0848518456347412e-07\n",
            "26200 4.867874948506486e-08\n",
            "26300 7.862127291288147e-08\n",
            "26400 5.6883321707641785e-08\n",
            "26500 5.835289974243479e-08\n",
            "26600 5.878350226434478e-08\n",
            "26700 5.661749333999822e-08\n",
            "26800 6.355132323195677e-08\n",
            "26900 5.8059444843437716e-08\n",
            "27000 5.865889187649522e-08\n",
            "27100 5.06063347907729e-08\n",
            "27200 8.537252244767326e-08\n",
            "27300 8.87367297005907e-08\n",
            "27400 1.0913977149515333e-07\n",
            "27500 7.768465372851472e-08\n",
            "27600 6.095254637584632e-08\n",
            "27700 5.843740766112748e-08\n",
            "27800 6.727856652578824e-08\n",
            "27900 5.80105301224146e-08\n",
            "28000 9.52151744391924e-08\n",
            "28100 8.712309170342503e-08\n",
            "28200 4.7270843743111196e-08\n",
            "28300 3.558176304023128e-08\n",
            "28400 3.396226337896763e-08\n",
            "28500 1.0753071876549706e-07\n",
            "28600 3.6710493613840175e-08\n",
            "28700 3.453125984249708e-08\n",
            "28800 7.844598111732825e-08\n",
            "28900 7.547495135564658e-08\n",
            "29000 4.994609341282908e-08\n",
            "29100 3.451134871432485e-08\n",
            "29200 4.5545789743026306e-08\n",
            "29300 5.45641590128698e-08\n",
            "29400 4.384963558378261e-08\n",
            "29500 4.80092413452388e-08\n",
            "29600 8.706399827192623e-08\n",
            "29700 4.240029251094029e-08\n",
            "29800 5.928053343427842e-08\n",
            "29900 8.64348699589552e-08\n",
            "30000 8.510235119076789e-08\n",
            "30100 8.349769860927836e-08\n",
            "30200 5.01114462458069e-08\n",
            "30300 6.851838104801811e-08\n",
            "30400 5.5139204895502e-08\n",
            "30500 7.131505505902459e-08\n",
            "30600 9.774475511650421e-08\n",
            "30700 5.0448941006640866e-08\n",
            "30800 5.116415226580915e-08\n",
            "30900 8.099226809796155e-08\n",
            "31000 4.4412114043550104e-08\n",
            "31100 3.61505742283293e-08\n",
            "31200 6.617479155626715e-08\n",
            "31300 8.22302887420241e-08\n",
            "31400 6.88883585598678e-08\n",
            "31500 6.153445777542975e-08\n",
            "31600 9.507291942935975e-08\n",
            "31700 6.705928578086809e-08\n",
            "31800 6.914817820512588e-08\n",
            "31900 9.55144849408602e-08\n",
            "32000 6.315167858317711e-08\n",
            "32100 6.925784193247871e-08\n",
            "32200 6.770984159408568e-08\n",
            "32300 5.8702318440422994e-08\n",
            "32400 5.685151781023338e-08\n",
            "32500 5.7441502979177405e-08\n",
            "32600 5.8548533200140476e-08\n",
            "32700 5.993610940499587e-08\n",
            "32800 5.383283333287141e-08\n",
            "32900 8.40753031047068e-08\n",
            "33000 6.175879327434332e-08\n",
            "33100 5.3410576310739104e-08\n",
            "33200 5.405939399873193e-08\n",
            "33300 5.3416867921463613e-08\n",
            "33400 6.419593950606949e-08\n",
            "33500 6.648162178630951e-08\n",
            "33600 8.120283997338502e-08\n",
            "33700 5.36307641304545e-08\n",
            "33800 7.845510460038287e-08\n",
            "33900 6.218864365635848e-08\n",
            "34000 5.593536026091249e-08\n",
            "34100 5.3582738626849035e-08\n",
            "34200 4.0764375360627934e-08\n",
            "34300 5.1824356639271246e-08\n",
            "34400 4.9888085384369966e-08\n",
            "34500 4.989740336475668e-08\n",
            "34600 6.383535356008262e-08\n",
            "34700 8.33385132050078e-08\n",
            "34800 7.16131294816819e-08\n",
            "34900 7.729094807761161e-08\n",
            "35000 7.637801424792687e-08\n",
            "35100 9.292091656629247e-08\n",
            "35200 6.469159163376971e-08\n",
            "35300 9.171861681619428e-08\n",
            "35400 7.117939288781591e-08\n",
            "35500 8.829605490993157e-08\n",
            "35600 5.8095565987623955e-08\n",
            "35700 7.594055546723824e-08\n",
            "35800 3.752303179427742e-08\n",
            "35900 8.683176662981801e-08\n",
            "36000 8.120385887753184e-08\n",
            "36100 6.449625726473116e-08\n",
            "36200 3.2200269102758014e-08\n",
            "36300 4.9912828084060545e-08\n",
            "36400 8.436969598183562e-08\n",
            "36500 4.1956048764408844e-08\n",
            "36600 5.95481336379537e-08\n",
            "36700 5.2599001430428544e-08\n",
            "36800 5.251208749143279e-08\n",
            "36900 4.939609438638919e-08\n",
            "37000 3.213780670177941e-08\n",
            "37100 6.255202911105942e-08\n",
            "37200 2.6452211391966854e-08\n",
            "37300 6.335386238571748e-08\n",
            "37400 3.118103692687387e-08\n",
            "37500 5.072022646989447e-08\n",
            "37600 4.143891953749942e-08\n",
            "37700 8.78341313478446e-08\n",
            "37800 9.123330753502695e-08\n",
            "37900 3.3604072591369026e-08\n",
            "38000 8.849201863779998e-08\n",
            "38100 5.5421117194237736e-08\n",
            "38200 5.051007846531954e-08\n",
            "38300 8.845229463637511e-08\n",
            "38400 3.528749692286409e-08\n",
            "38500 4.8993577001177914e-08\n",
            "38600 4.039305203883331e-08\n",
            "38700 6.035323855987008e-08\n",
            "38800 8.886477410378103e-08\n",
            "38900 5.825045875974507e-08\n",
            "39000 6.774047611770693e-08\n",
            "39100 7.316222859788961e-08\n",
            "39200 5.1051220090481835e-08\n",
            "39300 5.451967848452712e-08\n",
            "39400 8.358270036475207e-08\n",
            "39500 3.756070401714181e-08\n",
            "39600 3.6963745327873584e-08\n",
            "39700 1.0091520923625905e-07\n",
            "39800 6.884280518951523e-08\n",
            "39900 3.031286197871072e-08\n",
            "40000 4.936655824359042e-08\n",
            "40100 5.8094902650635475e-08\n",
            "40200 6.026054182051742e-08\n",
            "40300 9.702580058344361e-08\n",
            "40400 8.980530190375824e-08\n",
            "40500 6.207157524444259e-08\n",
            "40600 6.287117191913674e-08\n",
            "40700 4.901374353197014e-08\n",
            "40800 8.007068287146551e-08\n",
            "40900 6.941568357943009e-08\n",
            "41000 7.916454873329484e-08\n",
            "41100 3.471341762714057e-08\n",
            "41200 5.5459327015363294e-08\n",
            "41300 5.182779424558889e-08\n",
            "41400 2.7759810619770944e-08\n",
            "41500 7.945669701791147e-08\n",
            "41600 5.013759925350789e-08\n",
            "41700 6.400557951209267e-08\n",
            "41800 5.103542100523464e-08\n",
            "41900 2.7717779833194447e-08\n",
            "42000 4.6229909907939856e-08\n",
            "42100 5.0927142956708324e-08\n",
            "42200 9.54241975198933e-08\n",
            "42300 9.516695481417105e-08\n",
            "42400 6.125250619817091e-08\n",
            "42500 4.558424919740422e-08\n",
            "42600 3.993308981743003e-08\n",
            "42700 4.432236680558354e-08\n",
            "42800 3.311075109001117e-08\n",
            "42900 3.603050192294434e-08\n",
            "43000 1.0481318222206263e-07\n",
            "43100 1.0426926356165812e-07\n",
            "43200 1.0410228158284838e-07\n",
            "43300 1.0479747550960747e-07\n",
            "43400 7.575222546015963e-08\n",
            "43500 3.254454992679856e-08\n",
            "43600 4.328671276632987e-08\n",
            "43700 7.117009946295979e-08\n",
            "43800 3.7183276159990235e-08\n",
            "43900 5.4653658988190655e-08\n",
            "44000 7.340279797523349e-08\n",
            "44100 3.55627384317745e-08\n",
            "44200 4.342894352536195e-08\n",
            "44300 2.6868440935302235e-08\n",
            "44400 5.342366929989168e-08\n",
            "44500 7.27098306762736e-08\n",
            "44600 3.8818842000822066e-08\n",
            "44700 3.618582549376541e-08\n",
            "44800 3.5375474562971816e-08\n",
            "44900 9.633681117846101e-08\n",
            "45000 5.550344576915052e-08\n",
            "45100 6.837504419797384e-08\n",
            "45200 7.144218771510018e-08\n",
            "45300 5.013532323033804e-08\n",
            "45400 3.891724784043814e-08\n",
            "45500 8.334477496578551e-08\n",
            "45600 8.064160348649356e-08\n",
            "45700 7.755253294169066e-08\n",
            "45800 7.971622696897858e-08\n",
            "45900 2.946678624410533e-08\n",
            "46000 5.73055560073787e-08\n",
            "46100 4.3724051326780164e-08\n",
            "46200 4.31388541896661e-08\n",
            "46300 3.4821041910562874e-08\n",
            "46400 7.880212129416705e-08\n",
            "46500 3.962251730961332e-08\n",
            "46600 7.082843711790843e-08\n",
            "46700 6.632809704829748e-08\n",
            "46800 7.480174020804336e-08\n",
            "46900 6.970020060384786e-08\n",
            "47000 7.275853763044621e-08\n",
            "47100 8.110890493374929e-08\n",
            "47200 5.590104618777789e-08\n",
            "47300 5.510277726078503e-08\n",
            "47400 5.406974221011223e-08\n",
            "47500 5.146568340594671e-08\n",
            "47600 5.103020542558133e-08\n",
            "47700 5.068711053105772e-08\n",
            "47800 5.0442715202596354e-08\n",
            "47900 5.275191886254607e-08\n",
            "48000 7.171153407393227e-08\n",
            "48100 7.768469351867277e-08\n",
            "48200 9.254829855561497e-08\n",
            "48300 9.246052735536983e-08\n",
            "48400 9.058214154633623e-08\n",
            "48500 8.887001516938002e-08\n",
            "48600 4.03417595407944e-08\n",
            "48700 8.99346915959118e-08\n",
            "48800 4.4498570634150435e-08\n",
            "48900 3.784380102591893e-08\n",
            "49000 8.877129615550104e-08\n",
            "49100 3.87947504027076e-08\n",
            "49200 9.045955703018682e-08\n",
            "49300 6.965890741398325e-08\n",
            "49400 4.8088616830294343e-08\n",
            "49500 3.02219476044165e-08\n",
            "49600 5.2937622240353506e-08\n",
            "49700 5.7603069601963044e-08\n",
            "49800 4.493664513315427e-08\n",
            "49900 4.386979996376692e-08\n",
            "50000 6.046916553655538e-08\n",
            "Training ended\n"
          ]
        },
        {
          "output_type": "display_data",
          "data": {
            "text/plain": [
              "<Figure size 432x288 with 1 Axes>"
            ],
            "image/png": "[encoded data removed]"
          },
          "metadata": {
            "needs_background": "light"
          }
        }
      ],
      "source": [
        "os.chdir(\"/content/drive/My Drive/Colab Notebooks/elu+newstruct/\")\n",
        "order=jnp.arange(800)\n",
        "for i in range(epochs):\n",
        "    train_loss, params=epoch_step(x_train, y_train, params, opt_state, order, a)\n",
        "    if i % 100 == 99:\n",
        "        train_loss=train_loss/25\n",
        "        validate_loss=mse_loss(params, x_validate, y_validate, a)\n",
        "        print((i+1), validate_loss)\n",
        "        plt.scatter((i+1), train_loss, c='b')\n",
        "        plt.scatter((i+1), validate_loss, c='g')\n",
        "print(\"Training ended\")\n",
        "state=train_state.TrainState.create(apply_fn=model.apply, params=params, tx=tx)\n",
        "checkpoints.save_checkpoint(ckpt_dir=(\"./\"+str(target)+\"/\"), target=state, step=0, overwrite=True)\n",
        "plt.yscale('log')\n",
        "plt.xlabel(\"Epoch\")\n",
        "plt.ylabel(\"Loss\")\n",
        "plt.title(\"Loss function\")\n",
        "plt.legend([\"Training Loss\", \"Validation Loss\"])\n",
        "plt.savefig(\"./\"+str(target)+\"loss.png\")"
      ]
    },
    {
      "cell_type": "code",
      "execution_count": 27,
      "metadata": {
        "id": "uuALbWCBYtRe"
      },
      "outputs": [],
      "source": [
        "params_class={}\n",
        "for order in range(1, 3):\n",
        "    for deriv in range(3):\n",
        "        key=\"{}{}\".format(order, deriv)\n",
        "        params_class[key]=params\n",
        "growth_fn=Growth_MLP(model, params_class)\n",
        "growth_integ_jit=jit(growth_integ)\n",
        "omega_m_test=0.28\n",
        "omega_k_test=0.\n",
        "w_0_test=-1.\n",
        "w_a_test=0.\n",
        "a_test=jnp.linspace(0., 1., 100)\n",
        "epsilon=1e-3"
      ]
    },
    {
      "cell_type": "code",
      "execution_count": 28,
      "metadata": {
        "id": "k0uvMeFTYdb4"
      },
      "outputs": [],
      "source": [
        "@jit\n",
        "def predict(cosmo, a):\n",
        "    return growth_fn(cosmo, a).reshape(-1)[0]"
      ]
    },
    {
      "cell_type": "code",
      "execution_count": 29,
      "metadata": {
        "id": "O1bCgtCqMUdK"
      },
      "outputs": [],
      "source": [
        "@jit\n",
        "def gradient_at(cosmo, a):\n",
        "    value1, gradient=jax.value_and_grad(predict, 0)(jnp.array([cosmo]), a)\n",
        "    return value1, gradient\n",
        "\n",
        "vmap_gradient_at=vmap(gradient_at, in_axes=(None, 0))"
      ]
    },
    {
      "cell_type": "code",
      "execution_count": 30,
      "metadata": {
        "colab": {
          "base_uri": "https://localhost:8080/",
          "height": 417
        },
        "id": "SUbCCT2m6p_q",
        "outputId": "b2613bbe-287c-4e86-d598-8ddaf6d7596b"
      },
      "outputs": [
        {
          "output_type": "stream",
          "name": "stdout",
          "text": [
            "compile growth\n",
            "compile boor\n",
            "compile boor\n",
            "compile growth\n",
            "compile boor\n",
            "compile boor\n"
          ]
        },
        {
          "output_type": "display_data",
          "data": {
            "text/plain": [
              "<Figure size 432x288 with 3 Axes>"
            ],
            "image/png": "[encoded data removed]"
          },
          "metadata": {
            "needs_background": "light"
          }
        }
      ],
      "source": [
        "cosmo_test=SimpleLCDM(conf, Omega_m=omega_m_test, Omega_k=omega_k_test, w_0=w_0_test, w_a=w_a_test)\n",
        "cosmo_test=growth_integ_jit(cosmo_test)\n",
        "d_data=D(a_test, cosmo_test)\n",
        "d_test=growth_fn(jnp.array([[omega_m_test]]), a_test).reshape(-1)/growth_fn(jnp.array([[omega_m_test]]), 1).reshape(-1)\n",
        "discrepancy=(abs(d_test)+epsilon)/(abs(d_data)+epsilon)\n",
        "fig, (ax1, ax2, ax3)=plt.subplots(3, 1, constrained_layout=True)\n",
        "ax1.plot(a_test, d_data, label=\"Reference\")\n",
        "ax1.plot(a_test, d_test, label=\"Fitting\")\n",
        "ax1.set_ylabel(\"D\")\n",
        "ax1.legend()\n",
        "ax1.set_title(\"Value\")\n",
        "ax2.plot(a_test, discrepancy)\n",
        "ax2.set_ylabel(\"Predict/Data\")\n",
        "ax2.ticklabel_format(useOffset=False)\n",
        "ax3.plot(a_test, d_test-d_data)\n",
        "ax3.set_ylabel(\"Difference\")\n",
        "ax3.set_xlabel(\"a\")\n",
        "plt.savefig(\"./\"+str(target)+\"value.png\")"
      ]
    },
    {
      "cell_type": "code",
      "execution_count": 31,
      "metadata": {
        "colab": {
          "base_uri": "https://localhost:8080/",
          "height": 348
        },
        "id": "ari-7kNvmP-_",
        "outputId": "970ded90-8902-4119-e8a8-33692b27cdf5"
      },
      "outputs": [
        {
          "output_type": "stream",
          "name": "stdout",
          "text": [
            "compile growth\n",
            "compile boor\n",
            "compile boor\n"
          ]
        },
        {
          "output_type": "display_data",
          "data": {
            "text/plain": [
              "<Figure size 432x288 with 1 Axes>"
            ],
            "image/png": "[encoded data removed]"
          },
          "metadata": {
            "needs_background": "light"
          }
        }
      ],
      "source": [
        "a_plot=[]\n",
        "med=[]\n",
        "mean_error=[]\n",
        "std=[]\n",
        "for i in range(10):\n",
        "    plt.clf()\n",
        "    temp=[]\n",
        "    for j in range(1000):\n",
        "        d_data=input_result[j, i*28]/input_result[j, -1]\n",
        "        d_test=growth_fn(jnp.array([[input_data[j, 0]]]), a[i*28]).reshape(-1)\n",
        "        temp.append(((abs(d_test)+epsilon)/(abs(d_data)+epsilon)-1).item())\n",
        "        plt.scatter(input_data[j, 0], temp[-1], c='b')\n",
        "    plt.xlabel(\"Omega_m\")\n",
        "    plt.ylabel(\"Fractional Error\")\n",
        "    plt.title(\"Fractional Error of Cosmos (a=\"+str(np.round(a[i*28].item(), 3))+\")\")\n",
        "    plt.savefig(\"./\"+str(target)+\"error\"+str(i)+\".png\")\n",
        "    a_plot.append(a[i*28].item())\n",
        "    med.append(statistics.median(temp))\n",
        "    mean_error.append(statistics.mean(temp))\n",
        "    std.append(statistics.stdev(temp))"
      ]
    },
    {
      "cell_type": "code",
      "execution_count": 32,
      "metadata": {
        "colab": {
          "base_uri": "https://localhost:8080/",
          "height": 330
        },
        "id": "iXtPDjF2Hlmx",
        "outputId": "8479d3ec-74e8-4c2c-d5e1-e2021617312b"
      },
      "outputs": [
        {
          "output_type": "display_data",
          "data": {
            "text/plain": [
              "<Figure size 432x288 with 0 Axes>"
            ]
          },
          "metadata": {}
        },
        {
          "output_type": "display_data",
          "data": {
            "text/plain": [
              "<Figure size 432x288 with 1 Axes>"
            ],
            "image/png": "[encoded data removed]"
          },
          "metadata": {
            "needs_background": "light"
          }
        }
      ],
      "source": [
        "plt.clf()\n",
        "fig, ax=plt.subplots(constrained_layout=True)\n",
        "ax.plot(a_plot, med, label=\"Median\")\n",
        "ax.errorbar(a_plot, mean_error, std, label=\"Mean\")\n",
        "# ax.set_xscale('log')\n",
        "ax.set_xlabel(\"a\")\n",
        "ax.set_ylabel(\"Fractional Error\")\n",
        "ax.set_title(\"Fractional Error\")\n",
        "ax.legend()\n",
        "plt.savefig(\"./\"+str(target)+\"centralerror.png\")"
      ]
    },
    {
      "cell_type": "code",
      "execution_count": 33,
      "metadata": {
        "colab": {
          "base_uri": "https://localhost:8080/",
          "height": 382
        },
        "id": "8NwZwYE5sT1e",
        "outputId": "33b703ed-d2e2-4369-9437-82c19c602a37"
      },
      "outputs": [
        {
          "output_type": "stream",
          "name": "stdout",
          "text": [
            "compile growth\n",
            "compile boor\n",
            "compile boor\n"
          ]
        },
        {
          "output_type": "display_data",
          "data": {
            "text/plain": [
              "<Figure size 432x288 with 0 Axes>"
            ]
          },
          "metadata": {}
        },
        {
          "output_type": "display_data",
          "data": {
            "text/plain": [
              "<Figure size 432x288 with 3 Axes>"
            ],
            "image/png": "[encoded data removed]"
          },
          "metadata": {
            "needs_background": "light"
          }
        }
      ],
      "source": [
        "plt.clf()\n",
        "cosmo_test=[omega_m_test, omega_k_test, w_0_test, w_a_test]\n",
        "value, grad=vmap_gradient_at([omega_m_test], a_test)\n",
        "grad_test=grad\n",
        "grad_ref=vmap_obj_grad_a(cosmo_test, conf, a_test)[0]\n",
        "grad_ref=np.array(grad_ref).reshape(-1)\n",
        "grad_test=np.array(grad_test).reshape(-1)\n",
        "discrepancy=(abs(grad_test)+epsilon)/(abs(grad_ref)+epsilon)\n",
        "fig, (ax1, ax2, ax3)=plt.subplots(3, 1, constrained_layout=True)\n",
        "ax1.plot(a_test, grad_ref, label=\"Reference\")\n",
        "ax1.plot(a_test, grad_test, label=\"Neural Network\")\n",
        "ax1.legend()\n",
        "ax1.set_title(\"Gradient\")\n",
        "ax2.plot(a_test, discrepancy)\n",
        "ax2.set_ylabel(\"Predict/Data\")\n",
        "ax2.ticklabel_format(useOffset=False)\n",
        "ax3.plot(a_test, grad_test-grad_ref)\n",
        "ax3.set_ylabel(\"Difference\")\n",
        "ax3.set_xlabel(\"a\")\n",
        "plt.savefig(\"./\"+str(target)+\"gradient.png\")"
      ]
    },
    {
      "cell_type": "code",
      "source": [
        "max_error_ref=[]\n",
        "max_error_test=[]\n",
        "max_difference_ref=[]\n",
        "max_difference_test=[]\n",
        "for i in range(1000):\n",
        "    value, grad_test=vmap_gradient_at([input_data[i, 0]], a_test)\n",
        "    grad_ref=vmap_obj_grad_a([input_data[i, 0], omega_k_test, w_0_test, w_a_test], conf, a_test)[0]\n",
        "    grad_ref=np.array(grad_ref).reshape(-1)\n",
        "    grad_test=np.array(grad_test).reshape(-1)\n",
        "    error=abs((abs(grad_test)+epsilon)/(abs(grad_ref)+epsilon)-1)\n",
        "    difference=abs(grad_test-grad_ref)\n",
        "    temp=jnp.where(error==jnp.max(error))\n",
        "    max_error_ref.append(grad_ref[temp])\n",
        "    max_error_test.append(grad_test[temp])\n",
        "    temp=jnp.where(difference==jnp.max(difference))\n",
        "    max_difference_ref.append(grad_ref[temp])\n",
        "    max_difference_test.append(grad_test[temp])\n",
        "max_error_ref=np.array(max_error_ref)\n",
        "max_error_test=np.array(max_error_test)\n",
        "max_difference_ref=np.array(max_difference_ref)\n",
        "max_difference_test=np.array(max_difference_test)"
      ],
      "metadata": {
        "colab": {
          "base_uri": "https://localhost:8080/"
        },
        "id": "kCkAzWDZ0dNm",
        "outputId": "582b2548-eff6-4916-f8db-896597676035"
      },
      "execution_count": 34,
      "outputs": [
        {
          "output_type": "stream",
          "name": "stdout",
          "text": [
            "compile growth\n",
            "compile boor\n",
            "compile boor\n"
          ]
        }
      ]
    },
    {
      "cell_type": "code",
      "source": [
        "plt.clf()\n",
        "fig, (ax1, ax2, ax3)=plt.subplots(3, 1, constrained_layout=True)\n",
        "ax1.scatter(input_data[:, 0], (abs(max_error_test)+epsilon)/(abs(max_error_ref)+epsilon)-1)\n",
        "ax1.set_ylabel(\"Fractional Error\")\n",
        "ax1.set_xlim(0.1, 0.5)\n",
        "ax1.set_title(\"Max Error\")\n",
        "ax2.scatter(input_data[:, 0], max_error_test-max_error_ref)\n",
        "ax2.set_ylabel(\"Difference\")\n",
        "ax2.set_xlim(0.1, 0.5)\n",
        "ax3.scatter(input_data[:, 0], max_error_ref)\n",
        "ax3.set_ylabel(\"Gradient\")\n",
        "ax3.set_xlabel(\"Omega_m\")\n",
        "ax3.set_xlim(0.1, 0.5)\n",
        "plt.ticklabel_format(useOffset=False)\n",
        "plt.savefig(\"./\"+str(target)+\"maxerror.png\")"
      ],
      "metadata": {
        "colab": {
          "base_uri": "https://localhost:8080/",
          "height": 330
        },
        "id": "rl-SN8Dd4_Wv",
        "outputId": "e8e8d2db-9a65-4d03-acc8-91aabf820499"
      },
      "execution_count": 35,
      "outputs": [
        {
          "output_type": "display_data",
          "data": {
            "text/plain": [
              "<Figure size 432x288 with 0 Axes>"
            ]
          },
          "metadata": {}
        },
        {
          "output_type": "display_data",
          "data": {
            "text/plain": [
              "<Figure size 432x288 with 3 Axes>"
            ],
            "image/png": "[encoded data removed]"
          },
          "metadata": {
            "needs_background": "light"
          }
        }
      ]
    },
    {
      "cell_type": "code",
      "source": [
        "plt.clf()\n",
        "fig, (ax1, ax2, ax3)=plt.subplots(3, 1, constrained_layout=True)\n",
        "ax1.scatter(input_data[:, 0], max_difference_test-max_difference_ref)\n",
        "ax1.set_ylabel(\"Difference\")\n",
        "ax1.set_xlim(0.1, 0.5)\n",
        "ax1.set_title(\"Max Difference\")\n",
        "ax2.scatter(input_data[:, 0], (abs(max_difference_test)+epsilon)/(abs(max_difference_ref)+epsilon)-1)\n",
        "ax2.set_ylabel(\"Fractional Error\")\n",
        "ax2.set_xlim(0.1, 0.5)\n",
        "ax3.scatter(input_data[:, 0], max_error_ref)\n",
        "ax3.set_ylabel(\"Gradient\")\n",
        "ax3.set_xlabel(\"Omega_m\")\n",
        "ax3.set_xlim(0.1, 0.5)\n",
        "plt.ticklabel_format(useOffset=False)\n",
        "plt.savefig(\"./\"+str(target)+\"maxdifference.png\")"
      ],
      "metadata": {
        "colab": {
          "base_uri": "https://localhost:8080/",
          "height": 330
        },
        "id": "TNYLRzF05EDS",
        "outputId": "cf0d2c28-9f23-4794-bd38-12c9343bc71c"
      },
      "execution_count": 36,
      "outputs": [
        {
          "output_type": "display_data",
          "data": {
            "text/plain": [
              "<Figure size 432x288 with 0 Axes>"
            ]
          },
          "metadata": {}
        },
        {
          "output_type": "display_data",
          "data": {
            "text/plain": [
              "<Figure size 432x288 with 3 Axes>"
            ],
            "image/png": "[encoded data removed]"
          },
          "metadata": {
            "needs_background": "light"
          }
        }
      ]
    },
    {
      "cell_type": "code",
      "execution_count": 37,
      "metadata": {
        "id": "g3zEr_lc_zWg"
      },
      "outputs": [],
      "source": [
        "# drive.flush_and_unmount()"
      ]
    }
  ],
  "metadata": {
    "accelerator": "GPU",
    "colab": {
      "collapsed_sections": [],
      "provenance": [],
      "mount_file_id": "1ddhtWdXmsEPZ_R6M_RcfQmuzPpI2IGZ4",
      "authorship_tag": "ABX9TyMCT2SUAY+3PoCJBNWT9vxT",
      "include_colab_link": true
    },
    "gpuClass": "standard",
    "kernelspec": {
      "display_name": "Python 3",
      "name": "python3"
    },
    "language_info": {
      "name": "python"
    }
  },
  "nbformat": 4,
  "nbformat_minor": 0
}