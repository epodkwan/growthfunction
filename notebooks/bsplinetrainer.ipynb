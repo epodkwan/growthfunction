{
  "cells": [
    {
      "cell_type": "markdown",
      "metadata": {
        "id": "view-in-github",
        "colab_type": "text"
      },
      "source": [
        "<a href=\"https://colab.research.google.com/github/epodkwan/growthfunction/blob/main/notebooks/bsplinetrainer.ipynb\" target=\"_parent\"><img src=\"https://colab.research.google.com/assets/colab-badge.svg\" alt=\"Open In Colab\"/></a>"
      ]
    },
    {
      "cell_type": "code",
      "execution_count": 1,
      "metadata": {
        "colab": {
          "base_uri": "https://localhost:8080/"
        },
        "id": "OgZPjwP-NEwE",
        "outputId": "96707171-d4b5-4c78-ec0b-c75d64bb0eb0"
      },
      "outputs": [
        {
          "output_type": "stream",
          "name": "stdout",
          "text": [
            "Looking in indexes: https://pypi.org/simple, https://us-python.pkg.dev/colab-wheels/public/simple/\n",
            "Requirement already satisfied: flax in /usr/local/lib/python3.7/dist-packages (0.6.0)\n",
            "Requirement already satisfied: numpy>=1.12 in /usr/local/lib/python3.7/dist-packages (from flax) (1.21.6)\n",
            "Requirement already satisfied: jax>=0.3.16 in /usr/local/lib/python3.7/dist-packages (from flax) (0.3.17)\n",
            "Requirement already satisfied: optax in /usr/local/lib/python3.7/dist-packages (from flax) (0.1.3)\n",
            "Requirement already satisfied: msgpack in /usr/local/lib/python3.7/dist-packages (from flax) (1.0.4)\n",
            "Requirement already satisfied: matplotlib in /usr/local/lib/python3.7/dist-packages (from flax) (3.2.2)\n",
            "Requirement already satisfied: rich~=11.1 in /usr/local/lib/python3.7/dist-packages (from flax) (11.2.0)\n",
            "Requirement already satisfied: PyYAML>=5.4.1 in /usr/local/lib/python3.7/dist-packages (from flax) (6.0)\n",
            "Requirement already satisfied: typing-extensions>=4.1.1 in /usr/local/lib/python3.7/dist-packages (from flax) (4.1.1)\n",
            "Requirement already satisfied: scipy>=1.5 in /usr/local/lib/python3.7/dist-packages (from jax>=0.3.16->flax) (1.7.3)\n",
            "Requirement already satisfied: etils[epath] in /usr/local/lib/python3.7/dist-packages (from jax>=0.3.16->flax) (0.7.1)\n",
            "Requirement already satisfied: absl-py in /usr/local/lib/python3.7/dist-packages (from jax>=0.3.16->flax) (1.2.0)\n",
            "Requirement already satisfied: opt-einsum in /usr/local/lib/python3.7/dist-packages (from jax>=0.3.16->flax) (3.3.0)\n",
            "Requirement already satisfied: commonmark<0.10.0,>=0.9.0 in /usr/local/lib/python3.7/dist-packages (from rich~=11.1->flax) (0.9.1)\n",
            "Requirement already satisfied: colorama<0.5.0,>=0.4.0 in /usr/local/lib/python3.7/dist-packages (from rich~=11.1->flax) (0.4.5)\n",
            "Requirement already satisfied: pygments<3.0.0,>=2.6.0 in /usr/local/lib/python3.7/dist-packages (from rich~=11.1->flax) (2.6.1)\n",
            "Requirement already satisfied: importlib_resources in /usr/local/lib/python3.7/dist-packages (from etils[epath]->jax>=0.3.16->flax) (5.9.0)\n",
            "Requirement already satisfied: zipp in /usr/local/lib/python3.7/dist-packages (from etils[epath]->jax>=0.3.16->flax) (3.8.1)\n",
            "Requirement already satisfied: python-dateutil>=2.1 in /usr/local/lib/python3.7/dist-packages (from matplotlib->flax) (2.8.2)\n",
            "Requirement already satisfied: pyparsing!=2.0.4,!=2.1.2,!=2.1.6,>=2.0.1 in /usr/local/lib/python3.7/dist-packages (from matplotlib->flax) (3.0.9)\n",
            "Requirement already satisfied: kiwisolver>=1.0.1 in /usr/local/lib/python3.7/dist-packages (from matplotlib->flax) (1.4.4)\n",
            "Requirement already satisfied: cycler>=0.10 in /usr/local/lib/python3.7/dist-packages (from matplotlib->flax) (0.11.0)\n",
            "Requirement already satisfied: six>=1.5 in /usr/local/lib/python3.7/dist-packages (from python-dateutil>=2.1->matplotlib->flax) (1.15.0)\n",
            "Requirement already satisfied: chex>=0.0.4 in /usr/local/lib/python3.7/dist-packages (from optax->flax) (0.1.4)\n",
            "Requirement already satisfied: jaxlib>=0.1.37 in /usr/local/lib/python3.7/dist-packages (from optax->flax) (0.3.15+cuda11.cudnn805)\n",
            "Requirement already satisfied: dm-tree>=0.1.5 in /usr/local/lib/python3.7/dist-packages (from chex>=0.0.4->optax->flax) (0.1.7)\n",
            "Requirement already satisfied: toolz>=0.9.0 in /usr/local/lib/python3.7/dist-packages (from chex>=0.0.4->optax->flax) (0.12.0)\n"
          ]
        }
      ],
      "source": [
        "!pip install flax"
      ]
    },
    {
      "cell_type": "code",
      "execution_count": 2,
      "metadata": {
        "id": "GXP7APTktM23",
        "colab": {
          "base_uri": "https://localhost:8080/"
        },
        "outputId": "14265390-17fe-4c8c-ae05-e573d19417a5"
      },
      "outputs": [
        {
          "output_type": "stream",
          "name": "stderr",
          "text": [
            "WARNING:absl:GlobalAsyncCheckpointManager is not imported correctly. Checkpointing of GlobalDeviceArrays will not be available.To use the feature, install tensorstore.\n"
          ]
        }
      ],
      "source": [
        "from functools import partial\n",
        "import sys, os\n",
        "\n",
        "os.environ['TF_CPP_MIN_LOG_LEVEL']='3'\n",
        "os.environ['XLA_PYTHON_CLIENT_PREALLOCATE']='false'\n",
        "\n",
        "sys.path.append('/content/drive/MyDrive/Colab Notebooks/growth/')\n",
        "from conf import Configuration\n",
        "from cosmology import Cosmology, SimpleLCDM, growth_integ\n",
        "from growth_mlp_unnorm import Growth_MLP\n",
        "\n",
        "from typing import Sequence\n",
        "import random\n",
        "import statistics\n",
        "import jax\n",
        "import optax\n",
        "import numpy as np\n",
        "import jax.numpy as jnp\n",
        "from jax import jit, vmap, grad\n",
        "from flax import linen as nn\n",
        "from flax.training import train_state, checkpoints\n",
        "import matplotlib.pyplot as plt"
      ]
    },
    {
      "cell_type": "code",
      "execution_count": 3,
      "metadata": {
        "id": "seVyHnrBtU9a"
      },
      "outputs": [],
      "source": [
        "def npy_loader(path):\n",
        "    return jnp.load(path)"
      ]
    },
    {
      "cell_type": "code",
      "execution_count": 4,
      "metadata": {
        "id": "Wsb6hTLBtacv"
      },
      "outputs": [],
      "source": [
        "class SimpleMLP(nn.Module):\n",
        "    features:Sequence[int]\n",
        "    nodes:int\n",
        "\n",
        "    @nn.compact\n",
        "    def __call__(self, inputs):\n",
        "        x=inputs\n",
        "        for feat in self.features[:-2]:\n",
        "            x=nn.Dense(feat)(x)\n",
        "            x=nn.elu(x)\n",
        "        t=nn.Dense(nodes-2)(nn.elu(nn.Dense(self.features[-2])(x)))\n",
        "        c=nn.Dense(nodes+1)(nn.elu(nn.Dense(self.features[-1])(x)))\n",
        "        t=jnp.concatenate([jnp.zeros((t.shape[0], 4)), jnp.cumsum(jax.nn.softmax(t), axis=1), jnp.ones((t.shape[0], 4))], axis=1)\n",
        "        c=jnp.concatenate([jnp.zeros((c.shape[0], 1)), c], axis=1)\n",
        "        return t, c"
      ]
    },
    {
      "cell_type": "code",
      "execution_count": 5,
      "metadata": {
        "id": "04vwJv7pMgwz"
      },
      "outputs": [],
      "source": [
        "@jit\n",
        "def _deBoorVectorized(x, t, c):\n",
        "    p=3\n",
        "    k=jnp.digitize(x, t)-1\n",
        "    d=[c[j+k-p] for j in range(0, p+1)]\n",
        "    for r in range(1, p+1):\n",
        "        for j in range(p, r-1, -1):\n",
        "            alpha=(x-t[j+k-p])/(t[j+1+k-r]-t[j+k-p])\n",
        "            d[j]=(1.0-alpha)*d[j-1]+alpha*d[j]\n",
        "    return d[p]\n",
        "\n",
        "deBoor=vmap(_deBoorVectorized, in_axes=(None, 0, 0))"
      ]
    },
    {
      "cell_type": "code",
      "execution_count": 6,
      "metadata": {
        "id": "fGSxL7n_Y6LA"
      },
      "outputs": [],
      "source": [
        "@jit\n",
        "def eval_func(params, x, a):\n",
        "    t, c=model.apply(params, x)\n",
        "    preds=deBoor(jnp.clip(a, 0, 0.99999), t, c)\n",
        "    return preds"
      ]
    },
    {
      "cell_type": "code",
      "execution_count": 7,
      "metadata": {
        "id": "rgmBVdmE_Ztq"
      },
      "outputs": [],
      "source": [
        "@jit\n",
        "def D(a, cosmo):\n",
        "    conf=cosmo.conf \n",
        "    a=jnp.asarray(a, dtype=conf.cosmo_dtype)\n",
        "    D=a * jnp.interp(a, conf.growth_a, cosmo.growth[1][1])\n",
        "    # D1=1 * jnp.interp(1., conf.growth_a, cosmo.growth[1][1])\n",
        "    return D"
      ]
    },
    {
      "cell_type": "code",
      "execution_count": 8,
      "metadata": {
        "id": "YfugSlbNL4DQ"
      },
      "outputs": [],
      "source": [
        "@jit\n",
        "def objective_a(params, conf, a_test):\n",
        "    omegam, omegak, w0, wa=params\n",
        "    cosmo=SimpleLCDM(conf, Omega_m=omegam, Omega_k=omegak, w_0=w0, w_a=wa)\n",
        "    cosmo=growth_integ(cosmo)\n",
        "    obj=D(jnp.asarray(a_test), cosmo)\n",
        "    return obj"
      ]
    },
    {
      "cell_type": "code",
      "execution_count": 9,
      "metadata": {
        "id": "3OreC_-2L6le"
      },
      "outputs": [],
      "source": [
        "obj_grad_a=jit(grad(objective_a, argnums=(0)))\n",
        "vmap_obj_grad_a=vmap(obj_grad_a, in_axes=(None, None, 0))\n",
        "nc=32\n",
        "cell_size=8\n",
        "growth_anum=512\n",
        "conf=Configuration(cell_size=cell_size, mesh_shape=(nc, )*3, growth_anum=growth_anum)\n",
        "layer_sizes=[64, 64, 64]\n",
        "nodes=8\n",
        "learning_rate=1e-5\n",
        "epochs=50000\n",
        "model=SimpleMLP(features=layer_sizes, nodes=nodes)\n",
        "temp=jnp.array([[1]])\n",
        "params=model.init(jax.random.PRNGKey(0), temp)\n",
        "tx=optax.adam(learning_rate=learning_rate)\n",
        "opt_state=tx.init(params)\n",
        "target=111"
      ]
    },
    {
      "cell_type": "code",
      "execution_count": 10,
      "metadata": {
        "id": "Q4ETnEgYtiz4"
      },
      "outputs": [],
      "source": [
        "@jit\n",
        "def mse_loss(params, x, y_ref, a):\n",
        "    preds=eval_func(params, x, a)\n",
        "    diff=preds-y_ref\n",
        "    return jnp.mean(diff*diff)"
      ]
    },
    {
      "cell_type": "code",
      "execution_count": 11,
      "metadata": {
        "id": "5KYoOW_TtkmZ"
      },
      "outputs": [],
      "source": [
        "@jit\n",
        "def train_step(opt_state, params, x, y_ref, a):\n",
        "    loss, grads=jax.value_and_grad(mse_loss, argnums=0)(params, x, y_ref, a)\n",
        "    updates, opt_state=tx.update(grads, opt_state)\n",
        "    params=optax.apply_updates(params, updates)\n",
        "    return loss, params, opt_state"
      ]
    },
    {
      "cell_type": "code",
      "execution_count": 12,
      "metadata": {
        "id": "w5SOhOLwaCFU"
      },
      "outputs": [],
      "source": [
        "@jit\n",
        "def epoch_step(x_train, y_train, params, opt_state, order, a):\n",
        "    order=jax.random.permutation(jax.random.PRNGKey(i), order)\n",
        "    train_loss=0\n",
        "    for j in range(25):\n",
        "        x_batch=x_train[order[32*j:32*(j+1)], :]\n",
        "        y_batch=y_train[order[32*j:32*(j+1)], :]\n",
        "        loss, params, opt_state=train_step(opt_state, params, x_batch, y_batch, a)\n",
        "        train_loss=train_loss+loss\n",
        "    return train_loss, params"
      ]
    },
    {
      "cell_type": "code",
      "execution_count": 13,
      "metadata": {
        "colab": {
          "base_uri": "https://localhost:8080/"
        },
        "id": "kspaBRb5xVKq",
        "outputId": "376745ae-246a-48b3-a6e6-7f97cb1ea5f6"
      },
      "outputs": [
        {
          "output_type": "stream",
          "name": "stdout",
          "text": [
            "Drive already mounted at /content/drive/; to attempt to forcibly remount, call drive.mount(\"/content/drive/\", force_remount=True).\n"
          ]
        }
      ],
      "source": [
        "from google.colab import drive\n",
        "drive.mount('/content/drive/')\n",
        "os.chdir(\"/content/drive/My Drive/Colab Notebooks/\")"
      ]
    },
    {
      "cell_type": "code",
      "execution_count": 14,
      "metadata": {
        "id": "uaH8AxCAtXHD"
      },
      "outputs": [],
      "source": [
        "input_data=npy_loader(\"./lindata\"+str(target)+\"/cosmo.npy\")\n",
        "input_result=npy_loader(\"./lindata\"+str(target)+\"/combined.npy\")\n",
        "a=npy_loader(\"./lindata\"+str(target)+\"/999.npy\")[0, :]\n",
        "# input_result=jnp.log(raw_input_result)\n",
        "x_train=input_data[0:800].reshape(800, -1)\n",
        "y_train=input_result[0:800, :]\n",
        "x_validate=input_data[800:900, 0].reshape(100, -1)\n",
        "y_validate=input_result[800:900, :]"
      ]
    },
    {
      "cell_type": "code",
      "execution_count": 15,
      "metadata": {
        "colab": {
          "base_uri": "https://localhost:8080/",
          "height": 1000
        },
        "id": "XBEEkIgktmtw",
        "outputId": "197611ca-7af3-4002-8206-29c09ebca87d"
      },
      "outputs": [
        {
          "output_type": "stream",
          "name": "stdout",
          "text": [
            "100 5.2569457057358765e-06\n",
            "200 1.641195154342514e-06\n",
            "300 8.774279713610517e-07\n",
            "400 6.540581756522818e-07\n",
            "500 5.645054593902051e-07\n",
            "600 5.089831894459781e-07\n",
            "700 4.7166111495390314e-07\n",
            "800 4.4651772877759977e-07\n",
            "900 4.2258899809950773e-07\n",
            "1000 4.006675992620496e-07\n",
            "1100 3.853373505931771e-07\n",
            "1200 3.684805394456626e-07\n",
            "1300 3.5176317985413814e-07\n",
            "1400 3.3451567631721267e-07\n",
            "1500 3.202143404148386e-07\n",
            "1600 3.0780668737018776e-07\n",
            "1700 2.857723303106191e-07\n",
            "1800 2.776127236868804e-07\n",
            "1900 2.848217700490252e-07\n",
            "2000 2.7065097001368946e-07\n",
            "2100 2.5484791404484895e-07\n",
            "2200 2.467804613020706e-07\n",
            "2300 2.401711075762007e-07\n",
            "2400 2.400643182016927e-07\n",
            "2500 2.2528888732253475e-07\n",
            "2600 2.277097491526445e-07\n",
            "2700 2.1523157480794666e-07\n",
            "2800 2.0809354317113075e-07\n",
            "2900 1.9567477040850972e-07\n",
            "3000 1.9379307146000804e-07\n",
            "3100 1.9236277788197885e-07\n",
            "3200 1.8888135265481961e-07\n",
            "3300 1.7164912840344628e-07\n",
            "3400 1.736283125410387e-07\n",
            "3500 1.6064293178807316e-07\n",
            "3600 1.5991018832818874e-07\n",
            "3700 1.5039169870332868e-07\n",
            "3800 1.453167805152807e-07\n",
            "3900 1.4178951910752986e-07\n",
            "4000 1.4792820831528487e-07\n",
            "4100 1.3067422126164144e-07\n",
            "4200 1.3721474712383816e-07\n",
            "4300 1.2449238448828193e-07\n",
            "4400 1.2697441742049507e-07\n",
            "4500 1.188387122066115e-07\n",
            "4600 1.3261768505644387e-07\n",
            "4700 1.1899389724424479e-07\n",
            "4800 1.0775799302831217e-07\n",
            "4900 1.0561043001052245e-07\n",
            "5000 1.0082165997150512e-07\n",
            "5100 1.0023332244396246e-07\n",
            "5200 9.708354053697716e-08\n",
            "5300 8.874725555239357e-08\n",
            "5400 9.571019569584422e-08\n",
            "5500 9.259584930181455e-08\n",
            "5600 8.909941202115905e-08\n",
            "5700 8.769098155026076e-08\n",
            "5800 8.775275848954766e-08\n",
            "5900 8.543699108427202e-08\n",
            "6000 7.958002506869374e-08\n",
            "6100 7.980588736582298e-08\n",
            "6200 7.829051567139798e-08\n",
            "6300 7.671508938704211e-08\n",
            "6400 7.584770379571579e-08\n",
            "6500 7.467404593088633e-08\n",
            "6600 7.543806732251962e-08\n",
            "6700 7.213223143753167e-08\n",
            "6800 7.128890530138695e-08\n",
            "6900 7.027712762549897e-08\n",
            "7000 7.634121664266773e-08\n",
            "7100 6.876833994648983e-08\n",
            "7200 6.195999573208732e-08\n",
            "7300 6.435357082207916e-08\n",
            "7400 5.96579618986717e-08\n",
            "7500 5.822335550965758e-08\n",
            "7600 5.74497689318847e-08\n",
            "7700 5.664946929688113e-08\n",
            "7800 5.591774172587447e-08\n",
            "7900 5.558719744865759e-08\n",
            "8000 5.394713244731936e-08\n",
            "8100 5.329667885291437e-08\n",
            "8200 5.3158522154896445e-08\n",
            "8300 5.286998179200894e-08\n",
            "8400 5.232624401715003e-08\n",
            "8500 5.1772624034925805e-08\n",
            "8600 5.117397541617441e-08\n",
            "8700 5.06687523717141e-08\n",
            "8800 5.0595451571591967e-08\n",
            "8900 4.991011976001755e-08\n",
            "9000 5.4520929940024866e-08\n",
            "9100 5.402778592597373e-08\n",
            "9200 5.343152432853039e-08\n",
            "9300 5.281316094350453e-08\n",
            "9400 4.510547042423742e-08\n",
            "9500 4.347031050832556e-08\n",
            "9600 5.534114183218291e-08\n",
            "9700 5.05538468871714e-08\n",
            "9800 4.834335132102711e-08\n",
            "9900 4.500707036457433e-08\n",
            "10000 4.327372720379949e-08\n",
            "10100 4.1979050935356776e-08\n",
            "10200 4.352472382317284e-08\n",
            "10300 4.551396590530521e-08\n",
            "10400 4.567171561516824e-08\n",
            "10500 5.327245913301991e-08\n",
            "10600 4.168070304555007e-08\n",
            "10700 4.3470911506489387e-08\n",
            "10800 5.103199994083256e-08\n",
            "10900 5.2530853948941194e-08\n",
            "11000 4.211302463317822e-08\n",
            "11100 5.208057921804346e-08\n",
            "11200 3.876248225023211e-08\n",
            "11300 4.788997751730507e-08\n",
            "11400 4.399134297811336e-08\n",
            "11500 4.196602730362648e-08\n",
            "11600 3.6208895009024825e-08\n",
            "11700 3.7533710951860075e-08\n",
            "11800 4.2660694087322766e-08\n",
            "11900 3.683209519888172e-08\n",
            "12000 3.599468004518e-08\n",
            "12100 3.753410101990233e-08\n",
            "12200 4.234723406054133e-08\n",
            "12300 3.6174089664599126e-08\n",
            "12400 4.413313542661044e-08\n",
            "12500 4.921617752209363e-08\n",
            "12600 3.765405623708104e-08\n",
            "12700 3.4838366022771245e-08\n",
            "12800 4.3623262066343634e-08\n",
            "12900 4.083863702872165e-08\n",
            "13000 3.7985915605180466e-08\n",
            "13100 4.046312705696226e-08\n",
            "13200 4.0831036540745657e-08\n",
            "13300 3.5358335375833147e-08\n",
            "13400 3.867823981765862e-08\n",
            "13500 4.0857122582716924e-08\n",
            "13600 4.066220750652912e-08\n",
            "13700 3.911476762852347e-08\n",
            "13800 3.694850798054845e-08\n",
            "13900 4.2024673743007116e-08\n",
            "14000 4.083905312735261e-08\n",
            "14100 3.860741965345355e-08\n",
            "14200 3.5134663751105935e-08\n",
            "14300 4.0699377008201605e-08\n",
            "14400 4.7394997270179884e-08\n",
            "14500 4.0980819258244503e-08\n",
            "14600 3.476039580755793e-08\n",
            "14700 4.678917917623135e-08\n",
            "14800 4.392063622804007e-08\n",
            "14900 3.6259382466160635e-08\n",
            "15000 3.683231370803987e-08\n",
            "15100 3.6171879561561694e-08\n",
            "15200 3.681098906426259e-08\n",
            "15300 3.253121048077949e-08\n",
            "15400 3.734833829995769e-08\n",
            "15500 3.8222271633184114e-08\n",
            "15600 3.286092820083983e-08\n",
            "15700 3.641918368216425e-08\n",
            "15800 3.697530565000507e-08\n",
            "15900 3.720074010968194e-08\n",
            "16000 3.7322019028112604e-08\n",
            "16100 3.964974580221752e-08\n",
            "16200 3.715946703364167e-08\n",
            "16300 3.6721978005650414e-08\n",
            "16400 3.268302213573506e-08\n",
            "16500 3.9784099660832595e-08\n",
            "16600 3.4359789444310775e-08\n",
            "16700 3.47538078969738e-08\n",
            "16800 3.246506453088696e-08\n",
            "16900 3.675496112748747e-08\n",
            "17000 3.259095666237579e-08\n",
            "17100 3.3643238586505725e-08\n",
            "17200 4.162889038170522e-08\n",
            "17300 4.442102280843574e-08\n",
            "17400 4.4578484735058606e-08\n",
            "17500 3.598344036831619e-08\n",
            "17600 3.3105322018580264e-08\n",
            "17700 3.114794036406284e-08\n",
            "17800 2.923890647772968e-08\n",
            "17900 4.4155331697717374e-08\n",
            "18000 4.410124202083951e-08\n",
            "18100 3.0034977847922855e-08\n",
            "18200 2.9215068167794844e-08\n",
            "18300 3.5509739964496986e-08\n",
            "18400 3.3720798852025495e-08\n",
            "18500 4.360596247797871e-08\n",
            "18600 3.544673904897929e-08\n",
            "18700 3.234762881660489e-08\n",
            "18800 3.505640731348083e-08\n",
            "18900 3.575365488660084e-08\n",
            "19000 3.395828284723925e-08\n",
            "19100 3.28518327724095e-08\n",
            "19200 3.6275812584095954e-08\n",
            "19300 3.071524554324622e-08\n",
            "19400 4.3025422351164294e-08\n",
            "19500 3.4377069685425734e-08\n",
            "19600 4.3073995941135536e-08\n",
            "19700 3.650401943489121e-08\n",
            "19800 4.6867014542129134e-08\n",
            "19900 3.3614371450772116e-08\n",
            "20000 4.1949425359629616e-08\n",
            "20100 3.225033744959778e-08\n",
            "20200 2.8422672874864862e-08\n",
            "20300 3.583953209888991e-08\n",
            "20400 3.007138019640513e-08\n",
            "20500 3.4657978776076406e-08\n",
            "20600 3.4024003891600934e-08\n",
            "20700 2.709075558680369e-08\n",
            "20800 3.1829267494296574e-08\n",
            "20900 3.5407188593479684e-08\n",
            "21000 3.2590650391148094e-08\n",
            "21100 4.479542989804694e-08\n",
            "21200 4.092799514217434e-08\n",
            "21300 3.285038234163764e-08\n",
            "21400 3.67058677401228e-08\n",
            "21500 3.512420670683184e-08\n",
            "21600 3.228710580779527e-08\n",
            "21700 3.496260010626468e-08\n",
            "21800 3.3421351089163335e-08\n",
            "21900 3.428177981451741e-08\n",
            "22000 3.281487156574304e-08\n",
            "22100 3.454458839496093e-08\n",
            "22200 2.9448148640480013e-08\n",
            "22300 3.419823483070052e-08\n",
            "22400 3.7779639190304784e-08\n",
            "22500 3.59447257661344e-08\n",
            "22600 3.3807145057164615e-08\n",
            "22700 3.3684281799169596e-08\n",
            "22800 3.595941758534529e-08\n",
            "22900 4.1874570635624884e-08\n",
            "23000 3.30537514344862e-08\n",
            "23100 3.450894978310264e-08\n",
            "23200 3.407417640456682e-08\n",
            "23300 2.930926335170057e-08\n",
            "23400 3.403711170821313e-08\n",
            "23500 3.152949908573414e-08\n",
            "23600 2.7778450139456874e-08\n",
            "23700 3.4002673840240215e-08\n",
            "23800 3.1072366534984454e-08\n",
            "23900 2.9448032418737044e-08\n",
            "24000 3.6229501550754326e-08\n",
            "24100 3.316544852962841e-08\n",
            "24200 3.3799972822737815e-08\n",
            "24300 3.427359039516877e-08\n",
            "24400 2.7277387949000412e-08\n",
            "24500 3.4065409267276544e-08\n",
            "24600 2.9199637303234434e-08\n",
            "24700 3.08760439463403e-08\n",
            "24800 3.407802215818019e-08\n",
            "24900 3.5437766853235876e-08\n",
            "25000 3.980582453124604e-08\n",
            "25100 3.2540005713668434e-08\n",
            "25200 3.4220049065266136e-08\n",
            "25300 2.616473212868241e-08\n",
            "25400 2.8200446454658412e-08\n",
            "25500 3.625032528740905e-08\n",
            "25600 2.922086304119922e-08\n",
            "25700 3.435331574962148e-08\n",
            "25800 3.481508202521604e-08\n",
            "25900 3.5446573328546285e-08\n",
            "26000 4.127052416078324e-08\n",
            "26100 4.0904438860265184e-08\n",
            "26200 4.125916455280527e-08\n",
            "26300 4.137967684381418e-08\n",
            "26400 4.2001835096558995e-08\n",
            "26500 4.212649249271134e-08\n",
            "26600 4.284059403837579e-08\n",
            "26700 4.341204470802407e-08\n",
            "26800 4.363938984548868e-08\n",
            "26900 4.4358300627587664e-08\n",
            "27000 4.401735964506842e-08\n",
            "27100 3.8886643670138254e-08\n",
            "27200 4.3476912440050297e-08\n",
            "27300 4.3819929843146884e-08\n",
            "27400 3.2627232466001045e-08\n",
            "27500 3.591650797989802e-08\n",
            "27600 3.961100409472505e-08\n",
            "27700 4.302891440917497e-08\n",
            "27800 4.3647130367479754e-08\n",
            "27900 4.4404564831112665e-08\n",
            "28000 3.519972149951047e-08\n",
            "28100 3.6693936213331756e-08\n",
            "28200 3.3489521239168653e-08\n",
            "28300 4.3490893270790204e-08\n",
            "28400 4.436211415907632e-08\n",
            "28500 3.695570851535722e-08\n",
            "28600 3.393400094608349e-08\n",
            "28700 3.369148728861613e-08\n",
            "28800 3.4011069622523686e-08\n",
            "28900 4.373791445446787e-08\n",
            "29000 4.431231091594329e-08\n",
            "29100 3.6691115062480824e-08\n",
            "29200 3.3249600873836645e-08\n",
            "29300 3.79275479039517e-08\n",
            "29400 4.309338312095912e-08\n",
            "29500 4.2405794185680584e-08\n",
            "29600 3.340990098811441e-08\n",
            "29700 3.3598967888265745e-08\n",
            "29800 4.035089214229348e-08\n",
            "29900 3.571678811346811e-08\n",
            "30000 3.372743018204526e-08\n",
            "30100 4.3443663043565264e-08\n",
            "30200 4.067228254717392e-08\n",
            "30300 3.1619860261597294e-08\n",
            "30400 3.455432966528872e-08\n",
            "30500 3.4526131246946275e-08\n",
            "30600 2.902710335944994e-08\n",
            "30700 4.143174410292117e-08\n",
            "30800 4.213068421074966e-08\n",
            "30900 3.394176701823894e-08\n",
            "31000 2.942207067305566e-08\n",
            "31100 4.104897975337501e-08\n",
            "31200 4.1853420763887246e-08\n",
            "31300 3.077017350130015e-08\n",
            "31400 4.09336837321696e-08\n",
            "31500 3.323479887327021e-08\n",
            "31600 3.212887378589382e-08\n",
            "31700 2.6330228316045805e-08\n",
            "31800 3.087427122864938e-08\n",
            "31900 3.459569807569109e-08\n",
            "32000 2.6788744205814117e-08\n",
            "32100 3.885688123883124e-08\n",
            "32200 3.9028464721545254e-08\n",
            "32300 3.917696523500932e-08\n",
            "32400 3.9433057628171745e-08\n",
            "32500 2.610940259312141e-08\n",
            "32600 3.644000701625276e-08\n",
            "32700 2.7320783761981956e-08\n",
            "32800 2.7071452094178132e-08\n",
            "32900 3.5033528894853744e-08\n",
            "33000 2.5756686429944024e-08\n",
            "33100 4.162780028074245e-08\n",
            "33200 3.342524664992153e-08\n",
            "33300 3.164992461301739e-08\n",
            "33400 3.1442528650556e-08\n",
            "33500 3.12657697990663e-08\n",
            "33600 3.110246471278293e-08\n",
            "33700 3.2130490247573206e-08\n",
            "33800 2.755142429912616e-08\n",
            "33900 3.1629030687962146e-08\n",
            "34000 3.1558619906467746e-08\n",
            "34100 3.167817905640921e-08\n",
            "34200 3.194700815099339e-08\n",
            "34300 3.296133542826067e-08\n",
            "34400 3.320064587968253e-08\n",
            "34500 3.3310086125307155e-08\n",
            "34600 3.33934408988406e-08\n",
            "34700 3.337097408202323e-08\n",
            "34800 3.361325351699842e-08\n",
            "34900 3.446880032625529e-08\n",
            "35000 3.485493191160297e-08\n",
            "35100 3.510221277071349e-08\n",
            "35200 3.519074107493449e-08\n",
            "35300 3.494429821247215e-08\n",
            "35400 3.458199038604507e-08\n",
            "35500 3.4091194427957864e-08\n",
            "35600 3.405267282550822e-08\n",
            "35700 3.339394149581613e-08\n",
            "35800 3.334628715919574e-08\n",
            "35900 3.3218664679246196e-08\n",
            "36000 3.163992212893276e-08\n",
            "36100 3.28243903287717e-08\n",
            "36200 3.279873391189278e-08\n",
            "36300 3.2423540792761235e-08\n",
            "36400 3.304994894342122e-08\n",
            "36500 3.223200201798177e-08\n",
            "36600 3.410628910836886e-08\n",
            "36700 3.4003297208659237e-08\n",
            "36800 3.3899743803621595e-08\n",
            "36900 3.3876985971963516e-08\n",
            "37000 3.391169343539341e-08\n",
            "37100 3.3953077782706394e-08\n",
            "37200 3.396737256103559e-08\n",
            "37300 3.395707670232501e-08\n",
            "37400 3.385885036669938e-08\n",
            "37500 3.3620484985419134e-08\n",
            "37600 3.3451066982690476e-08\n",
            "37700 3.327950684427543e-08\n",
            "37800 3.319182444563162e-08\n",
            "37900 3.3147964467559244e-08\n",
            "38000 3.311325779920713e-08\n",
            "38100 3.307278048213874e-08\n",
            "38200 3.303750524978437e-08\n",
            "38300 3.298572317048104e-08\n",
            "38400 3.2932460309173836e-08\n",
            "38500 3.2754026988021686e-08\n",
            "38600 3.286072056653582e-08\n",
            "38700 3.284186016297365e-08\n",
            "38800 3.335222232227336e-08\n",
            "38900 3.27824392543727e-08\n",
            "39000 3.318840533861648e-08\n",
            "39100 3.3225779519350306e-08\n",
            "39200 3.327683052783615e-08\n",
            "39300 3.3300713163416206e-08\n",
            "39400 3.3297207456872095e-08\n",
            "39500 3.3259736743507895e-08\n",
            "39600 3.3220992919099616e-08\n",
            "39700 3.315995204969674e-08\n",
            "39800 3.310086106316737e-08\n",
            "39900 3.303123911122646e-08\n",
            "40000 3.294116772425838e-08\n",
            "40100 3.288466023920087e-08\n",
            "40200 3.278278081934746e-08\n",
            "40300 3.2651379372309663e-08\n",
            "40400 3.260873867309272e-08\n",
            "40500 3.246808613578791e-08\n",
            "40600 3.229136259139197e-08\n",
            "40700 3.233196120454089e-08\n",
            "40800 3.2036716140661414e-08\n",
            "40900 3.2727668416652615e-08\n",
            "41000 3.203733409198564e-08\n",
            "41100 3.2208397729340754e-08\n",
            "41200 3.263580871385784e-08\n",
            "41300 3.26506370279995e-08\n",
            "41400 3.278842914337945e-08\n",
            "41500 2.8312359461901195e-08\n",
            "41600 3.304430672125518e-08\n",
            "41700 3.29982430341038e-08\n",
            "41800 2.9585608919468186e-08\n",
            "41900 2.9541999303101658e-08\n",
            "42000 3.737667576167281e-08\n",
            "42100 3.130228804163978e-08\n",
            "42200 2.4097201370396968e-08\n",
            "42300 3.308999877607236e-08\n",
            "42400 3.210203210228343e-08\n",
            "42500 3.298218596150862e-08\n",
            "42600 2.9576266112068645e-08\n",
            "42700 2.9291914124169495e-08\n",
            "42800 3.838499365554427e-08\n",
            "42900 2.545997255430584e-08\n",
            "43000 2.8496142827635772e-08\n",
            "43100 3.6136706579077363e-08\n",
            "43200 2.879528311545055e-08\n",
            "43300 3.894111089774618e-08\n",
            "43400 2.2409223683946088e-08\n",
            "43500 2.680028959393105e-08\n",
            "43600 2.606319181028672e-08\n",
            "43700 3.0994013241410544e-08\n",
            "43800 2.4113890883144875e-08\n",
            "43900 3.7537162741756346e-08\n",
            "44000 3.396283852327832e-08\n",
            "44100 2.3028783490267187e-08\n",
            "44200 3.826920987511788e-08\n",
            "44300 2.53806310278461e-08\n",
            "44400 2.2716985857851294e-08\n",
            "44500 3.4177444153425015e-08\n",
            "44600 2.795084308870046e-08\n",
            "44700 3.1838991308606255e-08\n",
            "44800 2.7892979729663245e-08\n",
            "44900 2.7917189369401516e-08\n",
            "45000 2.862882758916879e-08\n",
            "45100 2.5895516422768924e-08\n",
            "45200 2.9916183577353476e-08\n",
            "45300 2.7089340036209594e-08\n",
            "45400 3.3233746544602325e-08\n",
            "45500 2.7816880387017323e-08\n",
            "45600 3.814810379402663e-08\n",
            "45700 2.965726871297979e-08\n",
            "45800 2.2620769470992654e-08\n",
            "45900 2.8229608661516317e-08\n",
            "46000 2.7914289740548975e-08\n",
            "46100 2.6836145372448724e-08\n",
            "46200 3.298471934557668e-08\n",
            "46300 2.781472288374486e-08\n",
            "46400 2.713902740961289e-08\n",
            "46500 3.824038257339346e-08\n",
            "46600 2.972680344692062e-08\n",
            "46700 2.706500428051418e-08\n",
            "46800 3.3263726419649674e-08\n",
            "46900 2.4512606053299548e-08\n",
            "47000 2.8177903417158967e-08\n",
            "47100 3.06264047039213e-08\n",
            "47200 2.8234803454781844e-08\n",
            "47300 2.746971139695242e-08\n",
            "47400 3.870674721891882e-08\n",
            "47500 3.275705304915197e-08\n",
            "47600 2.8935549904962957e-08\n",
            "47700 2.673626644656286e-08\n",
            "47800 3.131887573894441e-08\n",
            "47900 2.7227174041427355e-08\n",
            "48000 2.5352492956913564e-08\n",
            "48100 3.391555598236099e-08\n",
            "48200 2.9242289282866303e-08\n",
            "48300 2.9585234802287907e-08\n",
            "48400 2.6443700656897253e-08\n",
            "48500 2.4726267398389746e-08\n",
            "48600 3.2394598230806715e-08\n",
            "48700 3.093668528403746e-08\n",
            "48800 3.8800077136121455e-08\n",
            "48900 3.343058728254828e-08\n",
            "49000 2.595910028737767e-08\n",
            "49100 3.5277008415763013e-08\n",
            "49200 2.8690979808573094e-08\n",
            "49300 3.635116014646387e-08\n",
            "49400 2.5497315565937243e-08\n",
            "49500 2.3789053117281706e-08\n",
            "49600 3.907017342936754e-08\n",
            "49700 2.4027455339698408e-08\n",
            "49800 2.7380698043332116e-08\n",
            "49900 3.77134830284406e-08\n",
            "50000 2.5193894881156887e-08\n",
            "Training ended\n"
          ]
        },
        {
          "output_type": "display_data",
          "data": {
            "text/plain": [
              "<Figure size 432x288 with 1 Axes>"
            ],
            "image/png": "[encoded data removed]"
          },
          "metadata": {
            "needs_background": "light"
          }
        }
      ],
      "source": [
        "os.chdir(\"/content/drive/My Drive/Colab Notebooks/elu+newstruct/\")\n",
        "order=jnp.arange(800)\n",
        "for i in range(epochs):\n",
        "    train_loss, params=epoch_step(x_train, y_train, params, opt_state, order, a)\n",
        "    if i % 100 == 99:\n",
        "        train_loss=train_loss/25\n",
        "        validate_loss=mse_loss(params, x_validate, y_validate, a)\n",
        "        print((i+1), validate_loss)\n",
        "        plt.scatter((i+1), train_loss, c='b')\n",
        "        plt.scatter((i+1), validate_loss, c='g')\n",
        "print(\"Training ended\")\n",
        "state=train_state.TrainState.create(apply_fn=model.apply, params=params, tx=tx)\n",
        "checkpoints.save_checkpoint(ckpt_dir=(\"./\"+str(target)+\"/\"), target=state, step=0, overwrite=True)\n",
        "plt.yscale('log')\n",
        "plt.xlabel(\"Epoch\")\n",
        "plt.ylabel(\"Loss\")\n",
        "plt.title(\"Loss function\")\n",
        "plt.legend([\"Training Loss\", \"Validation Loss\"])\n",
        "plt.savefig(\"./\"+str(target)+\"loss.png\")"
      ]
    },
    {
      "cell_type": "code",
      "execution_count": 16,
      "metadata": {
        "id": "uuALbWCBYtRe"
      },
      "outputs": [],
      "source": [
        "params_class={}\n",
        "for order in range(1, 3):\n",
        "    for deriv in range(3):\n",
        "        key=\"{}{}\".format(order, deriv)\n",
        "        params_class[key]=params\n",
        "growth_fn=Growth_MLP(model, params_class)\n",
        "growth_integ_jit=jit(growth_integ)\n",
        "omega_m_test=0.2\n",
        "omega_k_test=0.\n",
        "w_0_test=-1.\n",
        "w_a_test=0.\n",
        "a_test=jnp.linspace(0., 1., 100)\n",
        "epsilon=1e-3"
      ]
    },
    {
      "cell_type": "code",
      "execution_count": 17,
      "metadata": {
        "id": "k0uvMeFTYdb4"
      },
      "outputs": [],
      "source": [
        "@jit\n",
        "def predict(cosmo, a):\n",
        "    return growth_fn(cosmo, a).reshape(-1)[0]"
      ]
    },
    {
      "cell_type": "code",
      "execution_count": 18,
      "metadata": {
        "id": "O1bCgtCqMUdK"
      },
      "outputs": [],
      "source": [
        "@jit\n",
        "def gradient_at(cosmo, a):\n",
        "    value1, gradient=jax.value_and_grad(predict, 0)(jnp.array([cosmo]), a)\n",
        "    return value1, gradient\n",
        "\n",
        "vmap_gradient_at=vmap(gradient_at, in_axes=(None, 0))"
      ]
    },
    {
      "cell_type": "code",
      "execution_count": 19,
      "metadata": {
        "colab": {
          "base_uri": "https://localhost:8080/",
          "height": 348
        },
        "id": "SUbCCT2m6p_q",
        "outputId": "7831c9cb-8d35-40b6-f94b-24d3aae8a2f4"
      },
      "outputs": [
        {
          "output_type": "stream",
          "name": "stdout",
          "text": [
            "compile growth\n",
            "compile boor\n"
          ]
        },
        {
          "output_type": "display_data",
          "data": {
            "text/plain": [
              "<Figure size 432x288 with 3 Axes>"
            ],
            "image/png": "[encoded data removed]"
          },
          "metadata": {
            "needs_background": "light"
          }
        }
      ],
      "source": [
        "cosmo_test=SimpleLCDM(conf, Omega_m=omega_m_test, Omega_k=omega_k_test, w_0=w_0_test, w_a=w_a_test)\n",
        "cosmo_test=growth_integ_jit(cosmo_test)\n",
        "d_data=D(a_test, cosmo_test)\n",
        "d_test=growth_fn(jnp.array([[omega_m_test]]), a_test).reshape(-1)\n",
        "discrepancy=(abs(d_test)+epsilon)/(abs(d_data)+epsilon)\n",
        "fig, (ax1, ax2, ax3)=plt.subplots(3, 1, constrained_layout=True)\n",
        "ax1.plot(a_test, d_data, label=\"Reference\")\n",
        "ax1.plot(a_test, d_test, label=\"Fitting\")\n",
        "ax1.set_ylabel(\"D\")\n",
        "ax1.legend()\n",
        "ax1.set_title(\"Value\")\n",
        "ax2.plot(a_test, discrepancy)\n",
        "ax2.set_ylabel(\"Predict/Data\")\n",
        "ax2.ticklabel_format(useOffset=False)\n",
        "ax3.plot(a_test, d_test-d_data)\n",
        "ax3.set_ylabel(\"Difference\")\n",
        "ax3.set_xlabel(\"a\")\n",
        "plt.savefig(\"./\"+str(target)+\"value.png\")"
      ]
    },
    {
      "cell_type": "code",
      "execution_count": 20,
      "metadata": {
        "colab": {
          "base_uri": "https://localhost:8080/",
          "height": 331
        },
        "id": "ari-7kNvmP-_",
        "outputId": "f02075d9-5a0b-44f2-b719-098fafbb82db"
      },
      "outputs": [
        {
          "output_type": "stream",
          "name": "stdout",
          "text": [
            "compile growth\n",
            "compile boor\n"
          ]
        },
        {
          "output_type": "display_data",
          "data": {
            "text/plain": [
              "<Figure size 432x288 with 1 Axes>"
            ],
            "image/png": "[encoded data removed]"
          },
          "metadata": {
            "needs_background": "light"
          }
        }
      ],
      "source": [
        "a_plot=[]\n",
        "med=[]\n",
        "mean_error=[]\n",
        "std=[]\n",
        "for i in range(10):\n",
        "    plt.clf()\n",
        "    temp=[]\n",
        "    for j in range(1000):\n",
        "        d_data=input_result[j, i*28]/input_result[j, -1]\n",
        "        d_test=growth_fn(jnp.array([[input_data[j, 0]]]), a[i*28]).reshape(-1)\n",
        "        temp.append(((abs(d_test)+epsilon)/(abs(d_data)+epsilon)-1).item())\n",
        "        plt.scatter(input_data[j, 0], temp[-1], c='b')\n",
        "    plt.xlabel(\"Omega_m\")\n",
        "    plt.ylabel(\"Fractional Error\")\n",
        "    plt.title(\"Fractional Error of Cosmos (a=\"+str(np.round(a[i*28].item(), 3))+\")\")\n",
        "    plt.savefig(\"./\"+str(target)+\"error\"+str(i)+\".png\")\n",
        "    a_plot.append(a[i*28].item())\n",
        "    med.append(statistics.median(temp))\n",
        "    mean_error.append(statistics.mean(temp))\n",
        "    std.append(statistics.stdev(temp))"
      ]
    },
    {
      "cell_type": "code",
      "execution_count": 21,
      "metadata": {
        "colab": {
          "base_uri": "https://localhost:8080/",
          "height": 330
        },
        "id": "iXtPDjF2Hlmx",
        "outputId": "d782e11b-c500-498e-880a-982af37aed7d"
      },
      "outputs": [
        {
          "output_type": "display_data",
          "data": {
            "text/plain": [
              "<Figure size 432x288 with 0 Axes>"
            ]
          },
          "metadata": {}
        },
        {
          "output_type": "display_data",
          "data": {
            "text/plain": [
              "<Figure size 432x288 with 1 Axes>"
            ],
            "image/png": "[encoded data removed]"
          },
          "metadata": {
            "needs_background": "light"
          }
        }
      ],
      "source": [
        "plt.clf()\n",
        "fig, ax=plt.subplots(constrained_layout=True)\n",
        "ax.plot(a_plot, med, label=\"Median\")\n",
        "ax.errorbar(a_plot, mean_error, std, label=\"Mean\")\n",
        "# ax.set_xscale('log')\n",
        "ax.set_xlabel(\"a\")\n",
        "ax.set_ylabel(\"Fractional Error\")\n",
        "ax.set_title(\"Fractional Error\")\n",
        "ax.legend()\n",
        "plt.savefig(\"./\"+str(target)+\"centralerror.png\")"
      ]
    },
    {
      "cell_type": "code",
      "execution_count": 22,
      "metadata": {
        "colab": {
          "base_uri": "https://localhost:8080/",
          "height": 365
        },
        "id": "8NwZwYE5sT1e",
        "outputId": "1b86f666-193b-4f0a-9e50-064a22b01116"
      },
      "outputs": [
        {
          "output_type": "stream",
          "name": "stdout",
          "text": [
            "compile growth\n",
            "compile boor\n"
          ]
        },
        {
          "output_type": "display_data",
          "data": {
            "text/plain": [
              "<Figure size 432x288 with 0 Axes>"
            ]
          },
          "metadata": {}
        },
        {
          "output_type": "display_data",
          "data": {
            "text/plain": [
              "<Figure size 432x288 with 3 Axes>"
            ],
            "image/png": "[encoded data removed]"
          },
          "metadata": {
            "needs_background": "light"
          }
        }
      ],
      "source": [
        "plt.clf()\n",
        "cosmo_test=[omega_m_test, omega_k_test, w_0_test, w_a_test]\n",
        "value, grad=vmap_gradient_at([omega_m_test], a_test)\n",
        "grad_test=grad\n",
        "grad_ref=vmap_obj_grad_a(cosmo_test, conf, a_test)[0]\n",
        "grad_ref=np.array(grad_ref).reshape(-1)\n",
        "grad_test=np.array(grad_test).reshape(-1)\n",
        "discrepancy=(abs(grad_test)+epsilon)/(abs(grad_ref)+epsilon)\n",
        "fig, (ax1, ax2, ax3)=plt.subplots(3, 1, constrained_layout=True)\n",
        "ax1.plot(a_test, grad_ref, label=\"Reference\")\n",
        "ax1.plot(a_test, grad_test, label=\"Neural Network\")\n",
        "ax1.legend()\n",
        "ax1.set_title(\"Gradient\")\n",
        "ax2.plot(a_test, discrepancy)\n",
        "ax2.set_ylabel(\"Predict/Data\")\n",
        "ax2.ticklabel_format(useOffset=False)\n",
        "ax3.plot(a_test, grad_test-grad_ref)\n",
        "ax3.set_ylabel(\"Difference\")\n",
        "ax3.set_xlabel(\"a\")\n",
        "plt.savefig(\"./\"+str(target)+\"gradient.png\")"
      ]
    },
    {
      "cell_type": "code",
      "source": [
        "max_error_ref=[]\n",
        "max_error_test=[]\n",
        "max_difference_ref=[]\n",
        "max_difference_test=[]\n",
        "for i in range(1000):\n",
        "    value, grad_test=vmap_gradient_at([input_data[i, 0]], a_test)\n",
        "    grad_ref=vmap_obj_grad_a([input_data[i, 0], omega_k_test, w_0_test, w_a_test], conf, a_test)[0]\n",
        "    grad_ref=np.array(grad_ref).reshape(-1)\n",
        "    grad_test=np.array(grad_test).reshape(-1)\n",
        "    error=abs((abs(grad_test)+epsilon)/(abs(grad_ref)+epsilon)-1)\n",
        "    difference=abs(grad_test-grad_ref)\n",
        "    temp=jnp.where(error==jnp.max(error))\n",
        "    max_error_ref.append(grad_ref[temp])\n",
        "    max_error_test.append(grad_test[temp])\n",
        "    temp=jnp.where(difference==jnp.max(difference))\n",
        "    max_difference_ref.append(grad_ref[temp])\n",
        "    max_difference_test.append(grad_test[temp])\n",
        "max_error_ref=np.array(max_error_ref)\n",
        "max_error_test=np.array(max_error_test)\n",
        "max_difference_ref=np.array(max_difference_ref)\n",
        "max_difference_test=np.array(max_difference_test)"
      ],
      "metadata": {
        "colab": {
          "base_uri": "https://localhost:8080/"
        },
        "id": "kCkAzWDZ0dNm",
        "outputId": "83968a1b-8516-4577-aa25-516fb40f4f8a"
      },
      "execution_count": 23,
      "outputs": [
        {
          "output_type": "stream",
          "name": "stdout",
          "text": [
            "compile growth\n",
            "compile boor\n"
          ]
        }
      ]
    },
    {
      "cell_type": "code",
      "source": [
        "plt.clf()\n",
        "fig, (ax1, ax2, ax3)=plt.subplots(3, 1, constrained_layout=True)\n",
        "ax1.scatter(input_data[:, 0], (abs(max_error_test)+epsilon)/(abs(max_error_ref)+epsilon)-1)\n",
        "ax1.set_ylabel(\"Fractional Error\")\n",
        "ax1.set_xlim(0.1, 0.5)\n",
        "ax1.set_ylim(-1, 3)\n",
        "ax1.set_title(\"Max Error\")\n",
        "ax2.scatter(input_data[:, 0], max_error_test-max_error_ref)\n",
        "ax2.set_ylabel(\"Difference\")\n",
        "ax2.set_xlim(0.1, 0.5)\n",
        "ax3.scatter(input_data[:, 0], max_error_ref)\n",
        "ax3.set_ylabel(\"Gradient\")\n",
        "ax3.set_xlabel(\"Omega_m\")\n",
        "ax3.set_xlim(0.1, 0.5)\n",
        "plt.ticklabel_format(useOffset=False)\n",
        "plt.savefig(\"./\"+str(target)+\"maxerror.png\")"
      ],
      "metadata": {
        "colab": {
          "base_uri": "https://localhost:8080/",
          "height": 330
        },
        "id": "rl-SN8Dd4_Wv",
        "outputId": "fa92ba94-5d8c-46c8-a1af-2f0c863ac037"
      },
      "execution_count": 24,
      "outputs": [
        {
          "output_type": "display_data",
          "data": {
            "text/plain": [
              "<Figure size 432x288 with 0 Axes>"
            ]
          },
          "metadata": {}
        },
        {
          "output_type": "display_data",
          "data": {
            "text/plain": [
              "<Figure size 432x288 with 3 Axes>"
            ],
            "image/png": "[encoded data removed]"
          },
          "metadata": {
            "needs_background": "light"
          }
        }
      ]
    },
    {
      "cell_type": "code",
      "source": [
        "plt.clf()\n",
        "fig, (ax1, ax2, ax3)=plt.subplots(3, 1, constrained_layout=True)\n",
        "ax1.scatter(input_data[:, 0], max_difference_test-max_difference_ref)\n",
        "ax1.set_ylabel(\"Difference\")\n",
        "ax1.set_xlim(0.1, 0.5)\n",
        "ax1.set_title(\"Max Difference\")\n",
        "ax2.scatter(input_data[:, 0], (abs(max_difference_test)+epsilon)/(abs(max_difference_ref)+epsilon)-1)\n",
        "ax2.set_ylabel(\"Fractional Error\")\n",
        "ax2.set_xlim(0.1, 0.5)\n",
        "ax3.scatter(input_data[:, 0], max_error_ref)\n",
        "ax3.set_ylabel(\"Gradient\")\n",
        "ax3.set_xlabel(\"Omega_m\")\n",
        "ax3.set_xlim(0.1, 0.5)\n",
        "plt.ticklabel_format(useOffset=False)\n",
        "plt.savefig(\"./\"+str(target)+\"maxdifference.png\")"
      ],
      "metadata": {
        "colab": {
          "base_uri": "https://localhost:8080/",
          "height": 330
        },
        "id": "TNYLRzF05EDS",
        "outputId": "09bb7b15-c647-4c61-848a-9cbbf36598f9"
      },
      "execution_count": 25,
      "outputs": [
        {
          "output_type": "display_data",
          "data": {
            "text/plain": [
              "<Figure size 432x288 with 0 Axes>"
            ]
          },
          "metadata": {}
        },
        {
          "output_type": "display_data",
          "data": {
            "text/plain": [
              "<Figure size 432x288 with 3 Axes>"
            ],
            "image/png": "[encoded data removed]"
          },
          "metadata": {
            "needs_background": "light"
          }
        }
      ]
    },
    {
      "cell_type": "code",
      "execution_count": 26,
      "metadata": {
        "id": "g3zEr_lc_zWg"
      },
      "outputs": [],
      "source": [
        "# drive.flush_and_unmount()"
      ]
    }
  ],
  "metadata": {
    "accelerator": "GPU",
    "colab": {
      "collapsed_sections": [],
      "provenance": [],
      "mount_file_id": "1ddhtWdXmsEPZ_R6M_RcfQmuzPpI2IGZ4",
      "authorship_tag": "ABX9TyM5gPzjyZahb6paWwKzdlqf",
      "include_colab_link": true
    },
    "gpuClass": "standard",
    "kernelspec": {
      "display_name": "Python 3",
      "name": "python3"
    },
    "language_info": {
      "name": "python"
    }
  },
  "nbformat": 4,
  "nbformat_minor": 0
}