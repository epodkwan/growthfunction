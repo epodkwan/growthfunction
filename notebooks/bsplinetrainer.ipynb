{
  "cells": [
    {
      "cell_type": "markdown",
      "metadata": {
        "id": "view-in-github",
        "colab_type": "text"
      },
      "source": [
        "<a href=\"https://colab.research.google.com/github/epodkwan/growthfunction/blob/main/notebooks/bsplinetrainer.ipynb\" target=\"_parent\"><img src=\"https://colab.research.google.com/assets/colab-badge.svg\" alt=\"Open In Colab\"/></a>"
      ]
    },
    {
      "cell_type": "code",
      "execution_count": 1,
      "metadata": {
        "colab": {
          "base_uri": "https://localhost:8080/"
        },
        "id": "OgZPjwP-NEwE",
        "outputId": "cc99f2d0-03a0-4d0d-fa0d-02a88463ad39"
      },
      "outputs": [
        {
          "output_type": "stream",
          "name": "stdout",
          "text": [
            "Looking in indexes: https://pypi.org/simple, https://us-python.pkg.dev/colab-wheels/public/simple/\n",
            "Requirement already satisfied: flax in /usr/local/lib/python3.7/dist-packages (0.6.0)\n",
            "Requirement already satisfied: optax in /usr/local/lib/python3.7/dist-packages (from flax) (0.1.3)\n",
            "Requirement already satisfied: numpy>=1.12 in /usr/local/lib/python3.7/dist-packages (from flax) (1.21.6)\n",
            "Requirement already satisfied: PyYAML>=5.4.1 in /usr/local/lib/python3.7/dist-packages (from flax) (6.0)\n",
            "Requirement already satisfied: rich~=11.1 in /usr/local/lib/python3.7/dist-packages (from flax) (11.2.0)\n",
            "Requirement already satisfied: jax>=0.3.16 in /usr/local/lib/python3.7/dist-packages (from flax) (0.3.17)\n",
            "Requirement already satisfied: typing-extensions>=4.1.1 in /usr/local/lib/python3.7/dist-packages (from flax) (4.1.1)\n",
            "Requirement already satisfied: matplotlib in /usr/local/lib/python3.7/dist-packages (from flax) (3.2.2)\n",
            "Requirement already satisfied: msgpack in /usr/local/lib/python3.7/dist-packages (from flax) (1.0.4)\n",
            "Requirement already satisfied: absl-py in /usr/local/lib/python3.7/dist-packages (from jax>=0.3.16->flax) (1.2.0)\n",
            "Requirement already satisfied: scipy>=1.5 in /usr/local/lib/python3.7/dist-packages (from jax>=0.3.16->flax) (1.7.3)\n",
            "Requirement already satisfied: opt-einsum in /usr/local/lib/python3.7/dist-packages (from jax>=0.3.16->flax) (3.3.0)\n",
            "Requirement already satisfied: etils[epath] in /usr/local/lib/python3.7/dist-packages (from jax>=0.3.16->flax) (0.7.1)\n",
            "Requirement already satisfied: pygments<3.0.0,>=2.6.0 in /usr/local/lib/python3.7/dist-packages (from rich~=11.1->flax) (2.6.1)\n",
            "Requirement already satisfied: commonmark<0.10.0,>=0.9.0 in /usr/local/lib/python3.7/dist-packages (from rich~=11.1->flax) (0.9.1)\n",
            "Requirement already satisfied: colorama<0.5.0,>=0.4.0 in /usr/local/lib/python3.7/dist-packages (from rich~=11.1->flax) (0.4.5)\n",
            "Requirement already satisfied: zipp in /usr/local/lib/python3.7/dist-packages (from etils[epath]->jax>=0.3.16->flax) (3.8.1)\n",
            "Requirement already satisfied: importlib_resources in /usr/local/lib/python3.7/dist-packages (from etils[epath]->jax>=0.3.16->flax) (5.9.0)\n",
            "Requirement already satisfied: cycler>=0.10 in /usr/local/lib/python3.7/dist-packages (from matplotlib->flax) (0.11.0)\n",
            "Requirement already satisfied: python-dateutil>=2.1 in /usr/local/lib/python3.7/dist-packages (from matplotlib->flax) (2.8.2)\n",
            "Requirement already satisfied: pyparsing!=2.0.4,!=2.1.2,!=2.1.6,>=2.0.1 in /usr/local/lib/python3.7/dist-packages (from matplotlib->flax) (3.0.9)\n",
            "Requirement already satisfied: kiwisolver>=1.0.1 in /usr/local/lib/python3.7/dist-packages (from matplotlib->flax) (1.4.4)\n",
            "Requirement already satisfied: six>=1.5 in /usr/local/lib/python3.7/dist-packages (from python-dateutil>=2.1->matplotlib->flax) (1.15.0)\n",
            "Requirement already satisfied: jaxlib>=0.1.37 in /usr/local/lib/python3.7/dist-packages (from optax->flax) (0.3.14+cuda11.cudnn805)\n",
            "Requirement already satisfied: chex>=0.0.4 in /usr/local/lib/python3.7/dist-packages (from optax->flax) (0.1.4)\n",
            "Requirement already satisfied: toolz>=0.9.0 in /usr/local/lib/python3.7/dist-packages (from chex>=0.0.4->optax->flax) (0.12.0)\n",
            "Requirement already satisfied: dm-tree>=0.1.5 in /usr/local/lib/python3.7/dist-packages (from chex>=0.0.4->optax->flax) (0.1.7)\n",
            "Requirement already satisfied: flatbuffers<3.0,>=1.12 in /usr/local/lib/python3.7/dist-packages (from jaxlib>=0.1.37->optax->flax) (2.0.7)\n"
          ]
        }
      ],
      "source": [
        "!pip install flax"
      ]
    },
    {
      "cell_type": "code",
      "execution_count": 36,
      "metadata": {
        "id": "GXP7APTktM23"
      },
      "outputs": [],
      "source": [
        "from functools import partial\n",
        "import sys, os\n",
        "\n",
        "os.environ['TF_CPP_MIN_LOG_LEVEL']='3'\n",
        "os.environ['XLA_PYTHON_CLIENT_PREALLOCATE']='false'\n",
        "\n",
        "sys.path.append('/content/drive/MyDrive/Colab Notebooks/growth/')\n",
        "from conf import Configuration\n",
        "from cosmology import Cosmology, SimpleLCDM, growth_integ\n",
        "from growth_mlp import Growth_MLP\n",
        "\n",
        "from typing import Sequence\n",
        "import random\n",
        "import statistics\n",
        "import jax\n",
        "import optax\n",
        "import numpy as np\n",
        "import jax.numpy as jnp\n",
        "from jax import jit, vmap, grad\n",
        "from flax import linen as nn\n",
        "from flax.training import train_state, checkpoints\n",
        "import matplotlib.pyplot as plt"
      ]
    },
    {
      "cell_type": "code",
      "execution_count": 37,
      "metadata": {
        "id": "seVyHnrBtU9a"
      },
      "outputs": [],
      "source": [
        "def npy_loader(path):\n",
        "    return jnp.load(path)"
      ]
    },
    {
      "cell_type": "code",
      "execution_count": 38,
      "metadata": {
        "id": "Wsb6hTLBtacv"
      },
      "outputs": [],
      "source": [
        "class SimpleMLP(nn.Module):\n",
        "    features:Sequence[int]\n",
        "    nodes:int\n",
        "\n",
        "    @nn.compact\n",
        "    def __call__(self, inputs):\n",
        "        x=inputs\n",
        "        for feat in self.features:\n",
        "            x=nn.Dense(feat)(x)\n",
        "            x=nn.elu(x)\n",
        "        t=nn.Dense(nodes-2)(x)\n",
        "        c=nn.Dense(nodes+1)(x)\n",
        "        t=jnp.concatenate([jnp.zeros((t.shape[0], 4)), jnp.cumsum(jax.nn.softmax(t), axis=1), jnp.ones((t.shape[0], 4))], axis=1)\n",
        "        c=jnp.concatenate([jnp.zeros((c.shape[0], 1)), c], axis=1)\n",
        "        return t, c"
      ]
    },
    {
      "cell_type": "code",
      "source": [
        "@jit\n",
        "def _deBoorVectorized(x, t, c):\n",
        "    p=3\n",
        "    k=jnp.digitize(x, t)-1\n",
        "    d=[c[j+k-p] for j in range(0, p+1)]\n",
        "    for r in range(1, p+1):\n",
        "        for j in range(p, r-1, -1):\n",
        "            alpha=(x-t[j+k-p])/(t[j+1+k-r]-t[j+k-p])\n",
        "            d[j]=(1.0-alpha)*d[j-1]+alpha*d[j]\n",
        "    return d[p]\n",
        "\n",
        "deBoor=vmap(_deBoorVectorized, in_axes=(None, 0, 0))"
      ],
      "metadata": {
        "id": "04vwJv7pMgwz"
      },
      "execution_count": 39,
      "outputs": []
    },
    {
      "cell_type": "code",
      "source": [
        "@jit\n",
        "def eval_func(params, x, a):\n",
        "    t, c=model.apply(params, x)\n",
        "    preds=deBoor(jnp.clip(a, 0, 0.99999), t, c)\n",
        "    return preds"
      ],
      "metadata": {
        "id": "fGSxL7n_Y6LA"
      },
      "execution_count": 40,
      "outputs": []
    },
    {
      "cell_type": "code",
      "source": [
        "@jit\n",
        "def D(a, cosmo):\n",
        "    conf=cosmo.conf \n",
        "    a=jnp.asarray(a, dtype=conf.cosmo_dtype)\n",
        "    D=a * jnp.interp(a, conf.growth_a, cosmo.growth[0][0])\n",
        "    D1=1 * jnp.interp(1., conf.growth_a, cosmo.growth[0][0])\n",
        "    return D/D1"
      ],
      "metadata": {
        "id": "rgmBVdmE_Ztq"
      },
      "execution_count": 41,
      "outputs": []
    },
    {
      "cell_type": "code",
      "source": [
        "@jit\n",
        "def objective_a(params, conf, a_test):\n",
        "    omegam, omegak, w0, wa=params\n",
        "    cosmo=SimpleLCDM(conf, Omega_m=omegam, Omega_k=omegak, w_0=w0, w_a=wa)\n",
        "    cosmo=growth_integ(cosmo)\n",
        "    obj=D(jnp.asarray(a_test), cosmo)\n",
        "    return obj"
      ],
      "metadata": {
        "id": "YfugSlbNL4DQ"
      },
      "execution_count": 42,
      "outputs": []
    },
    {
      "cell_type": "code",
      "source": [
        "obj_grad_a=jit(grad(objective_a, argnums=(0)))\n",
        "nc=32\n",
        "cell_size=8\n",
        "growth_anum=512\n",
        "conf=Configuration(cell_size=cell_size, mesh_shape=(nc, )*3, growth_anum=growth_anum)\n",
        "layer_sizes=[64, 64]\n",
        "nodes=8\n",
        "learning_rate=1e-5\n",
        "epochs=50000\n",
        "model=SimpleMLP(features=layer_sizes, nodes=nodes)\n",
        "temp=jnp.array([[1]])\n",
        "params=model.init(jax.random.PRNGKey(0), temp)\n",
        "tx=optax.adam(learning_rate=learning_rate)\n",
        "opt_state=tx.init(params)\n",
        "target=100"
      ],
      "metadata": {
        "id": "3OreC_-2L6le"
      },
      "execution_count": 43,
      "outputs": []
    },
    {
      "cell_type": "code",
      "execution_count": 10,
      "metadata": {
        "id": "Q4ETnEgYtiz4"
      },
      "outputs": [],
      "source": [
        "@jit\n",
        "def mse_loss(params, x, y_ref, a):\n",
        "    preds=eval_func(params, x, a)\n",
        "    diff=preds-y_ref\n",
        "    return jnp.mean(diff*diff)"
      ]
    },
    {
      "cell_type": "code",
      "execution_count": 11,
      "metadata": {
        "id": "5KYoOW_TtkmZ"
      },
      "outputs": [],
      "source": [
        "@jit\n",
        "def train_step(opt_state, params, x, y_ref, a):\n",
        "    loss, grads=jax.value_and_grad(mse_loss, argnums=0)(params, x, y_ref, a)\n",
        "    updates, opt_state=tx.update(grads, opt_state)\n",
        "    params=optax.apply_updates(params, updates)\n",
        "    return loss, params, opt_state"
      ]
    },
    {
      "cell_type": "code",
      "execution_count": 12,
      "metadata": {
        "id": "w5SOhOLwaCFU"
      },
      "outputs": [],
      "source": [
        "@jit\n",
        "def epoch_step(x_train, y_train, params, opt_state, order, a):\n",
        "    order=jax.random.permutation(jax.random.PRNGKey(i), order)\n",
        "    train_loss=0\n",
        "    for j in range(25):\n",
        "        x_batch=x_train[order[32*j:32*(j+1)], :]\n",
        "        y_batch=y_train[order[32*j:32*(j+1)], :]\n",
        "        loss, params, opt_state=train_step(opt_state, params, x_batch, y_batch, a)\n",
        "        train_loss=train_loss+loss\n",
        "    return train_loss, params"
      ]
    },
    {
      "cell_type": "code",
      "execution_count": 13,
      "metadata": {
        "id": "kspaBRb5xVKq",
        "colab": {
          "base_uri": "https://localhost:8080/"
        },
        "outputId": "585e7c39-ef5f-4c90-c277-2d0ca1cb0536"
      },
      "outputs": [
        {
          "output_type": "stream",
          "name": "stdout",
          "text": [
            "Drive already mounted at /content/drive/; to attempt to forcibly remount, call drive.mount(\"/content/drive/\", force_remount=True).\n"
          ]
        }
      ],
      "source": [
        "from google.colab import drive\n",
        "drive.mount('/content/drive/')\n",
        "os.chdir(\"/content/drive/My Drive/Colab Notebooks/\")"
      ]
    },
    {
      "cell_type": "code",
      "execution_count": 14,
      "metadata": {
        "id": "uaH8AxCAtXHD"
      },
      "outputs": [],
      "source": [
        "input_data=npy_loader(\"./lindata\"+str(target)+\"/cosmo.npy\")\n",
        "input_result=npy_loader(\"./lindata\"+str(target)+\"/combined.npy\")\n",
        "a=npy_loader(\"./lindata\"+str(target)+\"/999.npy\")[0, :]\n",
        "# input_result=jnp.log(raw_input_result)\n",
        "x_train=input_data[0:800].reshape(800, -1)\n",
        "y_train=input_result[0:800, :]\n",
        "x_validate=input_data[800:900, 0].reshape(100, -1)\n",
        "y_validate=input_result[800:900, :]"
      ]
    },
    {
      "cell_type": "code",
      "execution_count": 15,
      "metadata": {
        "id": "XBEEkIgktmtw",
        "colab": {
          "base_uri": "https://localhost:8080/",
          "height": 1000
        },
        "outputId": "c5730901-f207-4803-f7fc-ec2957db91a2"
      },
      "outputs": [
        {
          "output_type": "stream",
          "name": "stdout",
          "text": [
            "1000 1.5245496353004753e-06\n",
            "2000 6.189105845811733e-07\n",
            "3000 3.2541103361807855e-07\n",
            "4000 2.418426515620903e-07\n",
            "5000 1.957543041475235e-07\n",
            "6000 1.6798475890665793e-07\n",
            "7000 1.4563090556498963e-07\n",
            "8000 1.249427999909726e-07\n",
            "9000 1.0550958048603669e-07\n",
            "10000 9.20675325884163e-08\n",
            "11000 8.38953771963307e-08\n",
            "12000 7.070331606899555e-08\n",
            "13000 6.256330901439916e-08\n",
            "14000 5.608209516243132e-08\n",
            "15000 5.0698539442989945e-08\n",
            "16000 4.7393567145690016e-08\n",
            "17000 5.007093800706766e-08\n",
            "18000 4.8334455329726445e-08\n",
            "19000 4.733125036773681e-08\n",
            "20000 4.66139536698624e-08\n",
            "21000 4.755587739043238e-08\n",
            "22000 4.782497535679393e-08\n",
            "23000 4.153006132140786e-08\n",
            "24000 4.156926415209797e-08\n",
            "25000 3.920049507546039e-08\n",
            "26000 3.7604569982136274e-08\n",
            "27000 3.5957231728101805e-08\n",
            "28000 3.473530720016709e-08\n",
            "29000 3.357090129561425e-08\n",
            "30000 3.222086843480313e-08\n",
            "31000 3.19425610415193e-08\n",
            "32000 3.1052782575845314e-08\n",
            "33000 3.0280767063202164e-08\n",
            "34000 2.9611581485721474e-08\n",
            "35000 2.904907343827976e-08\n",
            "36000 2.8787386291532255e-08\n",
            "37000 2.8671354820237953e-08\n",
            "38000 2.851656686941944e-08\n",
            "39000 2.8190508367412574e-08\n",
            "40000 2.796972443404446e-08\n",
            "41000 2.8094872170384866e-08\n",
            "42000 2.8347052326736933e-08\n",
            "43000 2.875003990841025e-08\n",
            "44000 2.929153637262462e-08\n",
            "45000 2.9638291396284808e-08\n",
            "46000 3.8480067436396803e-08\n",
            "47000 3.640221986549173e-08\n",
            "48000 2.9824344810264425e-08\n",
            "49000 1.9359502867641288e-08\n",
            "50000 1.9243607924376115e-08\n",
            "Training ended\n"
          ]
        },
        {
          "output_type": "display_data",
          "data": {
            "text/plain": [
              "<Figure size 432x288 with 1 Axes>"
            ],
            "image/png": "[encoded data removed]"
          },
          "metadata": {
            "needs_background": "light"
          }
        }
      ],
      "source": [
        "os.chdir(\"/content/drive/My Drive/Colab Notebooks/elu/\")\n",
        "order=jnp.arange(800)\n",
        "for i in range(epochs):\n",
        "    train_loss, params=epoch_step(x_train, y_train, params, opt_state, order, a)\n",
        "    if i % 1000 == 999:\n",
        "        train_loss=train_loss/25\n",
        "        validate_loss=mse_loss(params, x_validate, y_validate, a)\n",
        "        print((i+1), validate_loss)\n",
        "        plt.scatter((i+1), train_loss, c='b')\n",
        "        plt.scatter((i+1), validate_loss, c='g')\n",
        "print(\"Training ended\")\n",
        "state=train_state.TrainState.create(apply_fn=model.apply, params=params, tx=tx)\n",
        "checkpoints.save_checkpoint(ckpt_dir=(\"./\"+str(target)+\"/\"), target=state, step=0, overwrite=True)\n",
        "plt.yscale('log')\n",
        "plt.xlabel(\"Epoch\")\n",
        "plt.ylabel(\"Loss\")\n",
        "plt.title(\"Loss function\")\n",
        "plt.legend([\"Training Loss\", \"Validation Loss\"])\n",
        "plt.savefig(\"./\"+str(target)+\"loss.png\")"
      ]
    },
    {
      "cell_type": "code",
      "source": [
        "params_class={}\n",
        "for order in range(1, 3):\n",
        "    for deriv in range(3):\n",
        "        key=\"{}{}\".format(order, deriv)\n",
        "        params_class[key]=params\n",
        "growth_fn=Growth_MLP(model, params_class)\n",
        "growth_integ_jit=jit(growth_integ)\n",
        "omega_m_test=0.1\n",
        "omega_k_test=0.\n",
        "w_0_test=-1.\n",
        "w_a_test=0.\n",
        "a_test=jnp.linspace(0., 1., 100)\n",
        "epsilon=1e-3"
      ],
      "metadata": {
        "id": "uuALbWCBYtRe"
      },
      "execution_count": 16,
      "outputs": []
    },
    {
      "cell_type": "code",
      "source": [
        "@jit\n",
        "def predict(cosmo, a):\n",
        "    return growth_fn(cosmo, a)[0, 0]"
      ],
      "metadata": {
        "id": "k0uvMeFTYdb4"
      },
      "execution_count": 17,
      "outputs": []
    },
    {
      "cell_type": "code",
      "source": [
        "@jit\n",
        "def gradient_at(cosmo, a):\n",
        "    value1, gradient=jax.value_and_grad(predict, 0)(jnp.array([cosmo]), a)\n",
        "    return value1, gradient"
      ],
      "metadata": {
        "id": "O1bCgtCqMUdK"
      },
      "execution_count": 18,
      "outputs": []
    },
    {
      "cell_type": "code",
      "source": [
        "cosmo_test=SimpleLCDM(conf, Omega_m=omega_m_test, Omega_k=omega_k_test, w_0=w_0_test, w_a=w_a_test)\n",
        "cosmo_test=growth_integ_jit(cosmo_test)\n",
        "d_data=D(a_test, cosmo_test)\n",
        "d_test=growth_fn(jnp.array([[omega_m_test]]), a_test).reshape(-1)\n",
        "# d_test=predict(params, jnp.array([[omega_m_test]]), a_test)\n",
        "discrepancy=(abs(d_test)+epsilon)/(abs(d_data)+epsilon)\n",
        "fig, (ax1, ax2, ax3)=plt.subplots(3, 1, constrained_layout=True)\n",
        "ax1.plot(a_test, d_data, label=\"Reference\")\n",
        "ax1.plot(a_test, d_test, label=\"Fitting\")\n",
        "ax1.set_ylabel(\"D\")\n",
        "ax1.legend()\n",
        "ax1.set_title(\"Value\")\n",
        "ax2.plot(a_test, discrepancy)\n",
        "ax2.set_ylabel(\"Predict/Data\")\n",
        "ax2.ticklabel_format(useOffset=False)\n",
        "ax3.plot(a_test, d_test-d_data)\n",
        "ax3.set_ylabel(\"Difference\")\n",
        "ax3.set_xlabel(\"a\")\n",
        "plt.savefig(\"./\"+str(target)+\"value.png\")"
      ],
      "metadata": {
        "colab": {
          "base_uri": "https://localhost:8080/",
          "height": 313
        },
        "id": "SUbCCT2m6p_q",
        "outputId": "0ab31070-c634-45f2-a37c-53079debd801"
      },
      "execution_count": 25,
      "outputs": [
        {
          "output_type": "display_data",
          "data": {
            "text/plain": [
              "<Figure size 432x288 with 3 Axes>"
            ],
            "image/png": "[encoded data removed]"
          },
          "metadata": {
            "needs_background": "light"
          }
        }
      ]
    },
    {
      "cell_type": "code",
      "source": [
        "a_plot=[]\n",
        "med=[]\n",
        "mean_error=[]\n",
        "std=[]\n",
        "for i in range(10):\n",
        "    plt.clf()\n",
        "    temp=[]\n",
        "    for j in range(1000):\n",
        "        d_data=input_result[j, i*28]/input_result[j, -1]\n",
        "        d_test=growth_fn(jnp.array([[input_data[j, 0]]]), a[i*28]).reshape(-1)\n",
        "        temp.append(((abs(d_test)+epsilon)/(abs(d_data)+epsilon)-1).item())\n",
        "        plt.scatter(input_data[j, 0], temp[-1], c='b')\n",
        "    plt.xlabel(\"Omega_m\")\n",
        "    plt.ylabel(\"Fractional Error\")\n",
        "    plt.title(\"Fractional Error of Cosmos (a=\"+str(np.round(a[i*28].item(), 3))+\")\")\n",
        "    plt.savefig(\"./\"+str(target)+\"error\"+str(i)+\".png\")\n",
        "    a_plot.append(a[i*28].item())\n",
        "    med.append(statistics.median(temp))\n",
        "    mean_error.append(statistics.mean(temp))\n",
        "    std.append(statistics.stdev(temp))"
      ],
      "metadata": {
        "colab": {
          "base_uri": "https://localhost:8080/",
          "height": 348
        },
        "id": "ari-7kNvmP-_",
        "outputId": "ebc3fa32-ece6-45e7-e7b8-9f2a4c4e21d1"
      },
      "execution_count": 20,
      "outputs": [
        {
          "output_type": "stream",
          "name": "stdout",
          "text": [
            "compile growth\n",
            "compile boor\n",
            "compile boor\n"
          ]
        },
        {
          "output_type": "display_data",
          "data": {
            "text/plain": [
              "<Figure size 432x288 with 1 Axes>"
            ],
            "image/png": "[encoded data removed]"
          },
          "metadata": {
            "needs_background": "light"
          }
        }
      ]
    },
    {
      "cell_type": "code",
      "source": [
        "plt.clf()\n",
        "fig, ax=plt.subplots(constrained_layout=True)\n",
        "ax.plot(a_plot, med, label=\"Median\")\n",
        "ax.errorbar(a_plot, mean_error, std, label=\"Mean\")\n",
        "# ax.set_xscale('log')\n",
        "ax.set_xlabel(\"a\")\n",
        "ax.set_ylabel(\"Fractional Error\")\n",
        "ax.set_title(\"Fractional Error\")\n",
        "ax.legend()\n",
        "plt.savefig(\"./\"+str(target)+\"centralerror.png\")"
      ],
      "metadata": {
        "id": "iXtPDjF2Hlmx",
        "colab": {
          "base_uri": "https://localhost:8080/",
          "height": 330
        },
        "outputId": "0cf2ece4-f943-46ac-bc9c-e598fc7ee5f9"
      },
      "execution_count": 21,
      "outputs": [
        {
          "output_type": "display_data",
          "data": {
            "text/plain": [
              "<Figure size 432x288 with 0 Axes>"
            ]
          },
          "metadata": {}
        },
        {
          "output_type": "display_data",
          "data": {
            "text/plain": [
              "<Figure size 432x288 with 1 Axes>"
            ],
            "image/png": "[encoded data removed]"
          },
          "metadata": {
            "needs_background": "light"
          }
        }
      ]
    },
    {
      "cell_type": "code",
      "source": [
        "plt.clf()\n",
        "cosmo_test=[omega_m_test, omega_k_test, w_0_test, w_a_test]\n",
        "grad_ref=[]\n",
        "grad_test=[]\n",
        "for i in a_test:\n",
        "    value, grad=gradient_at([omega_m_test], i)\n",
        "    grad_test.append(grad)\n",
        "    grad_ref.append(obj_grad_a(cosmo_test, conf, i)[0])\n",
        "grad_ref=np.array(grad_ref).reshape(-1)\n",
        "grad_test=np.array(grad_test).reshape(-1)\n",
        "discrepancy=(abs(grad_test)+epsilon)/(abs(grad_ref)+epsilon)\n",
        "fig, (ax1, ax2, ax3)=plt.subplots(3, 1, constrained_layout=True)\n",
        "ax1.plot(a_test, grad_ref, label=\"Reference\")\n",
        "ax1.plot(a_test, grad_test, label=\"Neural Network\")\n",
        "ax1.legend()\n",
        "ax1.set_title(\"Gradient\")\n",
        "ax2.plot(a_test, discrepancy)\n",
        "ax2.set_ylabel(\"Predict/Data\")\n",
        "ax2.ticklabel_format(useOffset=False)\n",
        "ax3.plot(a_test, grad_test-grad_ref)\n",
        "ax3.set_ylabel(\"Difference\")\n",
        "ax3.set_xlabel(\"a\")\n",
        "plt.savefig(\"./\"+str(target)+\"gradient.png\")"
      ],
      "metadata": {
        "colab": {
          "base_uri": "https://localhost:8080/",
          "height": 330
        },
        "id": "8NwZwYE5sT1e",
        "outputId": "e8af40a2-7bc9-425d-bdd2-aa81d63d2291"
      },
      "execution_count": 44,
      "outputs": [
        {
          "output_type": "display_data",
          "data": {
            "text/plain": [
              "<Figure size 432x288 with 0 Axes>"
            ]
          },
          "metadata": {}
        },
        {
          "output_type": "display_data",
          "data": {
            "text/plain": [
              "<Figure size 432x288 with 3 Axes>"
            ],
            "image/png": "[encoded data removed]"
          },
          "metadata": {
            "needs_background": "light"
          }
        }
      ]
    },
    {
      "cell_type": "code",
      "source": [
        "max_error=[]\n",
        "for i in range(100):\n",
        "    if (input_data[i, 0]>=0.1) and (input_data[i, 0]<=0.5):\n",
        "        discrepancy=[]\n",
        "        for j in a_test[25:]:\n",
        "            value, grad_test=gradient_at([input_data[i, 0]], j)\n",
        "            grad_ref=obj_grad_a([input_data[i, 0], omega_k_test, w_0_test, w_a_test], conf, j)[0]\n",
        "            discrepancy.append(abs((abs(grad_test)+epsilon)/(abs(grad_ref)+epsilon)-1))\n",
        "        # for j in range(225, 256):\n",
        "        #     value1, gradient_pred=gradient_at(i, a[j])\n",
        "        #     discrepancy.append(gradient_pred[0, 0]-gradient_test[j])\n",
        "        max_error=jnp.max(np.array(discrepancy))\n",
        "        plt.scatter(input_data[i, 0], max_error, color='b')\n",
        "plt.title(\"Max Error\")\n",
        "plt.xlabel(\"Omega_m\")\n",
        "plt.ylabel(\"Fractional Error\")\n",
        "plt.ticklabel_format(useOffset=False)\n",
        "plt.savefig(\"./\"+str(target)+\"maxerror.png\")"
      ],
      "metadata": {
        "id": "UI9LdlimNket",
        "colab": {
          "base_uri": "https://localhost:8080/"
        },
        "outputId": "6205e2e2-51d6-4bce-edca-cf1950073c33"
      },
      "execution_count": null,
      "outputs": [
        {
          "output_type": "stream",
          "name": "stdout",
          "text": [
            "0.5387699498927752\n",
            "0.5751618873227101\n",
            "0.2261814024368468\n",
            "0.09402464447244441\n",
            "0.4451401157384298\n",
            "0.28513216500520766\n",
            "0.26990531033831855\n",
            "0.0690347407206664\n",
            "0.51725487323209\n",
            "0.7079347355734646\n",
            "0.5598170269896792\n",
            "0.44414483073167865\n",
            "0.08003093031793163\n",
            "0.1500536139482559\n",
            "0.5067819657180272\n",
            "0.369125723560793\n",
            "0.5098630430814307\n",
            "0.46731472118373696\n",
            "0.06733295864523581\n",
            "0.1477637322948251\n",
            "1.185480294030059\n",
            "0.4894136536409728\n",
            "0.10681257528212207\n",
            "0.2743835883340521\n",
            "0.4448412929365252\n",
            "0.147057235918861\n",
            "0.12076388529493443\n",
            "0.5126878609667356\n",
            "0.340017172585505\n",
            "0.46055483420803744\n",
            "0.4573213006065038\n",
            "0.5124303255876148\n",
            "0.08611996907412611\n",
            "0.4016485481385894\n",
            "0.29516578976322816\n",
            "1.1698393916581518\n",
            "0.47578318674211206\n",
            "0.33182897658084665\n",
            "0.4756686959022537\n",
            "0.5472051429305964\n",
            "0.3171810309340609\n",
            "0.14694754137081367\n",
            "0.21090273631548118\n",
            "0.6997327277600558\n",
            "0.533271862254004\n",
            "0.9852446268819222\n",
            "0.42455971195742703\n",
            "1.251977824177699\n",
            "0.09000225901406811\n",
            "0.7049185568544463\n",
            "0.3363794617147564\n",
            "0.7169709509969937\n",
            "0.4580310320337009\n",
            "0.28508436043439533\n",
            "0.5551243414933584\n",
            "0.07394054803628936\n",
            "0.4832225056378995\n",
            "0.39171799688623854\n",
            "0.2661034795690401\n",
            "0.058630322658530076\n",
            "0.5111947213629967\n",
            "1.2763528105616042\n"
          ]
        }
      ]
    },
    {
      "cell_type": "code",
      "source": [
        "# drive.flush_and_unmount()"
      ],
      "metadata": {
        "id": "g3zEr_lc_zWg"
      },
      "execution_count": null,
      "outputs": []
    }
  ],
  "metadata": {
    "accelerator": "GPU",
    "colab": {
      "collapsed_sections": [],
      "provenance": [],
      "mount_file_id": "1GoW5s-SXE1CKoSe7GIH-05UVNkXfycEO",
      "authorship_tag": "ABX9TyPY6fmvknWqVN7ei4BkX6Wi",
      "include_colab_link": true
    },
    "gpuClass": "standard",
    "kernelspec": {
      "display_name": "Python 3",
      "name": "python3"
    },
    "language_info": {
      "name": "python"
    }
  },
  "nbformat": 4,
  "nbformat_minor": 0
}